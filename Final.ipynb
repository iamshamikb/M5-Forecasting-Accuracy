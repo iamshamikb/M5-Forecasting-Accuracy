{
 "cells": [
  {
   "cell_type": "code",
   "execution_count": 1,
   "metadata": {},
   "outputs": [],
   "source": [
    "import pandas as pd\n",
    "import calendar\n",
    "from datetime import datetime\n",
    "import numpy as np\n",
    "import matplotlib.pyplot as plt\n",
    "from sklearn.preprocessing import LabelEncoder\n",
    "import joblib\n",
    "from sklearn.metrics import mean_squared_error as mse\n",
    "import sys\n",
    "\n",
    "\n",
    "def get_csv(X):\n",
    "    return pd.read_csv(path+X)\n",
    "\n",
    "path = 'C:/Users/iamsh/Desktop/CS1 Kaggle Files/Given Files/'\n",
    "path=''\n",
    "\n",
    "calender, sales_train_ev, sales_train_val = get_csv('calendar.csv'), get_csv('sales_train_evaluation.csv'),\\\n",
    "                                                         get_csv('sales_train_validation.csv')\n",
    "\n",
    "\n",
    "def feature_engineer_deploy(df, item_id):\n",
    "    day_columns = list(df.columns[len(df.columns)-28:])\n",
    "    other_var = list(df.columns[:6])\n",
    "    \n",
    "    df = pd.melt(df, id_vars = other_var, value_vars = day_columns)\n",
    "    df = df.rename(columns = {\"variable\": \"d\", \"value\": \"unit_sale\"})\n",
    "    # print(df.shape)\n",
    "\n",
    "    cal_dict = dict(zip(calender.d,calender.date))\n",
    "    df[\"date\"] = df[\"d\"].map(cal_dict)\n",
    "    # df.head()\n",
    "    \n",
    "    day_of_week_dict = dict(zip(calender.d,calender.wday))\n",
    "    df['day_of_week'] = df[\"d\"].map(day_of_week_dict)\n",
    "\n",
    "    month_no_dict = dict(zip(calender.d,calender.month))\n",
    "    df['month_no'] = df[\"d\"].map(month_no_dict)\n",
    "\n",
    "    l = [i[-2:] for i in list(calender.date)]\n",
    "    calender['day_of_month'] = l\n",
    "\n",
    "    day_of_month_dict = dict(zip(calender.d,calender.day_of_month))\n",
    "    df['day_of_month'] = df[\"d\"].map(day_of_month_dict)\n",
    "    \n",
    "    df['day_of_month'] = df['day_of_month'].fillna(0)\n",
    "    df = df.astype({'day_of_month': 'int32'})                   # Making day_of_month column as int\n",
    "    df['date'] = df['date'].astype(str)\n",
    "    \n",
    "    if bool(len(df[df.id == item_id])):\n",
    "        df = df[df.id == item_id]\n",
    "    else:\n",
    "        sys.exit('Try different item id, this item_id is non existent.') \n",
    "    y_test = df.unit_sale\n",
    "    df = df.drop('unit_sale', 1)\n",
    "    X_test = df\n",
    "    return X_test, y_test\n",
    "\n",
    "non_numeric_col_list = ['id','item_id','dept_id','cat_id','store_id','state_id','d', 'date']\n",
    "\n",
    "# Encoding Categorical Columns\n",
    "def encode_for_deploy(le, new_df):           \n",
    "    for i in range(len(non_numeric_col_list)):\n",
    "        new_df[non_numeric_col_list[i]] = le[i].transform( new_df[non_numeric_col_list[i]] )\n",
    "    return new_df"
   ]
  },
  {
   "cell_type": "code",
   "execution_count": 11,
   "metadata": {},
   "outputs": [],
   "source": [
    "def final(item_id):\n",
    "    evaluation, validation = bool(item_id.find('evaluation')+1), bool(item_id.find('validation')+1)\n",
    "    \n",
    "    if evaluation:\n",
    "        df = sales_train_ev.copy()\n",
    "        X_test, y_test = feature_engineer_deploy(df, item_id)\n",
    "        \n",
    "        dept = X_test.dept_id.iloc[0]\n",
    "        le = joblib.load('le_Eval_'+dept+'.pkl')\n",
    "        model = joblib.load('Eval_'+str(dept)+'.pkl')\n",
    "    \n",
    "    if validation:\n",
    "        df = sales_train_val.copy()\n",
    "        X_test, y_test = feature_engineer_deploy(df, item_id)\n",
    "        \n",
    "        dept = X_test.dept_id.iloc[0]\n",
    "        le = joblib.load('le_Val_'+dept+'.pkl')\n",
    "        model = joblib.load('Val_'+str(dept)+'.pkl')\n",
    "    \n",
    "    X_test = encode_for_deploy(le, X_test)\n",
    "    predicted = model.predict(X_test)\n",
    "    \n",
    "    return predicted\n",
    "#     return predicted, y_test"
   ]
  },
  {
   "cell_type": "markdown",
   "metadata": {},
   "source": [
    "In this section we predict next 28 days unit sales for given item id. \n",
    "<br>If the item is from eval data the 28 days correspond to 1914 to 1941\n",
    "<br>If the item is from val data the 28 days correspond to 1886 to 1913"
   ]
  },
  {
   "cell_type": "code",
   "execution_count": 12,
   "metadata": {},
   "outputs": [
    {
     "name": "stdout",
     "output_type": "stream",
     "text": [
      "CPU times: user 1.83 s, sys: 200 ms, total: 2.04 s\n",
      "Wall time: 1.53 s\n"
     ]
    }
   ],
   "source": [
    "%%time\n",
    "predicted = final('HOBBIES_2_100_WI_1_evaluation')"
   ]
  },
  {
   "cell_type": "code",
   "execution_count": 13,
   "metadata": {},
   "outputs": [
    {
     "data": {
      "text/plain": [
       "array([0.31189659, 0.29574161, 0.27629394, 0.28537623, 0.35432811,\n",
       "       0.4250914 , 0.46891706, 0.34481477, 0.33811694, 0.37868251,\n",
       "       0.36617865, 0.46026329, 0.46846616, 0.47983339, 0.3313768 ,\n",
       "       0.34917055, 0.33763268, 0.37579379, 0.40735598, 0.47864396,\n",
       "       0.51433375, 0.36263476, 0.39386907, 0.3752295 , 0.38086602,\n",
       "       0.41847144, 0.41626941, 0.39642796])"
      ]
     },
     "execution_count": 13,
     "metadata": {},
     "output_type": "execute_result"
    }
   ],
   "source": [
    "predicted"
   ]
  },
  {
   "cell_type": "markdown",
   "metadata": {},
   "source": [
    "In this cell we slightly modified the final function to plot the predictions and actuals for the item id. Also we printed\n",
    "the MSE."
   ]
  },
  {
   "cell_type": "code",
   "execution_count": 10,
   "metadata": {},
   "outputs": [
    {
     "name": "stdout",
     "output_type": "stream",
     "text": [
      "MSE: 0.6616029988388477\n"
     ]
    },
    {
     "data": {
      "image/png": "[encoded data removed]",
      "text/plain": [
       "<Figure size 720x216 with 1 Axes>"
      ]
     },
     "metadata": {
      "needs_background": "light"
     },
     "output_type": "display_data"
    }
   ],
   "source": [
    "# predicted, y_test = final('HOBBIES_2_100_WI_1_evaluation')\n",
    "\n",
    "# mse_score = mse(predicted, y_test)\n",
    "# print('MSE:',mse_score)\n",
    "# plt.figure(figsize=(10,3))\n",
    "# plt.plot(list(predicted))\n",
    "# plt.plot(list(y_test))\n",
    "# plt.xlabel('Days')\n",
    "# plt.ylabel('Units sold')\n",
    "# plt.legend(['Predicted', 'Real'])\n",
    "# plt.title('Predictions vs Real')\n",
    "# plt.show() "
   ]
  },
  {
   "cell_type": "markdown",
   "metadata": {},
   "source": [
    "This final function only returns the MSE given the item id."
   ]
  },
  {
   "cell_type": "code",
   "execution_count": 14,
   "metadata": {},
   "outputs": [],
   "source": [
    "def final(item_id):\n",
    "    evaluation, validation = bool(item_id.find('evaluation')+1), bool(item_id.find('validation')+1)\n",
    "    \n",
    "    if evaluation:\n",
    "        df = sales_train_ev.copy()\n",
    "        X_test, y_test = feature_engineer_deploy(df, item_id)\n",
    "        \n",
    "        dept = X_test.dept_id.iloc[0]\n",
    "        le = joblib.load('le_Eval_'+dept+'.pkl')\n",
    "        model = joblib.load('Eval_'+str(dept)+'.pkl')\n",
    "    \n",
    "    if validation:\n",
    "        df = sales_train_val.copy()\n",
    "        X_test, y_test = feature_engineer_deploy(df, item_id)\n",
    "        \n",
    "        dept = X_test.dept_id.iloc[0]\n",
    "        le = joblib.load('le_Val_'+dept+'.pkl')\n",
    "        model = joblib.load('Val_'+str(dept)+'.pkl')\n",
    "    \n",
    "    X_test = encode_for_deploy(le, X_test)\n",
    "    predicted = model.predict(X_test)\n",
    "    \n",
    "    return mse(predicted, y_test)"
   ]
  },
  {
   "cell_type": "code",
   "execution_count": 15,
   "metadata": {},
   "outputs": [
    {
     "data": {
      "text/plain": [
       "0.6616029988388477"
      ]
     },
     "execution_count": 15,
     "metadata": {},
     "output_type": "execute_result"
    }
   ],
   "source": [
    "final('HOBBIES_2_100_WI_1_evaluation')"
   ]
  },
  {
   "cell_type": "code",
   "execution_count": null,
   "metadata": {},
   "outputs": [],
   "source": [
    "#############################################################################################################################"
   ]
  },
  {
   "cell_type": "code",
   "execution_count": null,
   "metadata": {},
   "outputs": [],
   "source": []
  }
 ],
 "metadata": {
  "kernelspec": {
   "display_name": "Python 3",
   "language": "python",
   "name": "python3"
  },
  "language_info": {
   "codemirror_mode": {
    "name": "ipython",
    "version": 3
   },
   "file_extension": ".py",
   "mimetype": "text/x-python",
   "name": "python",
   "nbconvert_exporter": "python",
   "pygments_lexer": "ipython3",
   "version": "3.8.3"
  },
  "toc": {
   "base_numbering": 1,
   "nav_menu": {},
   "number_sections": true,
   "sideBar": true,
   "skip_h1_title": false,
   "title_cell": "Table of Contents",
   "title_sidebar": "Contents",
   "toc_cell": false,
   "toc_position": {},
   "toc_section_display": true,
   "toc_window_display": false
  }
 },
 "nbformat": 4,
 "nbformat_minor": 4
}
