{
 "cells": [
  {
   "cell_type": "markdown",
   "metadata": {},
   "source": [
    "Machine used - Paperspace Gradient Free\n",
    "    <br>CPU Intel Xeon 8 vCPUs 2.60 GHz Host memory 30 GB\n",
    "    <br>GPU 8 GB Quadro M4000"
   ]
  },
  {
   "cell_type": "code",
   "execution_count": null,
   "metadata": {},
   "outputs": [],
   "source": [
    "# New\n",
    "# Models and scores\n",
    "# Total no of submissions this competition has got is 5558\n",
    "#           Private   Public   Private_Rank   In_top%\n",
    "# ML models\n",
    "# 'M0.1' :  5.09      5.16\n",
    "# 'M0.2' :  2.67      2.84\n",
    "\n",
    "# 'M3.1' :  0.91      0.86     1980         35.62%\n",
    "# 'M3.2' :  0.91      0.94\n",
    "# 'M3.3' :  0.85      0.91\n",
    "# 'M3.4' :  0.89      0.94\n",
    "# 'M3.5' :  0.94      0.86\n",
    "# 'M3.6' :  0.87      0.88\n",
    "\n",
    "# 'M4.1' :  4.90      4.99\n",
    "# 'M4.2' :  4.90      5.29\n",
    "\n",
    "# 'M5.1' :  0.84      1.26      \n",
    "# 'M5.2' :  0.95      1.11\n",
    "# 'M5.3' :  5.05      4.93\n",
    "\n",
    "# 'M7.1' :  0.73      0.92      757          13.62%\n",
    "# 'M7.2' :  0.94      1.08      2150         37.78%\n",
    "\n",
    "\n",
    "# Neural network models\n",
    "# NN M3  :  1.12      0.99\n",
    "# NN M4  :  0.82      1.21      1933         34%\n",
    "# NN M5  :  1.90      1.70\n",
    "# NN M6  :  3.58      4.30"
   ]
  },
  {
   "cell_type": "markdown",
   "metadata": {},
   "source": [
    "## Fetching Data, Imports, Load CSV"
   ]
  },
  {
   "cell_type": "code",
   "execution_count": 1,
   "metadata": {
    "jupyter": {
     "outputs_hidden": true
    },
    "scrolled": true
   },
   "outputs": [],
   "source": [
    "# !wget --header=\"Host: storage.googleapis.com\" --header=\"User-Agent: Mozilla/5.0 (Windows NT 10.0; Win64; x64) AppleWebKit/537.36 (KHTML, like Gecko) Chrome/86.0.4240.193 Safari/537.36\" --header=\"Accept: text/html,application/xhtml+xml,application/xml;q=0.9,image/avif,image/webp,image/apng,*/*;q=0.8,application/signed-exchange;v=b3;q=0.9\" --header=\"Accept-Language: en-IN,en-GB;q=0.9,en-US;q=0.8,en;q=0.7\" --header=\"Referer: https://www.kaggle.com/\" \"https://storage.googleapis.com/kaggle-competitions-data/kaggle-v2/18599/1236839/bundle/archive.zip?GoogleAccessId=web-data@kaggle-161607.iam.gserviceaccount.com&Expires=1605342864&Signature=EnlHY9DVWLCrCG3Pq5%2BgOpZ5ci%2Bl%2FKz0BEsVVDVArUb9SJLMH24iEQ%2FwF3dELdUj1IoUWxhz7%2BRUaMJDLEoMfoHH28pWgcH0BpHwpC6ODo9dgw8gT5rEJJ%2FerJQW7ALQHxRT2OlMDjYgKZuqlO0D53K9iUjqbHcRwNTR0aOlAyB7coNuJfVfUOCyQhksene0O1rNi4FlUOpSLWcbe9IogPeeOGDLFGmdiS1wHVo4H5cVrNgcuehj8PcSTLZU9UbE7oHRacs8jUz7CKUPU3NgEQ76eWcvb%2Bu46rBWJvu%2BD51fq%2BX0me7ysMizf0HQ7xLoTLTqc7loAqaaW3hEy3k5sw%3D%3D&response-content-disposition=attachment%3B+filename%3Dm5-forecasting-accuracy.zip\" -c -O 'm5-forecasting-accuracy.zip'"
   ]
  },
  {
   "cell_type": "code",
   "execution_count": 5,
   "metadata": {
    "id": "aI0Ucqk1TIui"
   },
   "outputs": [],
   "source": [
    "# !unzip m5-forecasting-accuracy.zip\n",
    "\n",
    "# !apt-get update\n",
    "# !apt-get install wget\n",
    "\n",
    "# ! pip install pandas\n",
    "# ! pip install calender\n",
    "# ! pip install numpy\n",
    "# ! pip install datetime\n",
    "# ! pip install matplotlib\n",
    "# ! pip install collections\n",
    "# ! pip install random\n",
    "# ! pip install tqdm\n",
    "# ! pip install sklearn\n",
    "# ! pip install lightgbm"
   ]
  },
  {
   "cell_type": "code",
   "execution_count": 1,
   "metadata": {
    "id": "CD1ZprJU8lLL"
   },
   "outputs": [],
   "source": [
    "from IPython.display import clear_output \n",
    "import pandas as pd\n",
    "import calendar\n",
    "from datetime import datetime\n",
    "import numpy as np\n",
    "import matplotlib.pyplot as plt\n",
    "from collections import OrderedDict\n",
    "import random\n",
    "from tqdm import tqdm\n",
    "from sklearn.model_selection import train_test_split\n",
    "from sklearn.preprocessing import LabelEncoder\n",
    "from IPython.display import clear_output as cclear\n",
    "from sklearn.metrics import mean_squared_error as mse\n",
    "from lightgbm import LGBMRegressor\n",
    "from sklearn.model_selection import RandomizedSearchCV, GridSearchCV\n",
    "from sklearn.metrics import make_scorer\n",
    "import lightgbm as lgb\n",
    "from math import sqrt\n",
    "from itertools import zip_longest\n",
    "from scipy.stats import randint as sp_randint\n",
    "from scipy.stats import uniform as sp_randFloat\n",
    "import joblib\n",
    "import xgboost as xgb\n",
    "\n",
    "def get_csv(X):\n",
    "    return pd.read_csv(X)\n",
    "\n",
    "calender, sales_train_ev, sales_train_val, sell_prices, samp_sub = get_csv('calendar.csv'), \\\n",
    "                          get_csv('sales_train_evaluation.csv'), \\\n",
    "                          get_csv('sales_train_validation.csv'), get_csv('sell_prices.csv'), \\\n",
    "                          get_csv('sample_submission.csv')"
   ]
  },
  {
   "cell_type": "markdown",
   "metadata": {
    "id": "F53r6WsS90i1"
   },
   "source": [
    "## Training Functions"
   ]
  },
  {
   "cell_type": "code",
   "execution_count": null,
   "metadata": {},
   "outputs": [],
   "source": [
    "# (1941-28), (1941-28-28), (1941-28-28-28)\n",
    "# 1858 [56619930] to 1885 [57446208]\n",
    "# 1886 [57446209] to 1913 [58299928]\n",
    "# 1914 [58299929] to 1941 [59153648]\n",
    "\n",
    "# X_train = X.iloc[0:(3049*1857)]\n",
    "# X_test = X.iloc[(3049*1857):(3049*1885)]\n",
    "\n",
    "# X_train = X.iloc[0:(3049*1885)]\n",
    "# X_test = X.iloc[(3049*1885):(3049*1913)]\n",
    "\n",
    "# X_train = X.iloc[0:(3049*1913)]\n",
    "# X_test = X.iloc[(3049*1913):]"
   ]
  },
  {
   "cell_type": "code",
   "execution_count": 2,
   "metadata": {},
   "outputs": [],
   "source": [
    "non_numeric_col_list = ['id','item_id','dept_id','cat_id','store_id','state_id','d', 'date']\n",
    "store_dict = {'CA_1':0, 'CA_2':0, 'CA_3':0, 'CA_4':0, 'WI_1':0, 'WI_2':0, 'WI_3':0, 'TX_1':0, 'TX_2':0, 'TX_3':0}\n",
    "\n",
    "\n",
    "# This function does feature engineering on sales_train_ev or sales_train_val\n",
    "# There is another feature engineering function for adding columns to dataframe containing rows of only onw store\n",
    "def feature_engineer(df):\n",
    "    day_columns = list(df.columns[6:])\n",
    "    other_var = list(df.columns[:6])\n",
    "    \n",
    "    print('Melting out...')\n",
    "    df = pd.melt(df, id_vars = other_var, value_vars = day_columns)\n",
    "    df = df.rename(columns = {\"variable\": \"d\", \"value\": \"unit_sale\"})\n",
    "    # print(df.shape)\n",
    "    \n",
    "    print('Adding Feature \\'date\\'...')\n",
    "    cal_dict = dict(zip(calender.d,calender.date))\n",
    "    df[\"date\"] = df[\"d\"].map(cal_dict)\n",
    "    # df.head()\n",
    "    \n",
    "    print('Adding Feature \\'day_of_week\\'...')\n",
    "    day_of_week_dict = dict(zip(calender.d,calender.wday))\n",
    "    df['day_of_week'] = df[\"d\"].map(day_of_week_dict)\n",
    "\n",
    "    print('Adding Feature \\'month_no\\'...')\n",
    "    month_no_dict = dict(zip(calender.d,calender.month))\n",
    "    df['month_no'] = df[\"d\"].map(month_no_dict)\n",
    "    \n",
    "    print('Adding Feature \\'day_of_month\\'...')\n",
    "    l = [i[-2:] for i in list(calender.date)]\n",
    "    calender['day_of_month'] = l\n",
    "    \n",
    "    day_of_month_dict = dict(zip(calender.d,calender.day_of_month))\n",
    "    df['day_of_month'] = df[\"d\"].map(day_of_month_dict)\n",
    "    \n",
    "    print('Done.')\n",
    "    return df\n",
    "\n",
    "def add_moving_avg_col(new_df,N, col_name):\n",
    "    l = np.convolve(list(new_df[col_name]), np.ones((N,))/N, mode='valid')\n",
    "    nl = [0]*(N-1)\n",
    "    nl.extend(list(l))\n",
    "    new_df[str(N)+'_d_mavg_'+str(col_name)] = nl\n",
    "    return new_df\n",
    "\n",
    "\n",
    "def event1_check(index):\n",
    "    # Input is 0 to 1968, it is the index of Calender.CSV\n",
    "    # Output is True if there is event 1, False if no event 1\n",
    "    return not(calender.event_name_1[index] != calender.event_name_1[index])\n",
    "\n",
    "def event2_check(index):\n",
    "    # Input is 0 to 1968, it is the index of Calender.CSV\n",
    "    # Output is True if there is event 2, False if no event 2\n",
    "    return not(calender.event_name_2[index] != calender.event_name_2[index])\n",
    "\n",
    "days_with_event = []\n",
    "for i in range(len(calender)):\n",
    "    days_with_event.append(event1_check(i)) or (event2_check(i))\n",
    "    \n",
    "l = [int(i) for i in days_with_event]\n",
    "event_dict = dict(zip(calender.d, l))\n",
    "\n",
    "week_no_d_dict = dict(zip(calender.wm_yr_wk, calender.d))\n",
    "sell_prices['d'] = sell_prices['wm_yr_wk'].map(week_no_d_dict)\n",
    "sell_prices['item_d_col'] = sell_prices['item_id'] + sell_prices['d']\n",
    "sale_price_dict = dict(zip(sell_prices['item_d_col'], sell_prices['sell_price']))\n",
    "\n",
    "sell_prices = sell_prices.drop('d', 1)\n",
    "sell_prices = sell_prices.drop('item_d_col', 1)\n",
    "\n",
    "\n",
    "def one_feature_engineering_fun(df):\n",
    "    snap_dict = dict(zip(calender.d, calender['snap_'+df.state_id.iloc[0]]))   # Add snap or not column\n",
    "    df['snap_or_not'] = df[\"d\"].map(snap_dict)\n",
    "    print('snap added')\n",
    "    \n",
    "    df['event_or_not'] = df[\"d\"].map(event_dict)    # Adding event or not column\n",
    "    print('events added')\n",
    "    \n",
    "    df['item_d_col'] = df['item_id'] + df['d']      # Adding sale_price column\n",
    "    df['sale_price'] = df['item_d_col'].map(sale_price_dict)\n",
    "    df['sale_price'] = df['sale_price'].fillna(0)\n",
    "    print('sale prices added')\n",
    "    \n",
    "    df = df.drop('item_d_col', 1)                   # Undoing the columns we had to add\n",
    "    \n",
    "    df['Total_sale'] = df.unit_sale * df.sale_price  # Adding total sale column\n",
    "    \n",
    "    df = add_moving_avg_col(df,7, 'sale_price')     # Adding moving averages for sale price\n",
    "    df = add_moving_avg_col(df,14, 'sale_price')\n",
    "    df = add_moving_avg_col(df,30, 'sale_price')\n",
    "    df = add_moving_avg_col(df,60, 'sale_price')\n",
    "    df = add_moving_avg_col(df,180, 'sale_price')\n",
    "                 \n",
    "    df['day_of_month'] = df['day_of_month'].fillna(0)\n",
    "    df = df.astype({'day_of_month': 'int32'})      # Making day_of_month column as int\n",
    "    \n",
    "    df['date'] = df['date'].astype(str)\n",
    "    \n",
    "    df = add_moving_avg_col(df,7, 'unit_sale')     # Adding moving average columns\n",
    "    df = add_moving_avg_col(df,14, 'unit_sale')\n",
    "    df = add_moving_avg_col(df,30, 'unit_sale')\n",
    "    df = add_moving_avg_col(df,60, 'unit_sale')\n",
    "    df = add_moving_avg_col(df,180, 'unit_sale')\n",
    "    print('Total sale and Unit sale moving averages added')\n",
    "    \n",
    "    l1 = df.day_of_week == 1                       # we are adding an weekend or not column\n",
    "    l2 = df.day_of_week == 2\n",
    "\n",
    "    l1 = np.logical_or(l1,l2)\n",
    "    l1 = [elem*1 for elem in l1]\n",
    "    df['weekend'] = l1\n",
    "    print('Weekends added')\n",
    "    \n",
    "    return df\n",
    "\n",
    "\n",
    "def encode_cat_cols(new_df):\n",
    "    le = [0]*len(non_numeric_col_list)             # Encoding Categorical Columns\n",
    "    for i in range(len(non_numeric_col_list)):\n",
    "        print(\"Encoding col: \", non_numeric_col_list[i])\n",
    "        le[i] = LabelEncoder()\n",
    "        new_df[non_numeric_col_list[i]] = le[i].fit_transform( new_df[non_numeric_col_list[i]] )\n",
    "    return le, new_df\n",
    "\n",
    "# This function takes sales_train_ev or sales_train_val after feature_engineer() function has been called on them\n",
    "# and returns X, y and labelencoder after adding few more columns and encoding categorical features.\n",
    "def get_X_and_y(df, store_name):               \n",
    "    print('Store Name:', store_name)\n",
    "    new_df = df[df.store_id == store_name]        # Selecting rows for the selected store\n",
    "    \n",
    "    print('Store rows picked now working on adding columns...')\n",
    "    new_df = one_feature_engineering_fun(new_df)     # working on adding more columns and changing datatype of columns\n",
    "    \n",
    "    y = new_df.unit_sale                          # getting the label\n",
    "    new_df = new_df.drop('unit_sale', axis=1)\n",
    "    \n",
    "    print('Encoding categorical features...')\n",
    "    le, new_df = encode_cat_cols(new_df)          # Encoding Categorical Columns\n",
    "\n",
    "    X = new_df\n",
    "    \n",
    "    return X, y, le\n",
    "\n",
    "# This function gets X and y but doesnt add any more features than already added in feature_engineer()\n",
    "def get_X_and_y_withou_adding_more_features(df, store_name):               \n",
    "    print('Store Name:', store_name)\n",
    "    new_df = df[df.store_id == store_name]        # Selecting rows for the selected store\n",
    "    \n",
    "    new_df['day_of_month'] = new_df['day_of_month'].fillna(0)\n",
    "    new_df = new_df.astype({'day_of_month': 'int32'})      # Making day_of_month column as int\n",
    "    new_df['date'] = new_df['date'].astype(str)\n",
    "    \n",
    "    y = new_df.unit_sale                          # getting the label\n",
    "    new_df = new_df.drop('unit_sale', axis=1)\n",
    "    \n",
    "    print('Encoding categorical features...')\n",
    "    le, new_df = encode_cat_cols(new_df)          # Encoding Categorical Columns\n",
    "\n",
    "    X = new_df\n",
    "    \n",
    "    return X, y, le\n",
    "\n",
    "\n",
    "# Functions in below this are used to change to data back to previuos form undoing long-form\n",
    "\n",
    "# This function can be called to get prediction and mse for one single store\n",
    "def mse_and_out_df(df, store_name):  # df is either sales_train_ev or sales_train_val. Store name in one of 10 stores.\n",
    "    le, X_test, y_test, train_out = fit_fun_2(df, store_name)\n",
    "    train_rmse = sqrt(mse(y_test, train_out))\n",
    "    out_df = reverse_long_form(le, X_test, train_out)\n",
    "    \n",
    "    return train_rmse, out_df\n",
    "\n",
    "# def training_function(df):\n",
    "#     main_out_df = pd.DataFrame()\n",
    "#     _, out_df1 = mse_and_out_df(df, 'CA_1')\n",
    "#     _, out_df2 = mse_and_out_df(df, 'CA_2')\n",
    "#     _, out_df3 = mse_and_out_df(df, 'CA_3')\n",
    "#     _, out_df4 = mse_and_out_df(df, 'CA_4')\n",
    "\n",
    "#     _, out_df5 = mse_and_out_df(df, 'WI_1')\n",
    "#     _, out_df6 = mse_and_out_df(df, 'WI_2')\n",
    "#     _, out_df7 = mse_and_out_df(df, 'WI_3')\n",
    "\n",
    "#     _, out_df8 = mse_and_out_df(df, 'TX_1')\n",
    "#     _, out_df9 = mse_and_out_df(df, 'TX_2')\n",
    "#     _, out_df10 = mse_and_out_df(df, 'TX_3')\n",
    "    \n",
    "#     main_out_df = pd.concat([main_out_df, out_df1], ignore_index=False)\n",
    "#     main_out_df = pd.concat([main_out_df, out_df2], ignore_index=False)\n",
    "#     main_out_df = pd.concat([main_out_df, out_df3], ignore_index=False)\n",
    "#     main_out_df = pd.concat([main_out_df, out_df4], ignore_index=False)\n",
    "\n",
    "#     main_out_df = pd.concat([main_out_df, out_df5], ignore_index=False)\n",
    "#     main_out_df = pd.concat([main_out_df, out_df6], ignore_index=False)\n",
    "#     main_out_df = pd.concat([main_out_df, out_df7], ignore_index=False)\n",
    "\n",
    "#     main_out_df = pd.concat([main_out_df, out_df8], ignore_index=False)\n",
    "#     main_out_df = pd.concat([main_out_df, out_df9], ignore_index=False)\n",
    "#     main_out_df = pd.concat([main_out_df, out_df10], ignore_index=False)\n",
    "    \n",
    "#     l = []      # In this part we rename the columns to F_1, F_2 ....\n",
    "#     for i in range(1,29):\n",
    "#         l.append('F'+str(i))\n",
    "#     l = ['id']+l\n",
    "\n",
    "#     main_out_df.columns = l\n",
    "#     return main_out_df\n",
    "\n",
    "def training_function(df):\n",
    "    main_out_df = pd.DataFrame()\n",
    "    \n",
    "    for i in list(set(df.store_id)):\n",
    "        _, interm_df = mse_and_out_df(df, i)\n",
    "        main_out_df = pd.concat([main_out_df, interm_df], ignore_index=False)\n",
    "    \n",
    "    l = []      # In this part we rename the columns to F_1, F_2 ....\n",
    "    for i in range(1,29):\n",
    "        l.append('F'+str(i))\n",
    "    l = ['id']+l\n",
    "\n",
    "    main_out_df.columns = l\n",
    "    return main_out_df\n",
    "\n",
    "\n",
    "# Function for reversing the long form\n",
    "def reverse_long_form(le, X_test, train_out):\n",
    "    for i in range(len(non_numeric_col_list)):\n",
    "        X_test[non_numeric_col_list[i]] = le[i].inverse_transform(X_test[non_numeric_col_list[i]])\n",
    "\n",
    "    X_test['unit_sale'] = train_out\n",
    "    kk = X_test.pivot(index='id', columns='d')['unit_sale']\n",
    "    kk['id'] = kk.index\n",
    "    kk.reset_index(drop=True, inplace=True)\n",
    "\n",
    "    cols = list(kk)\n",
    "    cols = [cols[-1]] + cols[:-1]\n",
    "    kk = kk[cols]\n",
    "\n",
    "    return kk\n",
    "\n",
    "def reorder_data(df, csv_name):\n",
    "    df['sp_index'] = (df.index)\n",
    "    index_dict = dict(zip(df.id, df.sp_index))\n",
    "    df = df.drop('sp_index', axis=1)\n",
    "\n",
    "    kk = pd.read_csv(str(csv_name)+'.csv')\n",
    "    kk = kk.drop(kk.columns[0], axis=1)\n",
    "\n",
    "    kk['sp_index'] = kk[\"id\"].map(index_dict)\n",
    "    kk = kk.sort_values(by='sp_index', axis=0)\n",
    "    kk = kk.drop('sp_index', axis=1)\n",
    "    kk.to_csv(str(csv_name)+'.csv')"
   ]
  },
  {
   "cell_type": "code",
   "execution_count": 3,
   "metadata": {
    "jupyter": {
     "source_hidden": true
    }
   },
   "outputs": [],
   "source": [
    "# This function takes output of fit_fun_2(), the output named out_df and plots prediction vs true label for \n",
    "# given item id. However, for sales_train_ev we need to change fit_fun_2() to have prediction on 1913 to 1969 \n",
    "# to see prediction and true label on 1913 to 1941 bcs there is no true label for 1942 to 1969.\n",
    "\n",
    "def plot_prediction(out_df, item_id, multiply_prediction_by):\n",
    "    ll = list(out_df[out_df.id == item_id].iloc[0].iloc[1:])\n",
    "    ll = [elem*multiply_prediction_by for elem in ll]\n",
    "    plt.figure(figsize=(20,5))\n",
    "\n",
    "    plt.subplot(1,2,1)\n",
    "    plt.plot(ll)\n",
    "    plt.plot(sales_train_ev[sales_train_ev.id == item_id].iloc[0].iloc[1919:])\n",
    "    plt.legend(['predict', 'original'])\n",
    "    plt.title(str(item_id)+'prediction, prediction * '+ str(multiply_prediction_by))\n",
    "    plt.xlabel('Days from 1914 to 1941')\n",
    "    plt.ylabel('No of units sold')\n",
    "\n",
    "    plt.subplot(1,2,2)\n",
    "    ll = list(out_df[out_df.id == item_id].iloc[0].iloc[29:])\n",
    "    ll = [elem*multiply_prediction_by for elem in ll]\n",
    "    plt.plot(ll)\n",
    "    plt.title(str(item_id)+'prediction, prediction * '+str(multiply_prediction_by))\n",
    "    plt.xlabel('Days from 1942 to 1969')\n",
    "    plt.ylabel('No of units sold')"
   ]
  },
  {
   "cell_type": "markdown",
   "metadata": {},
   "source": [
    "## Hyperparameter Tuning"
   ]
  },
  {
   "cell_type": "markdown",
   "metadata": {
    "jupyter": {
     "source_hidden": true
    }
   },
   "source": [
    "### Hyperparameter Tuning - 1"
   ]
  },
  {
   "cell_type": "markdown",
   "metadata": {
    "jupyter": {
     "source_hidden": true
    }
   },
   "source": [
    "In this tuning strategy we do hyperparameter tuning for entire data and add all the features we can."
   ]
  },
  {
   "cell_type": "code",
   "execution_count": null,
   "metadata": {
    "jupyter": {
     "outputs_hidden": true,
     "source_hidden": true
    },
    "scrolled": true
   },
   "outputs": [],
   "source": [
    "%%time\n",
    "df = feature_engineer(sales_train_ev)\n",
    "\n",
    "print('Store Name:', 'CA_1')\n",
    "new_df = df[df.store_id == 'CA_1']        # Selecting rows for the selected store\n",
    "\n",
    "print('Store rows picked now working on adding columns...')\n",
    "new_df = one_feature_engineering_fun(new_df)     # working on adding more columns and changing datatype of columns\n",
    "\n",
    "y = new_df.unit_sale                          # getting the label\n",
    "new_df = new_df.drop('unit_sale', axis=1)\n",
    "\n",
    "print('Encoding categorical features...')\n",
    "le, new_df = encode_cat_cols(new_df)          # Encoding Categorical Columns\n",
    "\n",
    "X = new_df\n",
    "\n",
    "X_train, y_train = X.iloc[0:3049*1913], y[:3049*1913]\n",
    "X_test, y_test = X.iloc[3049*1913:], y[3049*1913:]\n",
    "\n",
    "param_list_to_try = {'num_leaves': sp_randint(500, 1000),\n",
    "            'learning_rate':sp_randFloat(0.01, 0.9),\n",
    "            'reg_lambda':sp_randFloat(0.1, 0.9),\n",
    "            'min_data_in_leaf': sp_randint(500, 1000),\n",
    "            'n_estimators':sp_randint(100, 1200)}\n",
    "\n",
    "no_of_hyperparameters = 3\n",
    "clf = LGBMRegressor(objective = 'tweedie', metric='None')\n",
    "\n",
    "random_search = RandomizedSearchCV( estimator = clf, param_distributions = param_list_to_try,\\\n",
    "                                   n_iter = no_of_hyperparameters\\\n",
    "            ,scoring = make_scorer(mse, greater_is_better = False), cv = 2, refit = True, \\\n",
    "                                   random_state = 314, verbose = True)\n",
    "\n",
    "random_search.fit(X_train, y_train)\n",
    "print('Best score reached: {} with params: {} '.format(random_search.best_score_, random_search.best_params_))"
   ]
  },
  {
   "cell_type": "code",
   "execution_count": null,
   "metadata": {
    "jupyter": {
     "source_hidden": true
    }
   },
   "outputs": [],
   "source": [
    "# Best score reached: -15.426872694657348 with params: \\\n",
    "# with objective tweedie\n",
    "# {'learning_rate': 0.6790495589419234, 'min_data_in_leaf': 906, 'n_estimators': 363, 'num_leaves': 588, 'reg_lambda': 0.7897384208694526} "
   ]
  },
  {
   "cell_type": "markdown",
   "metadata": {
    "jupyter": {
     "source_hidden": true
    }
   },
   "source": [
    "### Hyperparameter Tuning - 2"
   ]
  },
  {
   "cell_type": "markdown",
   "metadata": {
    "jupyter": {
     "source_hidden": true
    }
   },
   "source": [
    "Here we add all the columns and do hyperparameter tuning on only one year of data."
   ]
  },
  {
   "cell_type": "code",
   "execution_count": null,
   "metadata": {
    "jupyter": {
     "source_hidden": true
    }
   },
   "outputs": [],
   "source": [
    "%%time\n",
    "df = feature_engineer(sales_train_ev)\n",
    "\n",
    "print('Store Name:', 'CA_1')\n",
    "new_df = df[df.store_id == 'CA_1']        # Selecting rows for the selected store\n",
    "\n",
    "print('Store rows picked now working on adding columns...')\n",
    "new_df = one_feature_engineering_fun(new_df)     # working on adding more columns and changing datatype of columns\n",
    "\n",
    "y = new_df.unit_sale                          # getting the label\n",
    "new_df = new_df.drop('unit_sale', axis=1)\n",
    "\n",
    "print('Encoding categorical features...')\n",
    "le, new_df = encode_cat_cols(new_df)          # Encoding Categorical Columns\n",
    "\n",
    "X = new_df\n",
    "\n",
    "X_train, y_train = X.iloc[3049*(1941-365):3049*1941], y[3049*(1941-365):3049*1941]\n",
    "X_test, y_test = X.iloc[3049*1941:], y[3049*1941:]\n",
    "\n",
    "param_list_to_try = {'num_leaves': sp_randint(500, 1500),\n",
    "            'learning_rate':sp_randFloat(0.01, 0.9),\n",
    "            'reg_lambda':sp_randFloat(0.1, 0.9),\n",
    "            'min_data_in_leaf': sp_randint(500, 1500),\n",
    "            'n_estimators':sp_randint(100, 1500)}\n",
    "\n",
    "no_of_hyperparameters = 3\n",
    "clf = LGBMRegressor(objective = 'tweedie', metric='None')\n",
    "\n",
    "random_search = RandomizedSearchCV( estimator = clf, param_distributions = param_list_to_try,\\\n",
    "                                   n_iter = no_of_hyperparameters\\\n",
    "            ,scoring = make_scorer(mse, greater_is_better = False), cv = 2, refit = True, \\\n",
    "                                   random_state = 314, verbose = True)\n",
    "\n",
    "random_search.fit(X_train, y_train)\n",
    "print('Best score reached: {} with params: {} '.format(random_search.best_score_, random_search.best_params_))"
   ]
  },
  {
   "cell_type": "code",
   "execution_count": null,
   "metadata": {
    "jupyter": {
     "source_hidden": true
    }
   },
   "outputs": [],
   "source": [
    "# Best score reached: -10.332310348102666 with params: \n",
    "# {'learning_rate': 0.6790495589419234, 'min_data_in_leaf': 1418, 'n_estimators': 363, 'num_leaves': 1100, \n",
    "# 'reg_lambda': 0.7897384208694526} "
   ]
  },
  {
   "cell_type": "markdown",
   "metadata": {},
   "source": [
    "### Hyperparameter Tuning - 3"
   ]
  },
  {
   "cell_type": "markdown",
   "metadata": {
    "jupyter": {
     "source_hidden": true
    }
   },
   "source": [
    "Here we do not add any column after initial feature_engineer() function. We use data of one year only."
   ]
  },
  {
   "cell_type": "code",
   "execution_count": null,
   "metadata": {
    "jupyter": {
     "outputs_hidden": true,
     "source_hidden": true
    }
   },
   "outputs": [],
   "source": [
    "%%time\n",
    "df = feature_engineer(sales_train_ev)\n",
    "\n",
    "X, y, le = get_X_and_y_withou_adding_more_features(df, 'CA_1')\n",
    "\n",
    "X_train, y_train = X.iloc[3049*(1941-365):3049*1941], y[3049*(1941-365):3049*1941]\n",
    "X_test, y_test = X.iloc[3049*1941:], y[3049*1941:]\n",
    "\n",
    "param_list_to_try = {'num_leaves': sp_randint(500, 1500),\n",
    "            'learning_rate':sp_randFloat(0.01, 0.9),\n",
    "            'reg_lambda':sp_randFloat(0.1, 0.9),\n",
    "            'min_data_in_leaf': sp_randint(500, 1500),\n",
    "            'n_estimators':sp_randint(100, 1500)}\n",
    "\n",
    "no_of_hyperparameters = 3\n",
    "clf = LGBMRegressor(objective = 'tweedie', metric='None')\n",
    "\n",
    "random_search = RandomizedSearchCV( estimator = clf, param_distributions = param_list_to_try,\\\n",
    "                                   n_iter = no_of_hyperparameters\\\n",
    "            ,scoring = make_scorer(mse, greater_is_better = False), cv = 2, refit = True, \\\n",
    "                                   random_state = 314, verbose = True)\n",
    "\n",
    "random_search.fit(X_train, y_train)\n",
    "print('Best score reached: {} with params: {} '.format(random_search.best_score_, random_search.best_params_))"
   ]
  },
  {
   "cell_type": "code",
   "execution_count": null,
   "metadata": {
    "jupyter": {
     "source_hidden": true
    }
   },
   "outputs": [],
   "source": [
    "# Best score reached: -12.192196035052088 with params: \n",
    "# {'learning_rate': 0.6790495589419234, 'min_data_in_leaf': 1418, 'n_estimators': 363, 'num_leaves': 1100, \n",
    "# 'reg_lambda': 0.7897384208694526}"
   ]
  },
  {
   "cell_type": "markdown",
   "metadata": {},
   "source": [
    "## Different Training Strategies"
   ]
  },
  {
   "cell_type": "markdown",
   "metadata": {
    "heading_collapsed": true
   },
   "source": [
    "### Words on Train Test Split"
   ]
  },
  {
   "cell_type": "markdown",
   "metadata": {
    "hidden": true,
    "jupyter": {
     "source_hidden": true
    }
   },
   "source": [
    "We want to predict 28 days under labels F1-F28. These 28 days are like this for evaluation and validation dataset.\n",
    "<br>For evaluation dataset predict d_1942 - d_1969\n",
    "<br>For validation dataset predict d_1914 - d_1941"
   ]
  },
  {
   "cell_type": "markdown",
   "metadata": {},
   "source": [
    "### Training strategy 0.1"
   ]
  },
  {
   "cell_type": "code",
   "execution_count": null,
   "metadata": {},
   "outputs": [],
   "source": [
    "# First score is Private and second score is Public score"
   ]
  },
  {
   "attachments": {
    "Screenshot%20-%2014-11-2020%20,%2012_14_45.png": {
     "image/png": "[encoded data removed]"
    }
   },
   "cell_type": "markdown",
   "metadata": {},
   "source": [
    "![Screenshot%20-%2014-11-2020%20,%2012_14_45.png](attachment:Screenshot%20-%2014-11-2020%20,%2012_14_45.png)"
   ]
  },
  {
   "cell_type": "markdown",
   "metadata": {
    "jupyter": {
     "source_hidden": true
    }
   },
   "source": [
    "In this strategy we train on one year data only, so for eval data we train on 1941-365 to 1941 and for val data we train on 1913-365 to 1913 test on 1941 to 1969 for evaluation data and we test on 1913 to 1941 for validation data. \n",
    "\n",
    "However we use four models to predict 28 days. First model predicts week1, second predicts week1 and week2, third predicts week1, week2, week3 and fourth model predicts week1, week2, week3, week4. Then we append 0 s to make all these predicted lists same length and then we take element wise mean to make the final prediction."
   ]
  },
  {
   "cell_type": "markdown",
   "metadata": {
    "jupyter": {
     "source_hidden": true
    }
   },
   "source": [
    "Though a good concept, it did not do well during submission."
   ]
  },
  {
   "cell_type": "code",
   "execution_count": 4,
   "metadata": {
    "jupyter": {
     "source_hidden": true
    }
   },
   "outputs": [],
   "source": [
    "ev_train_start, ev_train_end, val_train_start, val_train_end = 3049*(1941-365), 3049*1941, \\\n",
    "                                                                3049*(1913-365), 3049*1913\n",
    "strategy = 0.1\n",
    "def fit_fun_2(df, store_name):\n",
    "    cclear()\n",
    "    print('Using strategy ', strategy)\n",
    "    X, y, le = get_X_and_y(df, store_name) # this fun selects rows for given store name, adds more columns, \n",
    "                                           # does encoding, returns X and y and encoder\n",
    "\n",
    "    if df.id.iloc[0].find('evaluation') != -1:  # if evaluation data\n",
    "        # for plotting prediction\n",
    "        # X_train, y_train = X.iloc[3049*(1913-365):3049*1913], y[3049*(1913-365):3049*1913]\n",
    "        # X_test, y_test = X.iloc[3049*1913:], y[3049*1913:]\n",
    "        \n",
    "        X_train, y_train = X.iloc[ev_train_start:ev_train_end], y[ev_train_start:ev_train_end] \n",
    "        X_test, y_test = X.iloc[ev_train_end:], y[ev_train_end:] \n",
    "    \n",
    "    if df.id.iloc[0].find('validation') != -1:  # if validation data\n",
    "        X_train, y_train = X.iloc[val_train_start:val_train_end], y[val_train_start:val_train_end]\n",
    "        X_test, y_test = X.iloc[val_train_end:], y[val_train_end:]\n",
    "    \n",
    "    model = [0]*4\n",
    "    for i in range(4):\n",
    "        model[i] = LGBMRegressor(num_leaves=588, learning_rate=0.67, reg_lambda=0.78, n_estimators= 363, min_data_in_leaf= 906)\n",
    "\n",
    "    print(\"One of 4 models fitting....\")\n",
    "    model[0].fit(X_train, y_train)\n",
    "    train_out_week1 = model[0].predict(X_test.iloc[(0*3049):(7*3049)])\n",
    "    \n",
    "    print(\"Two of 4 models fitting....\")\n",
    "    model[1].fit(X_train, y_train)\n",
    "    train_out_week12 = model[1].predict(X_test.iloc[(0*3049):(14*3049)])\n",
    "    \n",
    "    print(\"Three of 4 models fitting....\")\n",
    "    model[2].fit(X_train, y_train)\n",
    "    train_out_week123 = model[2].predict(X_test.iloc[(0*3049):(21*3049)])\n",
    "    \n",
    "    print(\"Four of 4 models fitting....\")\n",
    "    model[3].fit(X_train, y_train)\n",
    "    train_out_week1234 = model[3].predict(X_test.iloc[(0*3049):(28*3049)])\n",
    "    \n",
    "    train_out = [np.mean(n) for n in zip_longest(train_out_week1, train_out_week12, train_out_week123, train_out_week1234\\\n",
    "                                          , fillvalue=0)]\n",
    "    \n",
    "    return le, X_test, y_test, train_out"
   ]
  },
  {
   "cell_type": "code",
   "execution_count": null,
   "metadata": {
    "jupyter": {
     "source_hidden": true
    }
   },
   "outputs": [],
   "source": [
    "############################## Code for testing MSE of single store for the fit function  ###############################"
   ]
  },
  {
   "cell_type": "code",
   "execution_count": 12,
   "metadata": {
    "jupyter": {
     "source_hidden": true
    },
    "scrolled": true
   },
   "outputs": [],
   "source": [
    "# %%time\n",
    "\n",
    "# ev_train_start, ev_train_end, val_train_start, val_train_end = 3049*(1913-365), 3049*1913, \\\n",
    "#                                                                 _, _\n",
    "# strategy = 0.1\n",
    "\n",
    "# df = sales_train_ev.copy()\n",
    "# empty_list = [0]*30490\n",
    "# for i in range(1942, 1970):\n",
    "#     df['d_'+str(i)] = empty_list\n",
    "# df = feature_engineer(df)\n",
    "\n",
    "# le, X_test, y_test, train_out = fit_fun_2(df, 'CA_1')\n",
    "# out_df = reverse_long_form(le, X_test, train_out)\n",
    "# out_df.head(5)\n",
    "\n",
    "# ########################################################################################################################\n",
    "# # 4 min"
   ]
  },
  {
   "cell_type": "code",
   "execution_count": 17,
   "metadata": {
    "jupyter": {
     "outputs_hidden": true,
     "source_hidden": true
    }
   },
   "outputs": [
    {
     "data": {
      "image/png": "[encoded data removed]",
      "text/plain": [
       "<Figure size 432x288 with 1 Axes>"
      ]
     },
     "metadata": {
      "needs_background": "light"
     },
     "output_type": "display_data"
    }
   ],
   "source": [
    "plt.plot(list(y_test))\n",
    "plt.plot(list(train_out))\n",
    "plt.legend(['true label', 'predicted labels'])\n",
    "plt.title('Prediction of unit sales for 1914 to 1941 in long form')\n",
    "plt.xlabel('Index of sales_train_ev in long form after adding 1942 to 1969 columns')\n",
    "plt.ylabel(\"Units sold\")\n",
    "plt.show()"
   ]
  },
  {
   "cell_type": "markdown",
   "metadata": {},
   "source": [
    "### Training strategy 0.2"
   ]
  },
  {
   "cell_type": "code",
   "execution_count": null,
   "metadata": {},
   "outputs": [],
   "source": [
    "# First score is Private and second score is Public score"
   ]
  },
  {
   "attachments": {
    "Screenshot%20-%2014-11-2020%20,%2012_16_45.png": {
     "image/png": "[encoded data removed]"
    }
   },
   "cell_type": "markdown",
   "metadata": {},
   "source": [
    "![Screenshot%20-%2014-11-2020%20,%2012_16_45.png](attachment:Screenshot%20-%2014-11-2020%20,%2012_16_45.png)"
   ]
  },
  {
   "cell_type": "markdown",
   "metadata": {},
   "source": [
    "We do not test code for this one as only differece from 0.1 model is that this one fits entire val data\n",
    "and previous one took only one year of val data."
   ]
  },
  {
   "cell_type": "code",
   "execution_count": 19,
   "metadata": {
    "jupyter": {
     "source_hidden": true
    }
   },
   "outputs": [],
   "source": [
    "ev_train_start, ev_train_end, val_train_start, val_train_end = 3049*(1941-365), 3049*1941, 3049*(0), 3049*1913\n",
    "strategy = 0.1\n",
    "def fit_fun_2(df, store_name):\n",
    "    cclear()\n",
    "    print('Using strategy ', strategy)\n",
    "    X, y, le = get_X_and_y_withou_adding_more_features(df, store_name)\n",
    "\n",
    "    if df.id.iloc[0].find('evaluation') != -1:  # if evaluation data\n",
    "        # for plotting prediction\n",
    "        # X_train, y_train = X.iloc[3049*(1913-365):3049*1913], y[3049*(1913-365):3049*1913]\n",
    "        # X_test, y_test = X.iloc[3049*1913:], y[3049*1913:]\n",
    "        \n",
    "        X_train, y_train = X.iloc[ev_train_start:ev_train_end], y[ev_train_start:ev_train_end] \n",
    "        X_test, y_test = X.iloc[ev_train_end:], y[ev_train_end:] \n",
    "    \n",
    "    if df.id.iloc[0].find('validation') != -1:  # if validation data\n",
    "        X_train, y_train = X.iloc[val_train_start:val_train_end], y[val_train_start:val_train_end]\n",
    "        X_test, y_test = X.iloc[val_train_end:], y[val_train_end:]\n",
    "    \n",
    "    model = [0]*4\n",
    "    for i in range(4):\n",
    "        model[i] = LGBMRegressor(num_leaves=1100, learning_rate=0.67, reg_lambda=0.78, n_estimators= 363, min_data_in_leaf= 1418)\n",
    "\n",
    "    model[0].fit(X_train, y_train)\n",
    "    train_out_week1 = model[0].predict(X_test.iloc[(0*3049):(7*3049)])\n",
    "    \n",
    "    model[1].fit(X_train, y_train)\n",
    "    train_out_week12 = model[1].predict(X_test.iloc[(0*3049):(14*3049)])\n",
    "    \n",
    "    model[2].fit(X_train, y_train)\n",
    "    train_out_week123 = model[2].predict(X_test.iloc[(0*3049):(21*3049)])\n",
    "    \n",
    "    model[3].fit(X_train, y_train)\n",
    "    train_out_week1234 = model[3].predict(X_test.iloc[(0*3049):(28*3049)])\n",
    "    \n",
    "    train_out = [np.mean(n) for n in zip_longest(train_out_week1, train_out_week12, train_out_week123, train_out_week1234\\\n",
    "                                          , fillvalue=0)]\n",
    "    \n",
    "    return le, X_test, y_test, train_out"
   ]
  },
  {
   "cell_type": "code",
   "execution_count": null,
   "metadata": {
    "jupyter": {
     "source_hidden": true
    }
   },
   "outputs": [],
   "source": [
    "############################## Code for testing MSE of single store for the fit function  ###############################"
   ]
  },
  {
   "cell_type": "code",
   "execution_count": null,
   "metadata": {
    "jupyter": {
     "source_hidden": true
    }
   },
   "outputs": [],
   "source": [
    "# %%time\n",
    "\n",
    "# ev_train_start, ev_train_end, val_train_start, val_train_end = 3049*(1913-365), 3049*1913, \\\n",
    "#                                                                 _, _\n",
    "# strategy = 0.1\n",
    "\n",
    "# df = sales_train_ev.copy()\n",
    "# empty_list = [0]*30490\n",
    "# for i in range(1942, 1970):\n",
    "#     df['d_'+str(i)] = empty_list\n",
    "# df = feature_engineer(df)\n",
    "\n",
    "# le, X_test, y_test, train_out = fit_fun_2(df, 'CA_1')\n",
    "# out_df = reverse_long_form(le, X_test, train_out)\n",
    "# out_df.head(5)\n",
    "\n",
    "##################################################################################################################\n",
    "# 4 min\n"
   ]
  },
  {
   "cell_type": "markdown",
   "metadata": {},
   "source": [
    "### Training strategy 1 - Ignore"
   ]
  },
  {
   "cell_type": "markdown",
   "metadata": {
    "jupyter": {
     "source_hidden": true
    }
   },
   "source": [
    "As it is very complex, this one could not be run on my machine. So we move on to second simpler method.\n",
    "This one should be ignored."
   ]
  },
  {
   "cell_type": "markdown",
   "metadata": {
    "jupyter": {
     "source_hidden": true
    }
   },
   "source": [
    "Training strategy used in fit_fun_2():\n",
    "<br>Train on data till 1829, predict on X_test of 1829 to 1857. Now for this prediction we will use 4 models, each model will predict one week of the 28 days of test data. This predicted data of X_test will be exchanged with true label next time, so we will be training on our prediction next next time.\n",
    "\n",
    "This is repeated for next test sets as described below.\n",
    "\n",
    "Train on data till 1857, predict on X_test of 1858 to 1885. Now for this prediction we will use 4 models, each model will predict one week of the 28 days of test data.This predicted data of X_test will be exchanged with true label next time, so we will be training on our prediction next next time.\n",
    "\n",
    "Train on data till 1885, predict on X_test of 1886 to 1913. Now for this prediction we will use 4 models, each model will predict one week of the 28 days of test data.This predicted data of X_test will be exchanged with true label next time, so we will be training on our prediction next next time.\n",
    "\n",
    "Train on data till 1913, predict on X_test of 1914 to 1941. Now for this prediction we will use 4 models, each model will predict one week of the 28 days of test data. This prediction is ultimate prediction for this store.\n",
    "\n",
    "change: we kept only last two stages in code, only 1886 to 1913 and 1913 to 1941, but it could not be run."
   ]
  },
  {
   "cell_type": "code",
   "execution_count": null,
   "metadata": {
    "jupyter": {
     "source_hidden": true
    }
   },
   "outputs": [],
   "source": [
    "# This function takes input which year to which year should be test data and returns extended y_train or train_out \n",
    "# as necessary.\n",
    "\n",
    "def year_wise_train_test(X, y, y_train, start, end):\n",
    "    X_train, X_test = X.iloc[0:(3049*start)], X.iloc[(3049*start):(3049*end)] \n",
    "    y_test = y[(3049*start):(3049*end)]\n",
    "\n",
    "    if y_train==1:\n",
    "        y_train = y[0:(3049*start)]\n",
    "        \n",
    "    train_out = []\n",
    "    for i in range(4):\n",
    "        print('Predicting week ', i)\n",
    "        model = LGBMRegressor(objective = 'tweedie', num_leaves=588, learning_rate=0.67, reg_lambda=0.78, \\\n",
    "                              n_estimators= 363, min_data_in_leaf= 906)\n",
    "        model.fit(X_train, y_train)\n",
    "        train_out.extend(list( model.predict(X_test.iloc[(i*7*3049):((i+1)*7*3049)] )))\n",
    "    \n",
    "    y_train = list(y_train)\n",
    "    \n",
    "    if (start == 1913) and (end==1941):\n",
    "        return y_train, X_test, y_test, train_out\n",
    "    else:    \n",
    "        y_train.extend(list(train_out))\n",
    "        return y_train\n",
    "strategy = 1\n",
    "def fit_fun_2(df, store_name):\n",
    "    cclear()\n",
    "    print('Using strategy ', strategy)\n",
    "    X, y, le = get_X_and_y(df, store_name)      # this fun selects rows for given store name, adds more columns, \n",
    "                                                # does encoding, returns X and y and encoder\n",
    "    \n",
    "    print('Testing on 1885 to 1913...')\n",
    "    y_train = year_wise_train_test(X, y, 1, 1885, 1913)\n",
    "    \n",
    "    print('Testing on 1913 to 1941...')\n",
    "    y_train, X_test, y_test, train_out = year_wise_train_test(X, y, y_train, 1913, 1941)\n",
    "    \n",
    "    if df.id.iloc[0].find('evaluation') != -1:  # if evaluation data\n",
    "        print('Testing on 1941 to 1969...')\n",
    "        y_train, X_test, y_test, train_out = year_wise_train_test(X, y, y_train, 1941, 1969)\n",
    "    \n",
    "    cclear()\n",
    "    print(store_name, ' Done.')\n",
    "    \n",
    "    return le, X_test, y_test, train_out"
   ]
  },
  {
   "cell_type": "code",
   "execution_count": null,
   "metadata": {
    "jupyter": {
     "source_hidden": true
    }
   },
   "outputs": [],
   "source": [
    "############################## Code for testing MSE of single store for the fit function  ###############################"
   ]
  },
  {
   "cell_type": "code",
   "execution_count": null,
   "metadata": {
    "jupyter": {
     "outputs_hidden": true,
     "source_hidden": true
    }
   },
   "outputs": [],
   "source": [
    "# %%time\n",
    "# df = sales_train_ev.copy()  # estimated 37 seconds to run\n",
    "# df = feature_engineer(df)\n",
    "\n",
    "# le, X_test, y_test, train_out = fit_fun_2(df, 'CA_1')\n",
    "# mse(train_out, y_test)\n",
    "########################################################################################################################"
   ]
  },
  {
   "cell_type": "markdown",
   "metadata": {},
   "source": [
    "### Training strategy 2 - Ignore"
   ]
  },
  {
   "cell_type": "markdown",
   "metadata": {
    "jupyter": {
     "source_hidden": true
    }
   },
   "source": [
    "This method is fairly complex, it did well while training but submission scores were extremely bad.\n",
    "As this method predicts on prediction I am moving forward to other methods leaving this one."
   ]
  },
  {
   "cell_type": "markdown",
   "metadata": {
    "jupyter": {
     "source_hidden": true
    }
   },
   "source": [
    "Training strategy used in fit_fun_2():\n",
    "<br>Train on data till 1829, predict on X_test of 1829 to 1857. This predicted data of X_test will be exchanged with true label next time, so we will be training on our prediction next next time.\n",
    "\n",
    "Train on data till 1857, predict on X_test of 1858 to 1885. This predicted data of X_test will be exchanged with true label next time, so we will be training on our prediction next next time.\n",
    "\n",
    "Train on data till 1885, predict on X_test of 1886 to 1913. This predicted data of X_test will be exchanged with true label next time, so we will be training on our prediction next next time.\n",
    "\n",
    "Train on data till 1913, predict on X_test of 1914 to 1941. This prediction is ultimate prediction for this store."
   ]
  },
  {
   "cell_type": "code",
   "execution_count": null,
   "metadata": {
    "jupyter": {
     "source_hidden": true
    }
   },
   "outputs": [],
   "source": [
    "# This function takes input which year to which year should be test data and returns extended y_train or train_out \n",
    "# as necessary.\n",
    "\n",
    "def year_wise_train_test(X, y, y_train, model, start, end):\n",
    "    X_train, X_test = X.iloc[0:(3049*start)], X.iloc[(3049*start):(3049*end)] \n",
    "    y_test = y[(3049*start):(3049*end)]\n",
    "\n",
    "    if y_train==1:\n",
    "        y_train = y[0:(3049*start)]\n",
    "        \n",
    "    model.fit(X_train, y_train)\n",
    "    train_out = model.predict(X_test)\n",
    "    \n",
    "    y_train = list(y_train)\n",
    "    \n",
    "    if ((start == 1913) and (end==1941)) or ((start == 1941) and (end==1969)):\n",
    "        return y_train, X_test, y_test, train_out\n",
    "    else:    \n",
    "        y_train.extend(list(train_out))\n",
    "        return y_train\n",
    "strategy = 2\n",
    "def fit_fun_2(df, store_name):\n",
    "    cclear()\n",
    "    print('Using strategy ', strategy)\n",
    "    X, y, le = get_X_and_y(df, store_name)      # this fun selects rows for given store name, adds more columns, \n",
    "                                                # does encoding, returns X and y and encoder\n",
    "    \n",
    "    model = LGBMRegressor(objective = 'tweedie', num_leaves=588, learning_rate=0.67, reg_lambda=0.78, \\\n",
    "                              n_estimators= 363, min_data_in_leaf= 906)\n",
    "    \n",
    "    print('Testing on 1829 to 1857...')\n",
    "    y_train = year_wise_train_test(X, y, 1, model, 1829, 1857)\n",
    "    \n",
    "    print('Testing on 1857 to 1885...')\n",
    "    y_train = year_wise_train_test(X, y, y_train, model, 1857, 1885)\n",
    "    \n",
    "    print('Testing on 1885 to 1913...')\n",
    "    y_train = year_wise_train_test(X, y, y_train, model, 1885, 1913)\n",
    "    \n",
    "    print('Testing on 1913 to 1941...')\n",
    "    y_train, X_test, y_test, train_out = year_wise_train_test(X, y, y_train, model, 1913, 1941)\n",
    "    \n",
    "    if df.id.iloc[0].find('evaluation') != -1:  # if evaluation data\n",
    "        print('Testing on 1941 to 1969...')\n",
    "        y_train, X_test, y_test, train_out = year_wise_train_test(X, y, y_train, model, 1941, 1969)\n",
    "    \n",
    "    cclear()\n",
    "    print(store_name, ' Done.')\n",
    "    \n",
    "    return le, X_test, y_test, train_out"
   ]
  },
  {
   "cell_type": "code",
   "execution_count": null,
   "metadata": {
    "jupyter": {
     "source_hidden": true
    }
   },
   "outputs": [],
   "source": [
    "############################## Code for testing MSE of single store for the fit function  ###############################"
   ]
  },
  {
   "cell_type": "code",
   "execution_count": null,
   "metadata": {
    "jupyter": {
     "source_hidden": true
    }
   },
   "outputs": [],
   "source": [
    "%%time\n",
    "df = sales_train_ev.copy()  # estimated 37 seconds to run\n",
    "df = feature_engineer(df)\n",
    "\n",
    "le, X_test, y_test, train_out = fit_fun_2(df, 'CA_1')  # estimated time to run 3 minute 15 seconds\n",
    "mse(train_out, y_test) # 8.55 for CA_1\n",
    "############################################################################################################################"
   ]
  },
  {
   "cell_type": "markdown",
   "metadata": {},
   "source": [
    "### Training strategies 3.1, 3.2, 3.3, 3.4, 3.5, 3.6"
   ]
  },
  {
   "cell_type": "code",
   "execution_count": 4,
   "metadata": {
    "jupyter": {
     "source_hidden": true
    }
   },
   "outputs": [],
   "source": [
    "def fit_fun_2(df, store_name):\n",
    "    cclear()\n",
    "    print('Using strategy ', strategy)\n",
    "    X, y, le = get_X_and_y_withou_adding_more_features(df, store_name)\n",
    "    \n",
    "    if df.id.iloc[0].find('evaluation') != -1:  # if evaluation data\n",
    "\n",
    "        # X_train, y_train = X.iloc[0:3049*1941], y[:3049*1941]\n",
    "        # X_test, y_test = X.iloc[3049*1941:], y[3049*1941:]\n",
    "\n",
    "        # fitiing only on one year data\n",
    "        X_train, y_train = X.iloc[ev_train_start:ev_train_end], y[ev_train_start:ev_train_end] \n",
    "        X_test, y_test = X.iloc[ev_train_end:], y[ev_train_end:]                     \n",
    "\n",
    "    if df.id.iloc[0].find('validation') != -1:  # if validation data\n",
    "        \n",
    "        X_train, y_train = X.iloc[val_train_start:val_train_end], y[val_train_start:val_train_end]\n",
    "        X_test, y_test = X.iloc[val_train_end:], y[val_train_end:]\n",
    "    \n",
    "    model.fit(X_train, y_train)\n",
    "    train_out = model.predict(X_test)\n",
    "    \n",
    "    cclear()\n",
    "    print(store_name, ' Done.')\n",
    "    \n",
    "    return le, X_test, y_test, train_out"
   ]
  },
  {
   "cell_type": "markdown",
   "metadata": {},
   "source": [
    "#### Training strategy - 3.1"
   ]
  },
  {
   "cell_type": "code",
   "execution_count": null,
   "metadata": {},
   "outputs": [],
   "source": [
    "# First score is Private and second score is Public score"
   ]
  },
  {
   "attachments": {
    "Screenshot%20-%2014-11-2020%20,%2013_13_13.png": {
     "image/png": "[encoded data removed]"
    }
   },
   "cell_type": "markdown",
   "metadata": {},
   "source": [
    "![Screenshot%20-%2014-11-2020%20,%2013_13_13.png](attachment:Screenshot%20-%2014-11-2020%20,%2013_13_13.png)"
   ]
  },
  {
   "cell_type": "markdown",
   "metadata": {
    "jupyter": {
     "source_hidden": true
    }
   },
   "source": [
    "This strategy takes only columns added by feature_engineer() function, no more than that.\n",
    "<br>For evaluation data it fits on only one year of data (1576 to 1941) and predicts 1942 to 1969. \n",
    "<br>But for validation it fits on entire data till 1913 and predicts 1914 to 1941."
   ]
  },
  {
   "cell_type": "code",
   "execution_count": 5,
   "metadata": {
    "jupyter": {
     "source_hidden": true
    }
   },
   "outputs": [],
   "source": [
    "model = LGBMRegressor(num_leaves=588, learning_rate=0.67, reg_lambda=0.78, n_estimators= 363, min_data_in_leaf= 906)\n",
    "ev_train_start, ev_train_end, val_train_start, val_train_end = 3049*(1941-365), 3049*1941, 3049*(0), 3049*1913\n",
    "strategy = 5"
   ]
  },
  {
   "cell_type": "code",
   "execution_count": null,
   "metadata": {
    "jupyter": {
     "source_hidden": true
    }
   },
   "outputs": [],
   "source": [
    "############################## Code for testing MSE of single store for the fit function  ###############################"
   ]
  },
  {
   "cell_type": "code",
   "execution_count": 9,
   "metadata": {
    "jupyter": {
     "source_hidden": true
    }
   },
   "outputs": [],
   "source": [
    "# # %%time\n",
    "# df = sales_train_ev.copy()\n",
    "# empty_list = [0]*30490\n",
    "# for i in range(1942, 1970):\n",
    "#     df['d_'+str(i)] = empty_list\n",
    "# df = feature_engineer(df)\n",
    "\n",
    "# ev_train_start, ev_train_end, val_train_start, val_train_end = 3049*(1913-365), 3049*1913, _, _\n",
    "# le, X_test, y_test, train_out = fit_fun_2(df, 'CA_1')\n",
    "# out_df = reverse_long_form(le, X_test, train_out)\n",
    "\n",
    "# # ##########################################################################################################################\n",
    "# # # Estimated time to run 2 min"
   ]
  },
  {
   "cell_type": "code",
   "execution_count": 8,
   "metadata": {
    "jupyter": {
     "outputs_hidden": true,
     "source_hidden": true
    }
   },
   "outputs": [
    {
     "data": {
      "image/png": "[encoded data removed]",
      "text/plain": [
       "<Figure size 1440x360 with 2 Axes>"
      ]
     },
     "metadata": {
      "needs_background": "light"
     },
     "output_type": "display_data"
    }
   ],
   "source": [
    "plot_prediction(out_df, 'FOODS_1_001_CA_1_evaluation', 1)"
   ]
  },
  {
   "cell_type": "markdown",
   "metadata": {},
   "source": [
    "#### Training Strategy - 3.2"
   ]
  },
  {
   "cell_type": "markdown",
   "metadata": {},
   "source": [
    "This strategy takes only columns added by feature_engineer() function, no more than that.\n",
    "<br>For evaluation data it fits on only one year of data (1576 to 1941) and predicts 1942 to 1969. \n",
    "<br>For validation again it fits on one year data 1913-365 to 1913."
   ]
  },
  {
   "cell_type": "code",
   "execution_count": null,
   "metadata": {},
   "outputs": [],
   "source": [
    "# First score is Private and second score is Public score"
   ]
  },
  {
   "attachments": {
    "Screenshot%20-%2014-11-2020%20,%2013_14_00.png": {
     "image/png": "[encoded data removed]"
    }
   },
   "cell_type": "markdown",
   "metadata": {},
   "source": [
    "![Screenshot%20-%2014-11-2020%20,%2013_14_00.png](attachment:Screenshot%20-%2014-11-2020%20,%2013_14_00.png)"
   ]
  },
  {
   "cell_type": "code",
   "execution_count": null,
   "metadata": {
    "jupyter": {
     "source_hidden": true
    }
   },
   "outputs": [],
   "source": [
    "model = LGBMRegressor(num_leaves=588, learning_rate=0.67, reg_lambda=0.78, n_estimators= 363, min_data_in_leaf= 906)\n",
    "ev_train_start, ev_train_end, val_train_start, val_train_end = 3049*(1941-365), 3049*1941, 3049*(1913-365), 3049*1913\n",
    "strategy =5.2"
   ]
  },
  {
   "cell_type": "markdown",
   "metadata": {},
   "source": [
    "#### Training Strategy - 3.3"
   ]
  },
  {
   "cell_type": "markdown",
   "metadata": {},
   "source": [
    "This strategy takes only columns added by feature_engineer() function, no more than that.\n",
    "<br>For evaluation data it fits on three years of data (1941-365-365-365 to 1941) and predicts 1942 to 1969. \n",
    "<br>For validation again it fits on three years data 1913-365-365-365 to 1913."
   ]
  },
  {
   "cell_type": "code",
   "execution_count": null,
   "metadata": {},
   "outputs": [],
   "source": [
    "# First score is Private and second score is Public score"
   ]
  },
  {
   "attachments": {
    "Screenshot%20-%2014-11-2020%20,%2012_29_35.png": {
     "image/png": "[encoded data removed]"
    }
   },
   "cell_type": "markdown",
   "metadata": {},
   "source": [
    "![Screenshot%20-%2014-11-2020%20,%2012_29_35.png](attachment:Screenshot%20-%2014-11-2020%20,%2012_29_35.png)"
   ]
  },
  {
   "cell_type": "code",
   "execution_count": 5,
   "metadata": {
    "jupyter": {
     "source_hidden": true
    }
   },
   "outputs": [],
   "source": [
    "model = LGBMRegressor(num_leaves=588, learning_rate=0.67, reg_lambda=0.78, n_estimators= 363, min_data_in_leaf= 906)\n",
    "ev_train_start, ev_train_end, val_train_start, val_train_end = 3049*(1941-365-365-365), 3049*1941, \\\n",
    "                                                                3049*(1913-365-365-365), 3049*1913\n",
    "strategy = 5.3"
   ]
  },
  {
   "cell_type": "code",
   "execution_count": 6,
   "metadata": {
    "jupyter": {
     "outputs_hidden": true,
     "source_hidden": true
    }
   },
   "outputs": [
    {
     "name": "stdout",
     "output_type": "stream",
     "text": [
      "CA_1  Done.\n"
     ]
    },
    {
     "data": {
      "image/png": "[encoded data removed]",
      "text/plain": [
       "<Figure size 1440x360 with 2 Axes>"
      ]
     },
     "metadata": {
      "needs_background": "light"
     },
     "output_type": "display_data"
    }
   ],
   "source": [
    "# %%time\n",
    "df = sales_train_ev.copy()\n",
    "empty_list = [0]*30490\n",
    "for i in range(1942, 1970):\n",
    "    df['d_'+str(i)] = empty_list\n",
    "df = feature_engineer(df)\n",
    "\n",
    "ev_train_start, ev_train_end, val_train_start, val_train_end = 3049*(1913-365-365-365), 3049*1913, _, _\n",
    "le, X_test, y_test, train_out = fit_fun_2(df, 'CA_1')\n",
    "out_df = reverse_long_form(le, X_test, train_out)\n",
    "\n",
    "# ##########################################################################################################################\n",
    "# # Estimated time to run 2 min\n",
    "\n",
    "plot_prediction(out_df, 'FOODS_1_001_CA_1_evaluation', 1)"
   ]
  },
  {
   "cell_type": "markdown",
   "metadata": {},
   "source": [
    "#### Training Strategy -  3.4"
   ]
  },
  {
   "cell_type": "markdown",
   "metadata": {},
   "source": [
    "This strategy takes only columns added by feature_engineer() function, no more than that.\n",
    "<br>For evaluation data it fits on entire data (0 to 1941) and predicts 1942 to 1969. \n",
    "<br>For validation again it fits on entire data 0 to 1913."
   ]
  },
  {
   "cell_type": "code",
   "execution_count": null,
   "metadata": {},
   "outputs": [],
   "source": [
    "# First score is Private and second score is Public score"
   ]
  },
  {
   "attachments": {
    "Screenshot%20-%2014-11-2020%20,%2012_30_21.png": {
     "image/png": "[encoded data removed]"
    }
   },
   "cell_type": "markdown",
   "metadata": {},
   "source": [
    "![Screenshot%20-%2014-11-2020%20,%2012_30_21.png](attachment:Screenshot%20-%2014-11-2020%20,%2012_30_21.png)"
   ]
  },
  {
   "cell_type": "code",
   "execution_count": null,
   "metadata": {
    "jupyter": {
     "source_hidden": true
    }
   },
   "outputs": [],
   "source": [
    "model = LGBMRegressor(num_leaves=588, learning_rate=0.67, reg_lambda=0.78, n_estimators= 363, min_data_in_leaf= 906)\n",
    "ev_train_start, ev_train_end, val_train_start, val_train_end = 3049*(0), 3049*1941, \\\n",
    "                                                                3049*(0), 3049*1913\n",
    "strategy = 5.4"
   ]
  },
  {
   "cell_type": "code",
   "execution_count": 7,
   "metadata": {
    "jupyter": {
     "outputs_hidden": true,
     "source_hidden": true
    }
   },
   "outputs": [
    {
     "name": "stdout",
     "output_type": "stream",
     "text": [
      "CA_1  Done.\n"
     ]
    },
    {
     "data": {
      "image/png": "[encoded data removed]",
      "text/plain": [
       "<Figure size 1440x360 with 2 Axes>"
      ]
     },
     "metadata": {
      "needs_background": "light"
     },
     "output_type": "display_data"
    }
   ],
   "source": [
    "ev_train_start, ev_train_end, val_train_start, val_train_end = 3049*(0), 3049*1913, _, _\n",
    "le, X_test, y_test, train_out = fit_fun_2(df, 'CA_1')\n",
    "out_df = reverse_long_form(le, X_test, train_out)\n",
    "\n",
    "# ##########################################################################################################################\n",
    "# # Estimated time to run 2 min\n",
    "\n",
    "plot_prediction(out_df, 'FOODS_1_001_CA_1_evaluation', 1)"
   ]
  },
  {
   "cell_type": "markdown",
   "metadata": {},
   "source": [
    "#### Training Strategy - 3.5"
   ]
  },
  {
   "cell_type": "markdown",
   "metadata": {},
   "source": [
    "This strategy takes only columns added by feature_engineer() function, no more than that.\n",
    "<br>For evaluation data it fits on two years data (1941-365-365 to 1941) and predicts 1942 to 1969. \n",
    "<br>For validation again it fits on entire data 0 to 1913."
   ]
  },
  {
   "cell_type": "code",
   "execution_count": null,
   "metadata": {},
   "outputs": [],
   "source": [
    "# First score is Private and second score is Public score"
   ]
  },
  {
   "attachments": {
    "Screenshot%20-%2014-11-2020%20,%2012_58_00.png": {
     "image/png": "[encoded data removed]"
    }
   },
   "cell_type": "markdown",
   "metadata": {},
   "source": [
    "![Screenshot%20-%2014-11-2020%20,%2012_58_00.png](attachment:Screenshot%20-%2014-11-2020%20,%2012_58_00.png)"
   ]
  },
  {
   "cell_type": "code",
   "execution_count": null,
   "metadata": {
    "jupyter": {
     "source_hidden": true
    }
   },
   "outputs": [],
   "source": [
    "model = LGBMRegressor(num_leaves=588, learning_rate=0.67, reg_lambda=0.78, n_estimators= 363, min_data_in_leaf= 906)\n",
    "ev_train_start, ev_train_end, val_train_start, val_train_end = 3049*(1941-365-365), 3049*1941, \\\n",
    "                                                                3049*(0), 3049*1913\n",
    "strategy = 5.5"
   ]
  },
  {
   "cell_type": "code",
   "execution_count": 8,
   "metadata": {
    "jupyter": {
     "outputs_hidden": true,
     "source_hidden": true
    }
   },
   "outputs": [
    {
     "name": "stdout",
     "output_type": "stream",
     "text": [
      "CA_1  Done.\n"
     ]
    },
    {
     "data": {
      "image/png": "[encoded data removed]",
      "text/plain": [
       "<Figure size 1440x360 with 2 Axes>"
      ]
     },
     "metadata": {
      "needs_background": "light"
     },
     "output_type": "display_data"
    }
   ],
   "source": [
    "ev_train_start, ev_train_end, val_train_start, val_train_end = 3049*(1913-365-365), 3049*1913, _, _\n",
    "le, X_test, y_test, train_out = fit_fun_2(df, 'CA_1')\n",
    "out_df = reverse_long_form(le, X_test, train_out)\n",
    "\n",
    "# ##########################################################################################################################\n",
    "# # Estimated time to run 2 min\n",
    "\n",
    "plot_prediction(out_df, 'FOODS_1_001_CA_1_evaluation', 1)"
   ]
  },
  {
   "cell_type": "markdown",
   "metadata": {},
   "source": [
    "#### Training Strategy - 3.6"
   ]
  },
  {
   "cell_type": "markdown",
   "metadata": {},
   "source": [
    "This strategy takes only columns added by feature_engineer() function, no more than that.\n",
    "<br>For evaluation data it fits on three years data (1941-365-365-365 to 1941) and predicts 1942 to 1969. \n",
    "<br>For validation again it fits on entire data 0 to 1913."
   ]
  },
  {
   "cell_type": "code",
   "execution_count": null,
   "metadata": {},
   "outputs": [],
   "source": [
    "# First score is Private and second score is Public score"
   ]
  },
  {
   "attachments": {
    "Screenshot%20-%2014-11-2020%20,%2012_59_21.png": {
     "image/png": "[encoded data removed]"
    }
   },
   "cell_type": "markdown",
   "metadata": {},
   "source": [
    "![Screenshot%20-%2014-11-2020%20,%2012_59_21.png](attachment:Screenshot%20-%2014-11-2020%20,%2012_59_21.png)"
   ]
  },
  {
   "cell_type": "code",
   "execution_count": null,
   "metadata": {
    "jupyter": {
     "source_hidden": true
    }
   },
   "outputs": [],
   "source": [
    "model = LGBMRegressor(num_leaves=1100, learning_rate=0.67, reg_lambda=0.78, n_estimators= 363, min_data_in_leaf= 1418)\n",
    "ev_train_start, ev_train_end, val_train_start, val_train_end = 3049*(1941-365-365-365), 3049*1941, \\\n",
    "                                                                3049*(0), 3049*1913\n",
    "strategy = 5.6"
   ]
  },
  {
   "cell_type": "code",
   "execution_count": 9,
   "metadata": {
    "jupyter": {
     "outputs_hidden": true,
     "source_hidden": true
    }
   },
   "outputs": [
    {
     "name": "stdout",
     "output_type": "stream",
     "text": [
      "CA_1  Done.\n"
     ]
    },
    {
     "data": {
      "image/png": "[encoded data removed]",
      "text/plain": [
       "<Figure size 1440x360 with 2 Axes>"
      ]
     },
     "metadata": {
      "needs_background": "light"
     },
     "output_type": "display_data"
    }
   ],
   "source": [
    "model = LGBMRegressor(num_leaves=1100, learning_rate=0.67, reg_lambda=0.78, n_estimators= 363, min_data_in_leaf= 1418)\n",
    "ev_train_start, ev_train_end, val_train_start, val_train_end = 3049*(1913-365-365-365), 3049*1913, _, _\n",
    "le, X_test, y_test, train_out = fit_fun_2(df, 'CA_1')\n",
    "out_df = reverse_long_form(le, X_test, train_out)\n",
    "\n",
    "# ##########################################################################################################################\n",
    "# # Estimated time to run 2 min\n",
    "\n",
    "plot_prediction(out_df, 'FOODS_1_001_CA_1_evaluation', 1)"
   ]
  },
  {
   "cell_type": "markdown",
   "metadata": {},
   "source": [
    "### Training strategy 4"
   ]
  },
  {
   "cell_type": "markdown",
   "metadata": {},
   "source": [
    "#### Training Strategy 4.1"
   ]
  },
  {
   "cell_type": "code",
   "execution_count": null,
   "metadata": {},
   "outputs": [],
   "source": [
    "# First score is Private and second score is Public score"
   ]
  },
  {
   "attachments": {
    "Screenshot%20-%2014-11-2020%20,%2013_00_57.png": {
     "image/png": "[encoded data removed]"
    }
   },
   "cell_type": "markdown",
   "metadata": {},
   "source": [
    "![Screenshot%20-%2014-11-2020%20,%2013_00_57.png](attachment:Screenshot%20-%2014-11-2020%20,%2013_00_57.png)"
   ]
  },
  {
   "cell_type": "markdown",
   "metadata": {
    "jupyter": {
     "source_hidden": true
    }
   },
   "source": [
    "In this strategy we add all the columns we can add. Then we fit on one year of data only, both for eval and val data.\n",
    "<br>For eval we train on 1941-365 to 1941, we test on 1941 to 1969.\n",
    "<br>For val we train on 1913-365 to 1913 and we test on 1913 to 1969."
   ]
  },
  {
   "cell_type": "code",
   "execution_count": 10,
   "metadata": {
    "jupyter": {
     "source_hidden": true
    }
   },
   "outputs": [],
   "source": [
    "model = LGBMRegressor(num_leaves=588, learning_rate=0.67, reg_lambda=0.78, n_estimators= 363, min_data_in_leaf= 906)\n",
    "ev_train_start, ev_train_end, val_train_start, val_train_end = 3049*(1941-365), 3049*1941, 3049*(1913-365), 3049*1913\n",
    "strategy = 6\n",
    "def fit_fun_2(df, store_name):\n",
    "    cclear()\n",
    "    print('Using strategy ', strategy)\n",
    "    X, y, le = get_X_and_y(df, store_name)      # this fun selects rows for given store name, adds more columns, \n",
    "                                                # does encoding, returns X and y and encoder\n",
    "    \n",
    "    if df.id.iloc[0].find('evaluation') != -1:  # if evaluation data\n",
    "\n",
    "        # following code can be used to predict on 1913 to 1969 to plot true and predict of 1913 to 1941\n",
    "        # X_train, y_train = X.iloc[3049*(1941-365-365-365):3049*1913], y[3049*(1941-365-365-365):3049*1913]\n",
    "        # X_test, y_test = X.iloc[3049*1913:], y[3049*1913:]                     \n",
    "        \n",
    "        # Original code for fitting, fitiing only on 3 years data\n",
    "        X_train, y_train = X.iloc[ev_train_start:ev_train_end], y[ev_train_start:ev_train_end] \n",
    "        X_test, y_test = X.iloc[ev_train_end:], y[ev_train_end:]                     \n",
    "    \n",
    "    if df.id.iloc[0].find('validation') != -1:  # if validation data\n",
    "        X_train, y_train = X.iloc[val_train_start:val_train_end], y[val_train_start:val_train_end]\n",
    "        X_test, y_test = X.iloc[val_train_end:], y[val_train_end:]\n",
    "    \n",
    "    print('Fitting...')\n",
    "    model.fit(X_train, y_train)\n",
    "    train_out = model.predict(X_test)\n",
    "    \n",
    "    cclear()\n",
    "    print(store_name, ' Done.')\n",
    "    \n",
    "    return le, X_test, y_test, train_out"
   ]
  },
  {
   "cell_type": "code",
   "execution_count": null,
   "metadata": {
    "jupyter": {
     "source_hidden": true
    }
   },
   "outputs": [],
   "source": [
    "############################## Code for testing MSE of single store for the fit function  ###############################"
   ]
  },
  {
   "cell_type": "code",
   "execution_count": 12,
   "metadata": {
    "jupyter": {
     "outputs_hidden": true,
     "source_hidden": true
    }
   },
   "outputs": [
    {
     "data": {
      "image/png": "[encoded data removed]",
      "text/plain": [
       "<Figure size 1440x360 with 2 Axes>"
      ]
     },
     "metadata": {
      "needs_background": "light"
     },
     "output_type": "display_data"
    }
   ],
   "source": [
    "# %%time\n",
    "# df = sales_train_ev.copy()\n",
    "# empty_list = [0]*30490\n",
    "# for i in range(1942, 1970):\n",
    "#     df['d_'+str(i)] = empty_list\n",
    "# df = feature_engineer(df)\n",
    "\n",
    "# model = LGBMRegressor(num_leaves=588, learning_rate=0.67, reg_lambda=0.78, n_estimators= 363, min_data_in_leaf= 906)\n",
    "# ev_train_start, ev_train_end, val_train_start, val_train_end = 3049*(1913-365), 3049*1913, 3049*(1913-365), 3049*1913\n",
    "# strategy = 6\n",
    "\n",
    "# le, X_test, y_test, train_out = fit_fun_2(df, 'CA_1')\n",
    "# out_df = reverse_long_form(le, X_test, train_out)\n",
    "# plot_prediction(out_df, 'FOODS_1_001_CA_1_evaluation', 1)\n",
    "\n",
    "##########################################################################################################################\n",
    "# Estimated time to run 2 min"
   ]
  },
  {
   "cell_type": "code",
   "execution_count": null,
   "metadata": {
    "jupyter": {
     "source_hidden": true
    }
   },
   "outputs": [],
   "source": [
    "# plot_prediction(out_df, 'FOODS_1_001_CA_1_evaluation', 1)\n",
    "# plot_prediction(out_df, 'FOODS_1_001_CA_1_evaluation', 1.5)\n",
    "# plot_prediction(out_df, 'FOODS_1_001_CA_1_evaluation', 2)\n",
    "# plot_prediction(out_df, 'FOODS_1_001_CA_1_evaluation', 2.5)"
   ]
  },
  {
   "cell_type": "markdown",
   "metadata": {},
   "source": [
    "#### Training Strategy - 4.2"
   ]
  },
  {
   "cell_type": "code",
   "execution_count": null,
   "metadata": {},
   "outputs": [],
   "source": [
    "# First score is Private and second score is Public score"
   ]
  },
  {
   "attachments": {
    "Screenshot%20-%2014-11-2020%20,%2013_02_39.png": {
     "image/png": "[encoded data removed]"
    }
   },
   "cell_type": "markdown",
   "metadata": {},
   "source": [
    "![Screenshot%20-%2014-11-2020%20,%2013_02_39.png](attachment:Screenshot%20-%2014-11-2020%20,%2013_02_39.png)"
   ]
  },
  {
   "cell_type": "markdown",
   "metadata": {
    "jupyter": {
     "source_hidden": true
    }
   },
   "source": [
    "Not plotting the test code as the same eval data is fit here, only change is that entire val data is fit."
   ]
  },
  {
   "cell_type": "code",
   "execution_count": null,
   "metadata": {
    "jupyter": {
     "source_hidden": true
    }
   },
   "outputs": [],
   "source": [
    "model = LGBMRegressor(num_leaves=588, learning_rate=0.67, reg_lambda=0.78, n_estimators= 363, min_data_in_leaf= 906)\n",
    "ev_train_start, ev_train_end, val_train_start, val_train_end = 3049*(1941-365), 3049*1941, 3049*(0), 3049*1913\n",
    "strategy = 6.1\n",
    "def fit_fun_2(df, store_name):\n",
    "    cclear()\n",
    "    print('Using strategy ', strategy)\n",
    "    X, y, le = get_X_and_y(df, store_name)      # this fun selects rows for given store name, adds more columns, \n",
    "                                                # does encoding, returns X and y and encoder\n",
    "    \n",
    "    if df.id.iloc[0].find('evaluation') != -1:  # if evaluation data\n",
    "\n",
    "        # following code can be used to predict on 1913 to 1969 to plot true and predict of 1913 to 1941\n",
    "        # X_train, y_train = X.iloc[3049*(1941-365-365-365):3049*1913], y[3049*(1941-365-365-365):3049*1913]\n",
    "        # X_test, y_test = X.iloc[3049*1913:], y[3049*1913:]                     \n",
    "        \n",
    "        # Original code for fitting, fitiing only on 3 years data\n",
    "        X_train, y_train = X.iloc[ev_train_start:ev_train_end], y[ev_train_start:ev_train_end] \n",
    "        X_test, y_test = X.iloc[ev_train_end:], y[ev_train_end:]                     \n",
    "    \n",
    "    if df.id.iloc[0].find('validation') != -1:  # if validation data\n",
    "        X_train, y_train = X.iloc[val_train_start:val_train_end], y[val_train_start:val_train_end]\n",
    "        X_test, y_test = X.iloc[val_train_end:], y[val_train_end:]\n",
    "    \n",
    "    print('Fitting...')\n",
    "    model.fit(X_train, y_train)\n",
    "    train_out = model.predict(X_test)\n",
    "    \n",
    "    cclear()\n",
    "    print(store_name, ' Done.')\n",
    "    \n",
    "    return le, X_test, y_test, train_out"
   ]
  },
  {
   "cell_type": "markdown",
   "metadata": {},
   "source": [
    "### Training Strategy 5"
   ]
  },
  {
   "cell_type": "markdown",
   "metadata": {},
   "source": [
    "#### Training Function for 5.1, 5.2"
   ]
  },
  {
   "cell_type": "code",
   "execution_count": 3,
   "metadata": {
    "jupyter": {
     "source_hidden": true
    }
   },
   "outputs": [],
   "source": [
    "def fit_fun_2(df, store_name):\n",
    "    cclear()\n",
    "    print('Using strategy ', strategy)\n",
    "    X, y, le = get_X_and_y_withou_adding_more_features(df, store_name)\n",
    "    \n",
    "    if df.id.iloc[0].find('evaluation') != -1:  # if evaluation data\n",
    "\n",
    "        # X_train, y_train = X.iloc[0:3049*1941], y[:3049*1941]\n",
    "        # X_test, y_test = X.iloc[3049*1941:], y[3049*1941:]\n",
    "\n",
    "        # fitiing only on one year data\n",
    "        X_train, y_train = X.iloc[ev_train_start:ev_train_end], y[ev_train_start:ev_train_end] \n",
    "        X_test, y_test = X.iloc[ev_train_end:], y[ev_train_end:]                     \n",
    "\n",
    "    if df.id.iloc[0].find('validation') != -1:  # if validation data\n",
    "        \n",
    "        X_train, y_train = X.iloc[val_train_start:val_train_end], y[val_train_start:val_train_end]\n",
    "        X_test, y_test = X.iloc[val_train_end:], y[val_train_end:]\n",
    "    \n",
    "    model.fit(X_train, y_train)\n",
    "    train_out = model.predict(X_test)\n",
    "    \n",
    "    cclear()\n",
    "    print(store_name, ' Done.')\n",
    "    \n",
    "    return le, X_test, y_test, train_out"
   ]
  },
  {
   "cell_type": "markdown",
   "metadata": {},
   "source": [
    "#### Training strategy 5.1"
   ]
  },
  {
   "cell_type": "markdown",
   "metadata": {},
   "source": [
    "Instead of LGBRegressor we try XGBRegressor. \n",
    "We fit one year data for eval and entire data for val.\n",
    "We dont add more features than added by feature_engineer() function."
   ]
  },
  {
   "attachments": {
    "Screenshot%20-%2014-11-2020%20,%2013_05_12.png": {
     "image/png": "[encoded data removed]"
    }
   },
   "cell_type": "markdown",
   "metadata": {},
   "source": [
    "![Screenshot%20-%2014-11-2020%20,%2013_05_12.png](attachment:Screenshot%20-%2014-11-2020%20,%2013_05_12.png)"
   ]
  },
  {
   "cell_type": "code",
   "execution_count": 9,
   "metadata": {
    "jupyter": {
     "source_hidden": true
    }
   },
   "outputs": [],
   "source": [
    "ev_train_start, ev_train_end, val_train_start, val_train_end = 3049*(1941-365), 3049*1941, 3049*(0), 3049*1913\n",
    "strategy = 5.1\n",
    "model = xgb.XGBRegressor(colsample_bytree=0.4,\n",
    "                 gamma=0,                 \n",
    "                 learning_rate=0.07,\n",
    "                 max_depth=3,\n",
    "                 min_child_weight=1.5,\n",
    "                 n_estimators=100,                                                                    \n",
    "                 reg_alpha=0.75,\n",
    "                 reg_lambda=0.45,\n",
    "                 subsample=0.6,\n",
    "                 seed=42)"
   ]
  },
  {
   "cell_type": "markdown",
   "metadata": {},
   "source": [
    "#### Training strategy 5.2"
   ]
  },
  {
   "cell_type": "markdown",
   "metadata": {},
   "source": [
    "Instead of LGBRegressor we try XGBRegressor. \n",
    "We fit entire data for both eval and val. \n",
    "We dont add more features than added by feature_engineer() function."
   ]
  },
  {
   "attachments": {
    "Screenshot%20-%2014-11-2020%20,%2013_05_44.png": {
     "image/png": "[encoded data removed]"
    }
   },
   "cell_type": "markdown",
   "metadata": {},
   "source": [
    "![Screenshot%20-%2014-11-2020%20,%2013_05_44.png](attachment:Screenshot%20-%2014-11-2020%20,%2013_05_44.png)"
   ]
  },
  {
   "cell_type": "code",
   "execution_count": 4,
   "metadata": {
    "jupyter": {
     "source_hidden": true
    }
   },
   "outputs": [],
   "source": [
    "ev_train_start, ev_train_end, val_train_start, val_train_end = 3049*(0), 3049*1941, 3049*(0), 3049*1913\n",
    "strategy = 5.2\n",
    "model = xgb.XGBRegressor(colsample_bytree=0.4,\n",
    "                 gamma=0,                 \n",
    "                 learning_rate=0.07,\n",
    "                 max_depth=3,\n",
    "                 min_child_weight=1.5,\n",
    "                 n_estimators=100,                                                                    \n",
    "                 reg_alpha=0.75,\n",
    "                 reg_lambda=0.45,\n",
    "                 subsample=0.6,\n",
    "                 seed=42)"
   ]
  },
  {
   "cell_type": "markdown",
   "metadata": {},
   "source": [
    "#### Training Strategy - 5.3"
   ]
  },
  {
   "cell_type": "markdown",
   "metadata": {},
   "source": [
    "Instead of LGBRegressor we try XGBRegressor. \n",
    "We fit entire data for both eval and val. \n",
    "We all the features we can."
   ]
  },
  {
   "attachments": {
    "Screenshot%20-%2014-11-2020%20,%2013_06_11.png": {
     "image/png": "[encoded data removed]"
    }
   },
   "cell_type": "markdown",
   "metadata": {},
   "source": [
    "![Screenshot%20-%2014-11-2020%20,%2013_06_11.png](attachment:Screenshot%20-%2014-11-2020%20,%2013_06_11.png)"
   ]
  },
  {
   "cell_type": "markdown",
   "metadata": {
    "jupyter": {
     "source_hidden": true
    }
   },
   "source": [
    "Score - 4.93"
   ]
  },
  {
   "cell_type": "code",
   "execution_count": 3,
   "metadata": {
    "jupyter": {
     "source_hidden": true
    }
   },
   "outputs": [],
   "source": [
    "ev_train_start, ev_train_end, val_train_start, val_train_end = 3049*(0), 3049*1941, 3049*(0), 3049*1913\n",
    "strategy = 5.3\n",
    "model = xgb.XGBRegressor(colsample_bytree=0.4,\n",
    "                 gamma=0,                 \n",
    "                 learning_rate=0.07,\n",
    "                 max_depth=3,\n",
    "                 min_child_weight=1.5,\n",
    "                 n_estimators=100,                                                                    \n",
    "                 reg_alpha=0.75,\n",
    "                 reg_lambda=0.45,\n",
    "                 subsample=0.6,\n",
    "                 seed=42)\n",
    "\n",
    "def fit_fun_2(df, store_name):\n",
    "    cclear()\n",
    "    print('Using strategy ', strategy)\n",
    "    X, y, le = get_X_and_y(df, store_name)      # this fun selects rows for given store name, adds more columns, \n",
    "                                                # does encoding, returns X and y and encoder\n",
    "     \n",
    "    if df.id.iloc[0].find('evaluation') != -1:  # if evaluation data\n",
    "\n",
    "        # X_train, y_train = X.iloc[0:3049*1941], y[:3049*1941]\n",
    "        # X_test, y_test = X.iloc[3049*1941:], y[3049*1941:]\n",
    "\n",
    "        # fitiing only on one year data\n",
    "        X_train, y_train = X.iloc[ev_train_start:ev_train_end], y[ev_train_start:ev_train_end] \n",
    "        X_test, y_test = X.iloc[ev_train_end:], y[ev_train_end:]                     \n",
    "\n",
    "    if df.id.iloc[0].find('validation') != -1:  # if validation data\n",
    "        \n",
    "        X_train, y_train = X.iloc[val_train_start:val_train_end], y[val_train_start:val_train_end]\n",
    "        X_test, y_test = X.iloc[val_train_end:], y[val_train_end:]\n",
    "    \n",
    "    model.fit(X_train, y_train)\n",
    "    train_out = model.predict(X_test)\n",
    "    \n",
    "    cclear()\n",
    "    print(store_name, ' Done.')\n",
    "    \n",
    "    return le, X_test, y_test, train_out"
   ]
  },
  {
   "cell_type": "markdown",
   "metadata": {},
   "source": [
    "### Training Strategy 6.1 - Ignore"
   ]
  },
  {
   "cell_type": "code",
   "execution_count": null,
   "metadata": {},
   "outputs": [],
   "source": [
    "# This model could not be run due to lack of compute power, so there is no score attached.\n",
    "# In this strategy we wanted to fit one LGBM model to entire data. However our computation powers did not permit."
   ]
  },
  {
   "cell_type": "code",
   "execution_count": 5,
   "metadata": {
    "jupyter": {
     "source_hidden": true
    }
   },
   "outputs": [],
   "source": [
    "def get_whole_X_y(new_df):\n",
    "    print('Using strategy ', strategy)\n",
    "\n",
    "    new_df['day_of_month'] = new_df['day_of_month'].fillna(0)\n",
    "    new_df = new_df.astype({'day_of_month': 'int32'})      # Making day_of_month column as int\n",
    "    new_df['date'] = new_df['date'].astype(str)\n",
    "\n",
    "    y = new_df.unit_sale                          # getting the label\n",
    "    new_df = new_df.drop('unit_sale', axis=1)\n",
    "\n",
    "    print('Encoding categorical features...')\n",
    "    le, new_df = encode_cat_cols(new_df)          # Encoding Categorical Columns\n",
    "\n",
    "    X = new_df\n",
    "    return le, X, y"
   ]
  },
  {
   "cell_type": "code",
   "execution_count": 6,
   "metadata": {
    "jupyter": {
     "source_hidden": true
    }
   },
   "outputs": [],
   "source": [
    "def train_on_whole(new_df, X, y):\n",
    "    ev_train_start, ev_train_end, val_train_start, val_train_end = 10*3049*(0), 10*3049*1941,\\\n",
    "                                                                   10*3049*(0), 10*3049*1913\n",
    "    model = LGBMRegressor(boosting_type = 'gbdt',  \n",
    "                          objective = 'tweedie',\n",
    "                          tweedie_variance_power = 1,\n",
    "                          metric = 'rmse',\n",
    "                          subsample = 0.6,\n",
    "                          subsample_freq = 1,\n",
    "                          learning_rate = 0.05,\n",
    "                          num_leaves = 2100,\n",
    "                          min_data_in_leaf = 4100,\n",
    "                          feature_fraction = 0.7,\n",
    "                          max_bin = 100,\n",
    "                          n_estimators = 1400)\n",
    "    print('Getting X_train, y_train...')\n",
    "    if new_df.id.iloc[0].find('evaluation') != -1:  # if evaluation data\n",
    "\n",
    "        # fitiing only on one year data\n",
    "        X_train, y_train = X.iloc[ev_train_start:ev_train_end], y[ev_train_start:ev_train_end] \n",
    "        X_test, y_test = X.iloc[ev_train_end:], y[ev_train_end:]                     \n",
    "\n",
    "    if new_df.id.iloc[0].find('validation') != -1:  # if validation data\n",
    "\n",
    "        X_train, y_train = X.iloc[val_train_start:val_train_end], y[val_train_start:val_train_end]\n",
    "        X_test, y_test = X.iloc[val_train_end:], y[val_train_end:]\n",
    "    print('X_train len', len(X_train), 'y_train len', len(y_train), 'X_test len', len(X_test))\n",
    "    \n",
    "    print('Fitting model...')\n",
    "    model.fit(X_train, y_train)\n",
    "    _ = joblib.dump(model, 'ML6.1.pkl', compress=9)\n",
    "    print('Fitting done, exiting...')\n",
    "    return model, X_test"
   ]
  },
  {
   "cell_type": "code",
   "execution_count": 7,
   "metadata": {
    "jupyter": {
     "source_hidden": true
    }
   },
   "outputs": [],
   "source": [
    "def get_only_X_test(new_df, X, y):\n",
    "    ev_train_start, ev_train_end, val_train_start, val_train_end = 10*3049*(0), 10*3049*1941,\\\n",
    "                                                                   10*3049*(0), 10*3049*1913\n",
    "    \n",
    "    print('Getting X_train, y_train...')\n",
    "    if new_df.id.iloc[0].find('evaluation') != -1:  # if evaluation data\n",
    "\n",
    "        # fitiing only on one year data\n",
    "        X_train, y_train = X.iloc[ev_train_start:ev_train_end], y[ev_train_start:ev_train_end] \n",
    "        X_test, y_test = X.iloc[ev_train_end:], y[ev_train_end:]                     \n",
    "\n",
    "    if new_df.id.iloc[0].find('validation') != -1:  # if validation data\n",
    "\n",
    "        X_train, y_train = X.iloc[val_train_start:val_train_end], y[val_train_start:val_train_end]\n",
    "        X_test, y_test = X.iloc[val_train_end:], y[val_train_end:]\n",
    "    return X_test"
   ]
  },
  {
   "cell_type": "code",
   "execution_count": null,
   "metadata": {
    "jupyter": {
     "source_hidden": true
    }
   },
   "outputs": [],
   "source": [
    "def make_prediction(model, X_test):\n",
    "    print('Making predictions...')\n",
    "    train_out = model.predict(X_test)\n",
    "\n",
    "    print('Done.')\n",
    "    return train_out"
   ]
  },
  {
   "cell_type": "code",
   "execution_count": 9,
   "metadata": {
    "jupyter": {
     "source_hidden": true
    }
   },
   "outputs": [],
   "source": [
    "strategy = 6.1"
   ]
  },
  {
   "cell_type": "code",
   "execution_count": null,
   "metadata": {
    "jupyter": {
     "source_hidden": true
    }
   },
   "outputs": [],
   "source": [
    "########### Train"
   ]
  },
  {
   "cell_type": "code",
   "execution_count": 10,
   "metadata": {
    "jupyter": {
     "outputs_hidden": true,
     "source_hidden": true
    }
   },
   "outputs": [
    {
     "name": "stdout",
     "output_type": "stream",
     "text": [
      "CPU times: user 29 s, sys: 7.76 s, total: 36.8 s\n",
      "Wall time: 36.8 s\n"
     ]
    }
   ],
   "source": [
    "%%time\n",
    "df = sales_train_ev.copy()\n",
    "empty_list = [0]*30490\n",
    "for i in range(1942, 1970):\n",
    "    df['d_'+str(i)] = empty_list\n",
    "df = feature_engineer(df)"
   ]
  },
  {
   "cell_type": "code",
   "execution_count": 11,
   "metadata": {
    "jupyter": {
     "outputs_hidden": true,
     "source_hidden": true
    }
   },
   "outputs": [
    {
     "name": "stdout",
     "output_type": "stream",
     "text": [
      "Using strategy  6.1\n",
      "Encoding categorical features...\n",
      "Encoding col:  id\n",
      "Encoding col:  item_id\n",
      "Encoding col:  dept_id\n",
      "Encoding col:  cat_id\n",
      "Encoding col:  store_id\n",
      "Encoding col:  state_id\n",
      "Encoding col:  d\n",
      "Encoding col:  date\n",
      "CPU times: user 1min 37s, sys: 19.7 s, total: 1min 57s\n",
      "Wall time: 1min 57s\n"
     ]
    }
   ],
   "source": [
    "%%time\n",
    "le, X, y = get_whole_X_y(df)"
   ]
  },
  {
   "cell_type": "code",
   "execution_count": 12,
   "metadata": {
    "jupyter": {
     "outputs_hidden": true,
     "source_hidden": true
    }
   },
   "outputs": [
    {
     "data": {
      "text/plain": [
       "(60034810, 60034810)"
      ]
     },
     "execution_count": 12,
     "metadata": {},
     "output_type": "execute_result"
    }
   ],
   "source": [
    "len(X), len(y)"
   ]
  },
  {
   "cell_type": "code",
   "execution_count": null,
   "metadata": {
    "jupyter": {
     "outputs_hidden": true,
     "source_hidden": true
    }
   },
   "outputs": [
    {
     "name": "stdout",
     "output_type": "stream",
     "text": [
      "Getting X_train, y_train...\n",
      "X_train len 59181090 y_train len 59181090 X_test len 853720\n",
      "Fitting model...\n"
     ]
    }
   ],
   "source": [
    "%%time\n",
    "model, X_test = train_on_whole(df, X, y)"
   ]
  },
  {
   "cell_type": "code",
   "execution_count": null,
   "metadata": {
    "jupyter": {
     "source_hidden": true
    }
   },
   "outputs": [],
   "source": [
    "############## Predict"
   ]
  },
  {
   "cell_type": "code",
   "execution_count": null,
   "metadata": {
    "jupyter": {
     "source_hidden": true
    }
   },
   "outputs": [],
   "source": [
    "regg = joblib.load('ML6.1.pkl')"
   ]
  },
  {
   "cell_type": "code",
   "execution_count": null,
   "metadata": {
    "jupyter": {
     "source_hidden": true
    }
   },
   "outputs": [],
   "source": [
    "%%time\n",
    "df = sales_train_ev.copy()\n",
    "empty_list = [0]*30490\n",
    "for i in range(1942, 1970):\n",
    "    df['d_'+str(i)] = empty_list\n",
    "df = feature_engineer(df)\n",
    "\n",
    "le, X, y = get_whole_X_y(df)\n",
    "X_test = get_only_X_test(df, X, y)"
   ]
  },
  {
   "cell_type": "code",
   "execution_count": null,
   "metadata": {
    "jupyter": {
     "source_hidden": true
    }
   },
   "outputs": [],
   "source": [
    "X_test"
   ]
  },
  {
   "cell_type": "code",
   "execution_count": null,
   "metadata": {
    "jupyter": {
     "source_hidden": true
    }
   },
   "outputs": [],
   "source": [
    "%%time\n",
    "train_out = make_prediction(regg, X_test)"
   ]
  },
  {
   "cell_type": "code",
   "execution_count": null,
   "metadata": {
    "jupyter": {
     "source_hidden": true
    }
   },
   "outputs": [],
   "source": [
    "# def reverse_long_form(le, X_test, train_out):\n",
    "#     for i in range(len(non_numeric_col_list)):\n",
    "#         X_test[non_numeric_col_list[i]] = le[i].inverse_transform(X_test[non_numeric_col_list[i]])\n",
    "\n",
    "#     X_test['unit_sale'] = train_out\n",
    "#     kk = X_test.pivot(index='id', columns='d')['unit_sale']\n",
    "#     kk['id'] = kk.index\n",
    "#     kk.reset_index(drop=True, inplace=True)\n",
    "\n",
    "#     cols = list(kk)\n",
    "#     cols = [cols[-1]] + cols[:-1]\n",
    "#     kk = kk[cols]\n",
    "\n",
    "#     return kk\n",
    "\n",
    "# out_df = reverse_long_form(le, X_test, train_out)\n",
    "# reorder_data(sales_train_val, 'main_out_val')"
   ]
  },
  {
   "cell_type": "markdown",
   "metadata": {},
   "source": [
    "### Training Strategy 7"
   ]
  },
  {
   "cell_type": "markdown",
   "metadata": {},
   "source": [
    "#### Training Strategy 7.1"
   ]
  },
  {
   "attachments": {
    "Screenshot%20-%2014-11-2020%20,%2013_09_28.png": {
     "image/png": "[encoded data removed]"
    }
   },
   "cell_type": "markdown",
   "metadata": {},
   "source": [
    "![Screenshot%20-%2014-11-2020%20,%2013_09_28.png](attachment:Screenshot%20-%2014-11-2020%20,%2013_09_28.png)"
   ]
  },
  {
   "cell_type": "markdown",
   "metadata": {},
   "source": [
    "We fit an LGBM model on entire data separated by dept id. Hyperparameters got through tuning on a sample."
   ]
  },
  {
   "cell_type": "code",
   "execution_count": 3,
   "metadata": {
    "jupyter": {
     "source_hidden": true
    }
   },
   "outputs": [],
   "source": [
    "def startegy7dot1(new_df, dept):\n",
    "    print('Using strategy ', strategy)\n",
    "\n",
    "    evaluation, validation = new_df.id.iloc[0].find('evaluation'), new_df.id.iloc[0].find('validation')\n",
    "    new_df = new_df[new_df.dept_id == dept]\n",
    "    print('Total rows: ', len(new_df))\n",
    "    \n",
    "    rows_per_day = len(new_df[new_df.d == 'd_1'])\n",
    "    print('Rows per day: ', rows_per_day)\n",
    "    \n",
    "    new_df['day_of_month'] = new_df['day_of_month'].fillna(0)\n",
    "    new_df = new_df.astype({'day_of_month': 'int32'})      # Making day_of_month column as int\n",
    "    new_df['date'] = new_df['date'].astype(str)\n",
    "\n",
    "    y = new_df.unit_sale                          # getting the label\n",
    "    new_df = new_df.drop('unit_sale', axis=1)\n",
    "\n",
    "    print('Encoding categorical features...')\n",
    "    le, new_df = encode_cat_cols(new_df)          # Encoding Categorical Columns\n",
    "\n",
    "    X = new_df\n",
    "    \n",
    "    ev_train_start, ev_train_end, val_train_start, val_train_end = rows_per_day*(0), rows_per_day*1941,\\\n",
    "                                                                   rows_per_day*(0), rows_per_day*1913\n",
    "    model = LGBMRegressor(boosting_type = 'gbdt',  \n",
    "                          objective = 'tweedie',\n",
    "                          tweedie_variance_power = 1,\n",
    "                          metric = 'rmse',\n",
    "                          subsample = 0.6,\n",
    "                          subsample_freq = 1,\n",
    "                          learning_rate = 0.05,\n",
    "                          num_leaves = 2100,\n",
    "                          min_data_in_leaf = 4100,\n",
    "                          feature_fraction = 0.7,\n",
    "                          max_bin = 100,\n",
    "                          n_estimators = 1400)\n",
    "    \n",
    "    if evaluation != -1:  # if evaluation data\n",
    "        print('Getting X_train, y_train...')\n",
    "        # fitiing only on one year data\n",
    "        X_train, y_train = X.iloc[ev_train_start:ev_train_end], y[ev_train_start:ev_train_end] \n",
    "        X_test, y_test = X.iloc[ev_train_end:], y[ev_train_end:] \n",
    "        \n",
    "    if validation != -1:  # if validation data\n",
    "        print('Getting X_train, y_train...')\n",
    "        X_train, y_train = X.iloc[val_train_start:val_train_end], y[val_train_start:val_train_end]\n",
    "        X_test, y_test = X.iloc[val_train_end:], y[val_train_end:]\n",
    "    \n",
    "    print('X_train len', len(X_train), 'y_train len', len(y_train), 'X_test len', len(X_test))\n",
    "    \n",
    "    print('Fitting model...')\n",
    "    model.fit(X_train, y_train)\n",
    "    print('Fitting done.')\n",
    "    \n",
    "    print('Making predictions...')\n",
    "    train_out = model.predict(X_test)\n",
    "\n",
    "    print('Done.')\n",
    "    return le, X_test, train_out\n",
    "\n",
    "def get_output_of_eval_or_val(df):\n",
    "    main_out_df = pd.DataFrame()\n",
    "    \n",
    "    list_dept = list(set(df.dept_id))\n",
    "    for i in list_dept:\n",
    "        print('Sequence of depts processing: ', list_dept)\n",
    "        print('Working on Dept: ', i)\n",
    "        le, X_test, train_out = startegy7dot1(df, i)\n",
    "        print('Reversing the long form...')\n",
    "        out_df = reverse_long_form(le, X_test, train_out)\n",
    "        main_out_df = pd.concat([main_out_df, out_df], ignore_index=False)\n",
    "        cclear()\n",
    "\n",
    "    l = []      # In this part we rename the columns to F_1, F_2 ....\n",
    "    for i in range(1,29):\n",
    "        l.append('F'+str(i))\n",
    "    l = ['id']+l\n",
    "\n",
    "    main_out_df.columns = l\n",
    "    \n",
    "    return main_out_df"
   ]
  },
  {
   "cell_type": "code",
   "execution_count": 6,
   "metadata": {
    "jupyter": {
     "source_hidden": true
    }
   },
   "outputs": [],
   "source": [
    "strategy = 7.1"
   ]
  },
  {
   "cell_type": "code",
   "execution_count": 4,
   "metadata": {
    "jupyter": {
     "outputs_hidden": true,
     "source_hidden": true
    }
   },
   "outputs": [
    {
     "name": "stdout",
     "output_type": "stream",
     "text": [
      "CPU times: user 29.7 s, sys: 7.72 s, total: 37.5 s\n",
      "Wall time: 37.4 s\n"
     ]
    }
   ],
   "source": [
    "%%time\n",
    "\n",
    "df = sales_train_ev.copy()\n",
    "empty_list = [0]*30490\n",
    "for i in range(1942, 1970):\n",
    "    df['d_'+str(i)] = empty_list\n",
    "df = feature_engineer(df)"
   ]
  },
  {
   "cell_type": "code",
   "execution_count": 1,
   "metadata": {
    "jupyter": {
     "outputs_hidden": true,
     "source_hidden": true
    }
   },
   "outputs": [],
   "source": [
    "# le, X_test, train_out = startegy7dot1(df, 'HOBBIES_1')\n",
    "# out_df = reverse_long_form(le, X_test, train_out)"
   ]
  },
  {
   "cell_type": "code",
   "execution_count": 5,
   "metadata": {
    "jupyter": {
     "outputs_hidden": true,
     "source_hidden": true
    }
   },
   "outputs": [
    {
     "name": "stdout",
     "output_type": "stream",
     "text": [
      "CPU times: user 8h 10min 54s, sys: 1min 51s, total: 8h 12min 46s\n",
      "Wall time: 1h 19min 40s\n"
     ]
    }
   ],
   "source": [
    "%%time\n",
    "main_out_df_ev = get_output_of_eval_or_val(df)\n",
    "main_out_df_ev.to_csv('main_out_ev.csv')"
   ]
  },
  {
   "cell_type": "code",
   "execution_count": null,
   "metadata": {
    "jupyter": {
     "source_hidden": true
    }
   },
   "outputs": [],
   "source": [
    "#### Val Data"
   ]
  },
  {
   "cell_type": "code",
   "execution_count": 4,
   "metadata": {
    "jupyter": {
     "outputs_hidden": true,
     "source_hidden": true
    }
   },
   "outputs": [
    {
     "name": "stdout",
     "output_type": "stream",
     "text": [
      "CPU times: user 29 s, sys: 7.46 s, total: 36.4 s\n",
      "Wall time: 36.4 s\n"
     ]
    }
   ],
   "source": [
    "%%time\n",
    "df = sales_train_val.copy()\n",
    "empty_list = [0]*30490\n",
    "for i in range(1914, 1942):\n",
    "    df['d_'+str(i)] = empty_list\n",
    "df = feature_engineer(df)"
   ]
  },
  {
   "cell_type": "code",
   "execution_count": 7,
   "metadata": {
    "jupyter": {
     "outputs_hidden": true,
     "source_hidden": true
    }
   },
   "outputs": [
    {
     "name": "stdout",
     "output_type": "stream",
     "text": [
      "CPU times: user 8h 3min 13s, sys: 1min 49s, total: 8h 5min 2s\n",
      "Wall time: 1h 18min 29s\n"
     ]
    }
   ],
   "source": [
    "%%time\n",
    "main_out_df_val = get_output_of_eval_or_val(df)\n",
    "main_out_df_val.to_csv('main_out_val.csv')"
   ]
  },
  {
   "cell_type": "code",
   "execution_count": 8,
   "metadata": {
    "jupyter": {
     "source_hidden": true
    }
   },
   "outputs": [],
   "source": [
    "reorder_data(sales_train_val, 'main_out_val')\n",
    "reorder_data(sales_train_ev, 'main_out_ev')"
   ]
  },
  {
   "cell_type": "code",
   "execution_count": null,
   "metadata": {
    "jupyter": {
     "source_hidden": true
    }
   },
   "outputs": [],
   "source": [
    "main_out_ev = pd.read_csv('main_out_ev.csv')\n",
    "main_out_ev = main_out_ev.drop(main_out_ev.columns[0], axis=1)\n",
    "\n",
    "main_out_val = pd.read_csv('main_out_val.csv')\n",
    "main_out_val = main_out_val.drop(main_out_val.columns[0], axis=1)\n",
    "\n",
    "sub_df = pd.concat([main_out_ev, main_out_val], ignore_index=True)\n",
    "sub_df = sub_df.round(2)"
   ]
  },
  {
   "cell_type": "markdown",
   "metadata": {},
   "source": [
    "#### Training Strategy 7.2"
   ]
  },
  {
   "attachments": {
    "Screenshot%20-%2014-11-2020%20,%2013_10_00.png": {
     "image/png": "[encoded data removed]"
    }
   },
   "cell_type": "markdown",
   "metadata": {},
   "source": [
    "![Screenshot%20-%2014-11-2020%20,%2013_10_00.png](attachment:Screenshot%20-%2014-11-2020%20,%2013_10_00.png)"
   ]
  },
  {
   "cell_type": "markdown",
   "metadata": {},
   "source": [
    "We repeat the 7.1 strategy but this time we do another hyperparameter tuning."
   ]
  },
  {
   "cell_type": "code",
   "execution_count": null,
   "metadata": {},
   "outputs": [],
   "source": [
    "########################### Hyperparameter Tuning on Data for one Dept Id and all years possible. ########################"
   ]
  },
  {
   "cell_type": "code",
   "execution_count": 3,
   "metadata": {
    "jupyter": {
     "outputs_hidden": true,
     "source_hidden": true
    }
   },
   "outputs": [
    {
     "name": "stdout",
     "output_type": "stream",
     "text": [
      "CPU times: user 35.3 s, sys: 8.17 s, total: 43.5 s\n",
      "Wall time: 43.4 s\n"
     ]
    }
   ],
   "source": [
    "%%time\n",
    "\n",
    "df = sales_train_ev.copy()\n",
    "empty_list = [0]*30490\n",
    "for i in range(1942, 1970):\n",
    "    df['d_'+str(i)] = empty_list\n",
    "df = feature_engineer(df)"
   ]
  },
  {
   "cell_type": "code",
   "execution_count": 4,
   "metadata": {
    "jupyter": {
     "outputs_hidden": true,
     "source_hidden": true
    }
   },
   "outputs": [
    {
     "name": "stdout",
     "output_type": "stream",
     "text": [
      "Total rows:  8191040\n",
      "Rows per day:  4160\n"
     ]
    },
    {
     "name": "stderr",
     "output_type": "stream",
     "text": [
      "/usr/local/lib/python3.6/dist-packages/ipykernel_launcher.py:8: SettingWithCopyWarning: \n",
      "A value is trying to be set on a copy of a slice from a DataFrame.\n",
      "Try using .loc[row_indexer,col_indexer] = value instead\n",
      "\n",
      "See the caveats in the documentation: https://pandas.pydata.org/pandas-docs/stable/user_guide/indexing.html#returning-a-view-versus-a-copy\n",
      "  \n"
     ]
    },
    {
     "name": "stdout",
     "output_type": "stream",
     "text": [
      "Encoding categorical features...\n",
      "Encoding col:  id\n",
      "Encoding col:  item_id\n",
      "Encoding col:  dept_id\n",
      "Encoding col:  cat_id\n",
      "Encoding col:  store_id\n",
      "Encoding col:  state_id\n",
      "Encoding col:  d\n",
      "Encoding col:  date\n",
      "Getting X_train, y_train...\n",
      "CPU times: user 28.3 s, sys: 9.9 s, total: 38.2 s\n",
      "Wall time: 38.1 s\n"
     ]
    }
   ],
   "source": [
    "%%time\n",
    "\n",
    "new_df = df\n",
    "new_df = new_df[new_df.dept_id == 'HOBBIES_1']\n",
    "print('Total rows: ', len(new_df))\n",
    "\n",
    "rows_per_day = len(new_df[new_df.d == 'd_1'])\n",
    "print('Rows per day: ', rows_per_day)\n",
    "\n",
    "new_df['day_of_month'] = new_df['day_of_month'].fillna(0)\n",
    "new_df = new_df.astype({'day_of_month': 'int32'})      # Making day_of_month column as int\n",
    "new_df['date'] = new_df['date'].astype(str)\n",
    "\n",
    "y = new_df.unit_sale                          # getting the label\n",
    "new_df = new_df.drop('unit_sale', axis=1)\n",
    "\n",
    "print('Encoding categorical features...')\n",
    "le, new_df = encode_cat_cols(new_df)          # Encoding Categorical Columns\n",
    "\n",
    "X = new_df\n",
    "\n",
    "ev_train_start, ev_train_end, val_train_start, val_train_end = rows_per_day*(0), rows_per_day*1941,\\\n",
    "                                                               rows_per_day*(0), rows_per_day*1913\n",
    "\n",
    "print('Getting X_train, y_train...')\n",
    "# fitiing only on one year data\n",
    "X_train, y_train = X.iloc[ev_train_start:ev_train_end], y[ev_train_start:ev_train_end] \n",
    "X_test, y_test = X.iloc[ev_train_end:], y[ev_train_end:]"
   ]
  },
  {
   "cell_type": "code",
   "execution_count": 5,
   "metadata": {
    "jupyter": {
     "outputs_hidden": true,
     "source_hidden": true
    },
    "scrolled": true
   },
   "outputs": [
    {
     "name": "stdout",
     "output_type": "stream",
     "text": [
      "Fitting 2 folds for each of 3 candidates, totalling 6 fits\n"
     ]
    },
    {
     "name": "stderr",
     "output_type": "stream",
     "text": [
      "[Parallel(n_jobs=1)]: Using backend SequentialBackend with 1 concurrent workers.\n"
     ]
    },
    {
     "name": "stdout",
     "output_type": "stream",
     "text": [
      "[LightGBM] [Warning] num_threads is set=8, n_jobs=-1 will be ignored. Current value: num_threads=8\n",
      "[LightGBM] [Warning] feature_fraction is set=0.9251862233436707, colsample_bytree=1.0 will be ignored. Current value: feature_fraction=0.9251862233436707\n",
      "[LightGBM] [Warning] min_data_in_leaf is set=1166, min_child_samples=20 will be ignored. Current value: min_data_in_leaf=1166\n",
      "[LightGBM] [Warning] num_threads is set=8, n_jobs=-1 will be ignored. Current value: num_threads=8\n",
      "[LightGBM] [Warning] feature_fraction is set=0.9251862233436707, colsample_bytree=1.0 will be ignored. Current value: feature_fraction=0.9251862233436707\n",
      "[LightGBM] [Warning] min_data_in_leaf is set=1166, min_child_samples=20 will be ignored. Current value: min_data_in_leaf=1166\n",
      "[LightGBM] [Warning] num_threads is set=8, n_jobs=-1 will be ignored. Current value: num_threads=8\n",
      "[LightGBM] [Warning] feature_fraction is set=0.945902608593411, colsample_bytree=1.0 will be ignored. Current value: feature_fraction=0.945902608593411\n",
      "[LightGBM] [Warning] min_data_in_leaf is set=700, min_child_samples=20 will be ignored. Current value: min_data_in_leaf=700\n",
      "[LightGBM] [Warning] num_threads is set=8, n_jobs=-1 will be ignored. Current value: num_threads=8\n",
      "[LightGBM] [Warning] feature_fraction is set=0.945902608593411, colsample_bytree=1.0 will be ignored. Current value: feature_fraction=0.945902608593411\n",
      "[LightGBM] [Warning] min_data_in_leaf is set=700, min_child_samples=20 will be ignored. Current value: min_data_in_leaf=700\n",
      "[LightGBM] [Warning] num_threads is set=8, n_jobs=-1 will be ignored. Current value: num_threads=8\n",
      "[LightGBM] [Warning] feature_fraction is set=0.15064253784566134, colsample_bytree=1.0 will be ignored. Current value: feature_fraction=0.15064253784566134\n",
      "[LightGBM] [Warning] min_data_in_leaf is set=1380, min_child_samples=20 will be ignored. Current value: min_data_in_leaf=1380\n",
      "[LightGBM] [Warning] num_threads is set=8, n_jobs=-1 will be ignored. Current value: num_threads=8\n",
      "[LightGBM] [Warning] feature_fraction is set=0.15064253784566134, colsample_bytree=1.0 will be ignored. Current value: feature_fraction=0.15064253784566134\n",
      "[LightGBM] [Warning] min_data_in_leaf is set=1380, min_child_samples=20 will be ignored. Current value: min_data_in_leaf=1380\n"
     ]
    },
    {
     "name": "stderr",
     "output_type": "stream",
     "text": [
      "[Parallel(n_jobs=1)]: Done   6 out of   6 | elapsed: 81.1min finished\n"
     ]
    },
    {
     "name": "stdout",
     "output_type": "stream",
     "text": [
      "[LightGBM] [Warning] num_threads is set=8, n_jobs=-1 will be ignored. Current value: num_threads=8\n",
      "[LightGBM] [Warning] feature_fraction is set=0.15064253784566134, colsample_bytree=1.0 will be ignored. Current value: feature_fraction=0.15064253784566134\n",
      "[LightGBM] [Warning] min_data_in_leaf is set=1380, min_child_samples=20 will be ignored. Current value: min_data_in_leaf=1380\n",
      "Best score reached: -4.470092102883158 with params: {'feature_fraction': 0.15064253784566134, 'learning_rate': 0.3071575016251908, 'max_bin': 429, 'min_data_in_leaf': 1380, 'n_estimators': 1515, 'num_leaves': 1743, 'reg_lambda': 0.3888338532144111, 'subsample': 0.613496996394585} \n",
      "CPU times: user 10h 14min 3s, sys: 1min 35s, total: 10h 15min 39s\n",
      "Wall time: 1h 29min 36s\n"
     ]
    }
   ],
   "source": [
    "%%time\n",
    "param_list_to_try = {\n",
    "            'subsample' : sp_randFloat(0.1, 0.9),\n",
    "            'learning_rate' : sp_randFloat(0.01, 0.9),\n",
    "            'num_leaves' : sp_randint(150, 2200),\n",
    "            'min_data_in_leaf' : sp_randint(100, 5000),\n",
    "            'reg_lambda' : sp_randFloat(0.1, 0.9),\n",
    "            'feature_fraction' :sp_randFloat(0.1, 0.9),\n",
    "            'max_bin' : sp_randint(50, 1000),\n",
    "            'n_estimators' : sp_randint(100, 2000)}\n",
    "\n",
    "no_of_hyperparameters = 3\n",
    "clf = LGBMRegressor(boosting_type = 'gbdt', \n",
    "                    objective = 'tweedie', \n",
    "                    tweedie_variance_power = 1.1,\n",
    "                    metric = 'rmse',\n",
    "                    subsample_freq = 1,\n",
    "                    boost_from_average = False,\n",
    "                    verbose = -1,\n",
    "                    num_threads = 8)\n",
    "\n",
    "random_search = RandomizedSearchCV( estimator = clf, param_distributions = param_list_to_try,\\\n",
    "                                   n_iter = no_of_hyperparameters\\\n",
    "            ,scoring = make_scorer(mse, greater_is_better = False), cv = 2, refit = True, \\\n",
    "                                   random_state = 314, verbose = True)\n",
    "\n",
    "random_search.fit(X_train, y_train)\n",
    "print('Best score reached: {} with params: {} '.format(random_search.best_score_, random_search.best_params_))"
   ]
  },
  {
   "cell_type": "code",
   "execution_count": null,
   "metadata": {},
   "outputs": [],
   "source": [
    "# Best score reached: -4.470092102883158 with params: \n",
    "# {'feature_fraction': 0.15064253784566134, 'learning_rate': 0.3071575016251908, 'max_bin': 429, 'min_data_in_leaf': 1380, \n",
    "#  'n_estimators': 1515, 'num_leaves': 1743, 'reg_lambda': 0.3888338532144111, 'subsample': 0.613496996394585}"
   ]
  },
  {
   "cell_type": "code",
   "execution_count": null,
   "metadata": {},
   "outputs": [],
   "source": [
    "########################### Repeating Training Strategy 7.1 with new found best parameters ###############################"
   ]
  },
  {
   "cell_type": "code",
   "execution_count": 9,
   "metadata": {},
   "outputs": [],
   "source": [
    "def startegy7dot1(new_df, dept):\n",
    "    print('Using strategy ', strategy)\n",
    "\n",
    "    evaluation, validation = new_df.id.iloc[0].find('evaluation'), new_df.id.iloc[0].find('validation')\n",
    "    new_df = new_df[new_df.dept_id == dept]\n",
    "    print('Total rows: ', len(new_df))\n",
    "    \n",
    "    rows_per_day = len(new_df[new_df.d == 'd_1'])\n",
    "    print('Rows per day: ', rows_per_day)\n",
    "    \n",
    "    new_df['day_of_month'] = new_df['day_of_month'].fillna(0)\n",
    "    new_df = new_df.astype({'day_of_month': 'int32'})      # Making day_of_month column as int\n",
    "    new_df['date'] = new_df['date'].astype(str)\n",
    "\n",
    "    y = new_df.unit_sale                          # getting the label\n",
    "    new_df = new_df.drop('unit_sale', axis=1)\n",
    "\n",
    "    print('Encoding categorical features...')\n",
    "    le, new_df = encode_cat_cols(new_df)          # Encoding Categorical Columns\n",
    "\n",
    "    X = new_df\n",
    "    \n",
    "    ev_train_start, ev_train_end, val_train_start, val_train_end = rows_per_day*(0), rows_per_day*1941,\\\n",
    "                                                                   rows_per_day*(0), rows_per_day*1913\n",
    "    model = LGBMRegressor(boosting_type = 'gbdt',  \n",
    "                          objective = 'tweedie',\n",
    "                          tweedie_variance_power = 1.1,\n",
    "                          metric = 'rmse',\n",
    "                          subsample = 0.613,\n",
    "                          subsample_freq = 1,\n",
    "                          learning_rate = 0.307,\n",
    "                          num_leaves = 1743,\n",
    "                          min_data_in_leaf = 1380,\n",
    "                          feature_fraction = 0.1506,\n",
    "                          max_bin = 429,\n",
    "                          n_estimators = 1515,\n",
    "                          boost_from_average = False,\n",
    "                          verbose = -1,\n",
    "                          num_threads = 8,\n",
    "                          reg_lambda = 0.388)\n",
    " \n",
    "    if evaluation != -1:  # if evaluation data\n",
    "        print('Getting X_train, y_train...')\n",
    "        # fitiing only on one year data\n",
    "        X_train, y_train = X.iloc[ev_train_start:ev_train_end], y[ev_train_start:ev_train_end] \n",
    "        X_test, y_test = X.iloc[ev_train_end:], y[ev_train_end:] \n",
    "        \n",
    "    if validation != -1:  # if validation data\n",
    "        print('Getting X_train, y_train...')\n",
    "        X_train, y_train = X.iloc[val_train_start:val_train_end], y[val_train_start:val_train_end]\n",
    "        X_test, y_test = X.iloc[val_train_end:], y[val_train_end:]\n",
    "    \n",
    "    print('X_train len', len(X_train), 'y_train len', len(y_train), 'X_test len', len(X_test))\n",
    "    \n",
    "    print('Fitting model...')\n",
    "    model.fit(X_train, y_train)\n",
    "    print('Fitting done.')\n",
    "    \n",
    "    print('Making predictions...')\n",
    "    train_out = model.predict(X_test)\n",
    "\n",
    "    print('Done.')\n",
    "    return le, X_test, train_out\n",
    "\n",
    "def get_output_of_eval_or_val(df):\n",
    "    main_out_df = pd.DataFrame()\n",
    "    \n",
    "    list_dept = list(set(df.dept_id))\n",
    "    for i in list_dept:\n",
    "        print('Sequence of depts processing: ', list_dept)\n",
    "        print('Working on Dept: ', i)\n",
    "        le, X_test, train_out = startegy7dot1(df, i)\n",
    "        print('Reversing the long form...')\n",
    "        out_df = reverse_long_form(le, X_test, train_out)\n",
    "        main_out_df = pd.concat([main_out_df, out_df], ignore_index=False)\n",
    "        cclear()\n",
    "\n",
    "    l = []      # In this part we rename the columns to F_1, F_2 ....\n",
    "    for i in range(1,29):\n",
    "        l.append('F'+str(i))\n",
    "    l = ['id']+l\n",
    "\n",
    "    main_out_df.columns = l\n",
    "    \n",
    "    return main_out_df"
   ]
  },
  {
   "cell_type": "code",
   "execution_count": 10,
   "metadata": {},
   "outputs": [],
   "source": [
    "strategy = 7.2"
   ]
  },
  {
   "cell_type": "code",
   "execution_count": 7,
   "metadata": {},
   "outputs": [
    {
     "name": "stdout",
     "output_type": "stream",
     "text": [
      "CPU times: user 36.4 s, sys: 7.84 s, total: 44.2 s\n",
      "Wall time: 44.1 s\n"
     ]
    }
   ],
   "source": [
    "%%time\n",
    "\n",
    "df = sales_train_ev.copy()\n",
    "empty_list = [0]*30490\n",
    "for i in range(1942, 1970):\n",
    "    df['d_'+str(i)] = empty_list\n",
    "df = feature_engineer(df)"
   ]
  },
  {
   "cell_type": "code",
   "execution_count": 11,
   "metadata": {},
   "outputs": [
    {
     "name": "stdout",
     "output_type": "stream",
     "text": [
      "CPU times: user 7h 8min 14s, sys: 1min 21s, total: 7h 9min 35s\n",
      "Wall time: 1h 6min 36s\n"
     ]
    }
   ],
   "source": [
    "%%time\n",
    "main_out_df_ev = get_output_of_eval_or_val(df)\n",
    "main_out_df_ev.to_csv('main_out_ev.csv')"
   ]
  },
  {
   "cell_type": "code",
   "execution_count": null,
   "metadata": {},
   "outputs": [],
   "source": [
    "#### Val Data"
   ]
  },
  {
   "cell_type": "code",
   "execution_count": 12,
   "metadata": {},
   "outputs": [
    {
     "name": "stdout",
     "output_type": "stream",
     "text": [
      "CPU times: user 36.9 s, sys: 7.93 s, total: 44.8 s\n",
      "Wall time: 44.7 s\n"
     ]
    }
   ],
   "source": [
    "%%time\n",
    "df = sales_train_val.copy()\n",
    "empty_list = [0]*30490\n",
    "for i in range(1914, 1942):\n",
    "    df['d_'+str(i)] = empty_list\n",
    "df = feature_engineer(df)"
   ]
  },
  {
   "cell_type": "code",
   "execution_count": 13,
   "metadata": {},
   "outputs": [
    {
     "name": "stdout",
     "output_type": "stream",
     "text": [
      "CPU times: user 6h 58min 59s, sys: 1min 17s, total: 7h 17s\n",
      "Wall time: 1h 5min 4s\n"
     ]
    }
   ],
   "source": [
    "%%time\n",
    "main_out_df_val = get_output_of_eval_or_val(df)\n",
    "main_out_df_val.to_csv('main_out_val.csv')"
   ]
  },
  {
   "cell_type": "code",
   "execution_count": 14,
   "metadata": {},
   "outputs": [],
   "source": [
    "reorder_data(sales_train_val, 'main_out_val')\n",
    "reorder_data(sales_train_ev, 'main_out_ev')"
   ]
  },
  {
   "cell_type": "code",
   "execution_count": 15,
   "metadata": {},
   "outputs": [],
   "source": [
    "main_out_ev = pd.read_csv('main_out_ev.csv')\n",
    "main_out_ev = main_out_ev.drop(main_out_ev.columns[0], axis=1)\n",
    "\n",
    "main_out_val = pd.read_csv('main_out_val.csv')\n",
    "main_out_val = main_out_val.drop(main_out_val.columns[0], axis=1)\n",
    "\n",
    "sub_df = pd.concat([main_out_ev, main_out_val], ignore_index=True)\n",
    "sub_df = sub_df.round(2)"
   ]
  },
  {
   "cell_type": "code",
   "execution_count": 17,
   "metadata": {},
   "outputs": [],
   "source": [
    "sub_df.to_csv('submissible_ML_7.2.csv', index=False)"
   ]
  },
  {
   "cell_type": "code",
   "execution_count": 18,
   "metadata": {},
   "outputs": [
    {
     "data": {
      "text/html": [
       "<div>\n",
       "<style scoped>\n",
       "    .dataframe tbody tr th:only-of-type {\n",
       "        vertical-align: middle;\n",
       "    }\n",
       "\n",
       "    .dataframe tbody tr th {\n",
       "        vertical-align: top;\n",
       "    }\n",
       "\n",
       "    .dataframe thead th {\n",
       "        text-align: right;\n",
       "    }\n",
       "</style>\n",
       "<table border=\"1\" class=\"dataframe\">\n",
       "  <thead>\n",
       "    <tr style=\"text-align: right;\">\n",
       "      <th></th>\n",
       "      <th>id</th>\n",
       "      <th>F1</th>\n",
       "      <th>F2</th>\n",
       "      <th>F3</th>\n",
       "      <th>F4</th>\n",
       "      <th>F5</th>\n",
       "      <th>F6</th>\n",
       "      <th>F7</th>\n",
       "      <th>F8</th>\n",
       "      <th>F9</th>\n",
       "      <th>...</th>\n",
       "      <th>F19</th>\n",
       "      <th>F20</th>\n",
       "      <th>F21</th>\n",
       "      <th>F22</th>\n",
       "      <th>F23</th>\n",
       "      <th>F24</th>\n",
       "      <th>F25</th>\n",
       "      <th>F26</th>\n",
       "      <th>F27</th>\n",
       "      <th>F28</th>\n",
       "    </tr>\n",
       "  </thead>\n",
       "  <tbody>\n",
       "    <tr>\n",
       "      <th>0</th>\n",
       "      <td>HOBBIES_1_001_CA_1_evaluation</td>\n",
       "      <td>0.42</td>\n",
       "      <td>0.40</td>\n",
       "      <td>0.40</td>\n",
       "      <td>0.41</td>\n",
       "      <td>0.41</td>\n",
       "      <td>0.49</td>\n",
       "      <td>0.44</td>\n",
       "      <td>0.36</td>\n",
       "      <td>0.34</td>\n",
       "      <td>...</td>\n",
       "      <td>0.44</td>\n",
       "      <td>0.52</td>\n",
       "      <td>0.47</td>\n",
       "      <td>0.38</td>\n",
       "      <td>0.37</td>\n",
       "      <td>0.37</td>\n",
       "      <td>0.37</td>\n",
       "      <td>0.44</td>\n",
       "      <td>0.52</td>\n",
       "      <td>0.47</td>\n",
       "    </tr>\n",
       "    <tr>\n",
       "      <th>1</th>\n",
       "      <td>HOBBIES_1_002_CA_1_evaluation</td>\n",
       "      <td>0.41</td>\n",
       "      <td>0.39</td>\n",
       "      <td>0.39</td>\n",
       "      <td>0.39</td>\n",
       "      <td>0.40</td>\n",
       "      <td>0.47</td>\n",
       "      <td>0.42</td>\n",
       "      <td>0.35</td>\n",
       "      <td>0.33</td>\n",
       "      <td>...</td>\n",
       "      <td>0.42</td>\n",
       "      <td>0.50</td>\n",
       "      <td>0.45</td>\n",
       "      <td>0.37</td>\n",
       "      <td>0.35</td>\n",
       "      <td>0.36</td>\n",
       "      <td>0.36</td>\n",
       "      <td>0.42</td>\n",
       "      <td>0.50</td>\n",
       "      <td>0.45</td>\n",
       "    </tr>\n",
       "    <tr>\n",
       "      <th>2</th>\n",
       "      <td>HOBBIES_1_003_CA_1_evaluation</td>\n",
       "      <td>0.15</td>\n",
       "      <td>0.14</td>\n",
       "      <td>0.14</td>\n",
       "      <td>0.14</td>\n",
       "      <td>0.14</td>\n",
       "      <td>0.17</td>\n",
       "      <td>0.15</td>\n",
       "      <td>0.13</td>\n",
       "      <td>0.12</td>\n",
       "      <td>...</td>\n",
       "      <td>0.15</td>\n",
       "      <td>0.18</td>\n",
       "      <td>0.16</td>\n",
       "      <td>0.13</td>\n",
       "      <td>0.13</td>\n",
       "      <td>0.13</td>\n",
       "      <td>0.13</td>\n",
       "      <td>0.15</td>\n",
       "      <td>0.18</td>\n",
       "      <td>0.16</td>\n",
       "    </tr>\n",
       "    <tr>\n",
       "      <th>3</th>\n",
       "      <td>HOBBIES_1_004_CA_1_evaluation</td>\n",
       "      <td>3.80</td>\n",
       "      <td>3.63</td>\n",
       "      <td>3.65</td>\n",
       "      <td>3.69</td>\n",
       "      <td>3.72</td>\n",
       "      <td>4.39</td>\n",
       "      <td>3.97</td>\n",
       "      <td>3.27</td>\n",
       "      <td>3.12</td>\n",
       "      <td>...</td>\n",
       "      <td>3.96</td>\n",
       "      <td>4.67</td>\n",
       "      <td>4.22</td>\n",
       "      <td>3.48</td>\n",
       "      <td>3.32</td>\n",
       "      <td>3.34</td>\n",
       "      <td>3.38</td>\n",
       "      <td>3.96</td>\n",
       "      <td>4.67</td>\n",
       "      <td>4.22</td>\n",
       "    </tr>\n",
       "    <tr>\n",
       "      <th>4</th>\n",
       "      <td>HOBBIES_1_005_CA_1_evaluation</td>\n",
       "      <td>1.48</td>\n",
       "      <td>1.41</td>\n",
       "      <td>1.42</td>\n",
       "      <td>1.43</td>\n",
       "      <td>1.44</td>\n",
       "      <td>1.70</td>\n",
       "      <td>1.54</td>\n",
       "      <td>1.27</td>\n",
       "      <td>1.21</td>\n",
       "      <td>...</td>\n",
       "      <td>1.54</td>\n",
       "      <td>1.81</td>\n",
       "      <td>1.64</td>\n",
       "      <td>1.35</td>\n",
       "      <td>1.29</td>\n",
       "      <td>1.30</td>\n",
       "      <td>1.31</td>\n",
       "      <td>1.54</td>\n",
       "      <td>1.81</td>\n",
       "      <td>1.64</td>\n",
       "    </tr>\n",
       "    <tr>\n",
       "      <th>...</th>\n",
       "      <td>...</td>\n",
       "      <td>...</td>\n",
       "      <td>...</td>\n",
       "      <td>...</td>\n",
       "      <td>...</td>\n",
       "      <td>...</td>\n",
       "      <td>...</td>\n",
       "      <td>...</td>\n",
       "      <td>...</td>\n",
       "      <td>...</td>\n",
       "      <td>...</td>\n",
       "      <td>...</td>\n",
       "      <td>...</td>\n",
       "      <td>...</td>\n",
       "      <td>...</td>\n",
       "      <td>...</td>\n",
       "      <td>...</td>\n",
       "      <td>...</td>\n",
       "      <td>...</td>\n",
       "      <td>...</td>\n",
       "      <td>...</td>\n",
       "    </tr>\n",
       "    <tr>\n",
       "      <th>60975</th>\n",
       "      <td>FOODS_3_823_WI_3_validation</td>\n",
       "      <td>0.99</td>\n",
       "      <td>0.90</td>\n",
       "      <td>0.89</td>\n",
       "      <td>0.89</td>\n",
       "      <td>1.01</td>\n",
       "      <td>1.22</td>\n",
       "      <td>1.22</td>\n",
       "      <td>0.97</td>\n",
       "      <td>0.89</td>\n",
       "      <td>...</td>\n",
       "      <td>0.99</td>\n",
       "      <td>1.21</td>\n",
       "      <td>1.22</td>\n",
       "      <td>0.97</td>\n",
       "      <td>0.89</td>\n",
       "      <td>0.88</td>\n",
       "      <td>0.88</td>\n",
       "      <td>0.99</td>\n",
       "      <td>1.21</td>\n",
       "      <td>1.26</td>\n",
       "    </tr>\n",
       "    <tr>\n",
       "      <th>60976</th>\n",
       "      <td>FOODS_3_824_WI_3_validation</td>\n",
       "      <td>0.47</td>\n",
       "      <td>0.43</td>\n",
       "      <td>0.43</td>\n",
       "      <td>0.43</td>\n",
       "      <td>0.48</td>\n",
       "      <td>0.59</td>\n",
       "      <td>0.59</td>\n",
       "      <td>0.47</td>\n",
       "      <td>0.43</td>\n",
       "      <td>...</td>\n",
       "      <td>0.48</td>\n",
       "      <td>0.58</td>\n",
       "      <td>0.59</td>\n",
       "      <td>0.47</td>\n",
       "      <td>0.43</td>\n",
       "      <td>0.42</td>\n",
       "      <td>0.42</td>\n",
       "      <td>0.48</td>\n",
       "      <td>0.58</td>\n",
       "      <td>0.60</td>\n",
       "    </tr>\n",
       "    <tr>\n",
       "      <th>60977</th>\n",
       "      <td>FOODS_3_825_WI_3_validation</td>\n",
       "      <td>0.86</td>\n",
       "      <td>0.78</td>\n",
       "      <td>0.77</td>\n",
       "      <td>0.78</td>\n",
       "      <td>0.87</td>\n",
       "      <td>1.06</td>\n",
       "      <td>1.07</td>\n",
       "      <td>0.85</td>\n",
       "      <td>0.77</td>\n",
       "      <td>...</td>\n",
       "      <td>0.86</td>\n",
       "      <td>1.05</td>\n",
       "      <td>1.07</td>\n",
       "      <td>0.85</td>\n",
       "      <td>0.77</td>\n",
       "      <td>0.76</td>\n",
       "      <td>0.77</td>\n",
       "      <td>0.86</td>\n",
       "      <td>1.05</td>\n",
       "      <td>1.09</td>\n",
       "    </tr>\n",
       "    <tr>\n",
       "      <th>60978</th>\n",
       "      <td>FOODS_3_826_WI_3_validation</td>\n",
       "      <td>0.72</td>\n",
       "      <td>0.65</td>\n",
       "      <td>0.64</td>\n",
       "      <td>0.65</td>\n",
       "      <td>0.73</td>\n",
       "      <td>0.89</td>\n",
       "      <td>0.89</td>\n",
       "      <td>0.71</td>\n",
       "      <td>0.65</td>\n",
       "      <td>...</td>\n",
       "      <td>0.72</td>\n",
       "      <td>0.87</td>\n",
       "      <td>0.89</td>\n",
       "      <td>0.71</td>\n",
       "      <td>0.65</td>\n",
       "      <td>0.64</td>\n",
       "      <td>0.64</td>\n",
       "      <td>0.72</td>\n",
       "      <td>0.87</td>\n",
       "      <td>0.91</td>\n",
       "    </tr>\n",
       "    <tr>\n",
       "      <th>60979</th>\n",
       "      <td>FOODS_3_827_WI_3_validation</td>\n",
       "      <td>0.73</td>\n",
       "      <td>0.66</td>\n",
       "      <td>0.65</td>\n",
       "      <td>0.65</td>\n",
       "      <td>0.74</td>\n",
       "      <td>0.90</td>\n",
       "      <td>0.90</td>\n",
       "      <td>0.72</td>\n",
       "      <td>0.65</td>\n",
       "      <td>...</td>\n",
       "      <td>0.73</td>\n",
       "      <td>0.89</td>\n",
       "      <td>0.90</td>\n",
       "      <td>0.72</td>\n",
       "      <td>0.65</td>\n",
       "      <td>0.64</td>\n",
       "      <td>0.65</td>\n",
       "      <td>0.73</td>\n",
       "      <td>0.89</td>\n",
       "      <td>0.92</td>\n",
       "    </tr>\n",
       "  </tbody>\n",
       "</table>\n",
       "<p>60980 rows × 29 columns</p>\n",
       "</div>"
      ],
      "text/plain": [
       "                                  id    F1    F2    F3    F4    F5    F6  \\\n",
       "0      HOBBIES_1_001_CA_1_evaluation  0.42  0.40  0.40  0.41  0.41  0.49   \n",
       "1      HOBBIES_1_002_CA_1_evaluation  0.41  0.39  0.39  0.39  0.40  0.47   \n",
       "2      HOBBIES_1_003_CA_1_evaluation  0.15  0.14  0.14  0.14  0.14  0.17   \n",
       "3      HOBBIES_1_004_CA_1_evaluation  3.80  3.63  3.65  3.69  3.72  4.39   \n",
       "4      HOBBIES_1_005_CA_1_evaluation  1.48  1.41  1.42  1.43  1.44  1.70   \n",
       "...                              ...   ...   ...   ...   ...   ...   ...   \n",
       "60975    FOODS_3_823_WI_3_validation  0.99  0.90  0.89  0.89  1.01  1.22   \n",
       "60976    FOODS_3_824_WI_3_validation  0.47  0.43  0.43  0.43  0.48  0.59   \n",
       "60977    FOODS_3_825_WI_3_validation  0.86  0.78  0.77  0.78  0.87  1.06   \n",
       "60978    FOODS_3_826_WI_3_validation  0.72  0.65  0.64  0.65  0.73  0.89   \n",
       "60979    FOODS_3_827_WI_3_validation  0.73  0.66  0.65  0.65  0.74  0.90   \n",
       "\n",
       "         F7    F8    F9  ...   F19   F20   F21   F22   F23   F24   F25   F26  \\\n",
       "0      0.44  0.36  0.34  ...  0.44  0.52  0.47  0.38  0.37  0.37  0.37  0.44   \n",
       "1      0.42  0.35  0.33  ...  0.42  0.50  0.45  0.37  0.35  0.36  0.36  0.42   \n",
       "2      0.15  0.13  0.12  ...  0.15  0.18  0.16  0.13  0.13  0.13  0.13  0.15   \n",
       "3      3.97  3.27  3.12  ...  3.96  4.67  4.22  3.48  3.32  3.34  3.38  3.96   \n",
       "4      1.54  1.27  1.21  ...  1.54  1.81  1.64  1.35  1.29  1.30  1.31  1.54   \n",
       "...     ...   ...   ...  ...   ...   ...   ...   ...   ...   ...   ...   ...   \n",
       "60975  1.22  0.97  0.89  ...  0.99  1.21  1.22  0.97  0.89  0.88  0.88  0.99   \n",
       "60976  0.59  0.47  0.43  ...  0.48  0.58  0.59  0.47  0.43  0.42  0.42  0.48   \n",
       "60977  1.07  0.85  0.77  ...  0.86  1.05  1.07  0.85  0.77  0.76  0.77  0.86   \n",
       "60978  0.89  0.71  0.65  ...  0.72  0.87  0.89  0.71  0.65  0.64  0.64  0.72   \n",
       "60979  0.90  0.72  0.65  ...  0.73  0.89  0.90  0.72  0.65  0.64  0.65  0.73   \n",
       "\n",
       "        F27   F28  \n",
       "0      0.52  0.47  \n",
       "1      0.50  0.45  \n",
       "2      0.18  0.16  \n",
       "3      4.67  4.22  \n",
       "4      1.81  1.64  \n",
       "...     ...   ...  \n",
       "60975  1.21  1.26  \n",
       "60976  0.58  0.60  \n",
       "60977  1.05  1.09  \n",
       "60978  0.87  0.91  \n",
       "60979  0.89  0.92  \n",
       "\n",
       "[60980 rows x 29 columns]"
      ]
     },
     "execution_count": 18,
     "metadata": {},
     "output_type": "execute_result"
    }
   ],
   "source": [
    "pd.read_csv('submissible_ML_7.2.csv')"
   ]
  },
  {
   "cell_type": "markdown",
   "metadata": {},
   "source": [
    "## Steps to train any strategy"
   ]
  },
  {
   "cell_type": "code",
   "execution_count": null,
   "metadata": {},
   "outputs": [],
   "source": [
    "# estimated time (strategy_3.1 - 7 min + 10 min)\n",
    "# estimated time (strategy_3.2 - 7 min + 7 min)\n",
    "# estimated time (strategy_3.3 - 8 min + 8 min)\n",
    "# estimated time (strategy_4.1 - 35 min +  27 min)\n",
    "# estimated time (strategy_5.1 - 5 min +  16 min)\n",
    "# estimated time (strategy_5.1 - 36 min +  35 min)\n",
    "# sequence of stores = CA_1, CA_2, CA_3, CA_4, WI_1, WI_2, WI_3, TX_1, TX_2, TX_3"
   ]
  },
  {
   "cell_type": "markdown",
   "metadata": {},
   "source": [
    "Training for Evaluation Data"
   ]
  },
  {
   "cell_type": "code",
   "execution_count": 4,
   "metadata": {
    "scrolled": true
   },
   "outputs": [
    {
     "name": "stdout",
     "output_type": "stream",
     "text": [
      "TX_3  Done.\n",
      "CPU times: user 2h 15min 49s, sys: 2min 1s, total: 2h 17min 51s\n",
      "Wall time: 36min 22s\n"
     ]
    }
   ],
   "source": [
    "%%time\n",
    "df = sales_train_ev.copy()\n",
    "empty_list = [0]*30490\n",
    "for i in range(1942, 1970):\n",
    "    df['d_'+str(i)] = empty_list\n",
    "df = feature_engineer(df)\n",
    "\n",
    "main_out_df = training_function(df)\n",
    "main_out_df.to_csv('main_out_ev.csv')\n",
    "reorder_data(sales_train_ev, 'main_out_ev')"
   ]
  },
  {
   "cell_type": "markdown",
   "metadata": {},
   "source": [
    "Training for Validation Data"
   ]
  },
  {
   "cell_type": "code",
   "execution_count": 5,
   "metadata": {},
   "outputs": [
    {
     "name": "stdout",
     "output_type": "stream",
     "text": [
      "TX_3  Done.\n",
      "CPU times: user 2h 12min 37s, sys: 2min, total: 2h 14min 37s\n",
      "Wall time: 35min 22s\n"
     ]
    }
   ],
   "source": [
    "%%time\n",
    "df = sales_train_val.copy()\n",
    "empty_list = [0]*30490\n",
    "for i in range(1914, 1942):\n",
    "    df['d_'+str(i)] = empty_list\n",
    "df = feature_engineer(df)\n",
    "main_out_df = training_function(df)\n",
    "main_out_df.to_csv('main_out_val.csv')\n",
    "reorder_data(sales_train_val, 'main_out_val')"
   ]
  },
  {
   "cell_type": "markdown",
   "metadata": {},
   "source": [
    "Concatenate both CSVs to create the submission csv."
   ]
  },
  {
   "cell_type": "code",
   "execution_count": 6,
   "metadata": {},
   "outputs": [],
   "source": [
    "main_out_ev = pd.read_csv('main_out_ev.csv')\n",
    "main_out_ev = main_out_ev.drop(main_out_ev.columns[0], axis=1)\n",
    "\n",
    "main_out_val = pd.read_csv('main_out_val.csv')\n",
    "main_out_val = main_out_val.drop(main_out_val.columns[0], axis=1)\n",
    "\n",
    "sub_df = pd.concat([main_out_ev, main_out_val], ignore_index=True)\n",
    "sub_df = sub_df.round(2)                            # We round the float values till 2nd decimal places  \n",
    "\n",
    "# we only keep absolute values\n",
    "ll = sub_df['id']\n",
    "sub_df = sub_df.drop('id', axis=1)\n",
    "for i in list(sub_df.columns):\n",
    "    sub_df[i] = sub_df[i].abs()\n",
    "\n",
    "# sub_df = sub_df.round(0).astype(int)    \n",
    "\n",
    "# sub_df.select_dtypes(exclude=['object' ]) * 1.5\n",
    "sub_df['id'] = ll\n",
    "\n",
    "cols = list(sub_df)\n",
    "cols = [cols[-1]] + cols[:-1]\n",
    "sub_df = sub_df[cols]\n",
    "sub_df\n",
    "    \n",
    "sub_df.to_csv('submissible_st_5.3.csv', index = False)"
   ]
  },
  {
   "cell_type": "markdown",
   "metadata": {},
   "source": [
    "### Submission CSV"
   ]
  },
  {
   "cell_type": "code",
   "execution_count": 2,
   "metadata": {},
   "outputs": [],
   "source": [
    "# sub_df = pd.read_csv('submissible_st_5.3.csv')\n",
    "# sub_df"
   ]
  }
 ],
 "metadata": {
  "colab": {
   "collapsed_sections": [],
   "name": "CS1_Training.ipynb",
   "provenance": [],
   "toc_visible": true
  },
  "kernelspec": {
   "display_name": "Python 3",
   "language": "python",
   "name": "python3"
  },
  "language_info": {
   "codemirror_mode": {
    "name": "ipython",
    "version": 3
   },
   "file_extension": ".py",
   "mimetype": "text/x-python",
   "name": "python",
   "nbconvert_exporter": "python",
   "pygments_lexer": "ipython3",
   "version": "3.8.5"
  },
  "toc": {
   "base_numbering": 1,
   "nav_menu": {},
   "number_sections": true,
   "sideBar": true,
   "skip_h1_title": false,
   "title_cell": "Table of Contents",
   "title_sidebar": "Contents",
   "toc_cell": false,
   "toc_position": {
    "height": "calc(100% - 180px)",
    "left": "10px",
    "top": "150px",
    "width": "270.312px"
   },
   "toc_section_display": true,
   "toc_window_display": true
  }
 },
 "nbformat": 4,
 "nbformat_minor": 4
}
