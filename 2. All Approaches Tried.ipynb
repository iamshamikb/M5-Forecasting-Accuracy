{
 "cells": [
  {
   "cell_type": "markdown",
   "metadata": {
    "heading_collapsed": true
   },
   "source": [
    "## Fetching Data, Imports, Load CSV"
   ]
  },
  {
   "cell_type": "code",
   "execution_count": null,
   "metadata": {
    "hidden": true,
    "jupyter": {
     "outputs_hidden": true
    },
    "scrolled": true
   },
   "outputs": [],
   "source": [
    "# !wget --header=\"Host: storage.googleapis.com\" --header=\"User-Agent: Mozilla/5.0 (Windows NT 10.0; Win64; x64) AppleWebKit/537.36 (KHTML, like Gecko) Chrome/86.0.4240.193 Safari/537.36\" --header=\"Accept: text/html,application/xhtml+xml,application/xml;q=0.9,image/avif,image/webp,image/apng,*/*;q=0.8,application/signed-exchange;v=b3;q=0.9\" --header=\"Accept-Language: en-IN,en-GB;q=0.9,en-US;q=0.8,en;q=0.7\" --header=\"Referer: https://www.kaggle.com/\" \"https://storage.googleapis.com/kaggle-competitions-data/kaggle-v2/18599/1236839/bundle/archive.zip?GoogleAccessId=web-data@kaggle-161607.iam.gserviceaccount.com&Expires=1605342864&Signature=EnlHY9DVWLCrCG3Pq5%2BgOpZ5ci%2Bl%2FKz0BEsVVDVArUb9SJLMH24iEQ%2FwF3dELdUj1IoUWxhz7%2BRUaMJDLEoMfoHH28pWgcH0BpHwpC6ODo9dgw8gT5rEJJ%2FerJQW7ALQHxRT2OlMDjYgKZuqlO0D53K9iUjqbHcRwNTR0aOlAyB7coNuJfVfUOCyQhksene0O1rNi4FlUOpSLWcbe9IogPeeOGDLFGmdiS1wHVo4H5cVrNgcuehj8PcSTLZU9UbE7oHRacs8jUz7CKUPU3NgEQ76eWcvb%2Bu46rBWJvu%2BD51fq%2BX0me7ysMizf0HQ7xLoTLTqc7loAqaaW3hEy3k5sw%3D%3D&response-content-disposition=attachment%3B+filename%3Dm5-forecasting-accuracy.zip\" -c -O 'm5-forecasting-accuracy.zip'"
   ]
  },
  {
   "cell_type": "code",
   "execution_count": null,
   "metadata": {
    "hidden": true,
    "id": "aI0Ucqk1TIui"
   },
   "outputs": [],
   "source": [
    "# !unzip m5-forecasting-accuracy.zip\n",
    "\n",
    "# !apt-get update\n",
    "# !apt-get install wget\n",
    "\n",
    "# ! pip install pandas\n",
    "# ! pip install calender\n",
    "# ! pip install numpy\n",
    "# ! pip install datetime\n",
    "# ! pip install matplotlib\n",
    "# ! pip install collections\n",
    "# ! pip install random\n",
    "# ! pip install tqdm\n",
    "# ! pip install sklearn\n",
    "# ! pip install lightgbm"
   ]
  },
  {
   "cell_type": "code",
   "execution_count": null,
   "metadata": {
    "hidden": true,
    "id": "CD1ZprJU8lLL"
   },
   "outputs": [],
   "source": [
    "from IPython.display import clear_output \n",
    "import pandas as pd\n",
    "import calendar\n",
    "from datetime import datetime\n",
    "import numpy as np\n",
    "import matplotlib.pyplot as plt\n",
    "from collections import OrderedDict\n",
    "import random\n",
    "from tqdm import tqdm\n",
    "from sklearn.model_selection import train_test_split\n",
    "from sklearn.preprocessing import LabelEncoder\n",
    "from IPython.display import clear_output as cclear\n",
    "from sklearn.metrics import mean_squared_error as mse\n",
    "from lightgbm import LGBMRegressor\n",
    "from sklearn.model_selection import RandomizedSearchCV, GridSearchCV\n",
    "from sklearn.metrics import make_scorer\n",
    "import lightgbm as lgb\n",
    "from math import sqrt\n",
    "from itertools import zip_longest\n",
    "from scipy.stats import randint as sp_randint\n",
    "from scipy.stats import uniform as sp_randFloat\n",
    "import joblib\n",
    "import xgboost as xgb\n",
    "\n",
    "import myfeature\n",
    "\n",
    "def get_csv(X):\n",
    "    return pd.read_csv(X)\n",
    "\n",
    "calender, sales_train_ev, sales_train_val, sell_prices, samp_sub = get_csv('calendar.csv'), \\\n",
    "                          get_csv('sales_train_evaluation.csv'), \\\n",
    "                          get_csv('sales_train_validation.csv'), get_csv('sell_prices.csv'), \\\n",
    "                          get_csv('sample_submission.csv')"
   ]
  },
  {
   "cell_type": "markdown",
   "metadata": {
    "heading_collapsed": true,
    "id": "F53r6WsS90i1"
   },
   "source": [
    "## Training Functions"
   ]
  },
  {
   "cell_type": "code",
   "execution_count": null,
   "metadata": {
    "hidden": true
   },
   "outputs": [],
   "source": [
    "non_numeric_col_list = ['id','item_id','dept_id','cat_id','store_id','state_id','d', 'date']\n",
    "store_dict = {'CA_1':0, 'CA_2':0, 'CA_3':0, 'CA_4':0, 'WI_1':0, 'WI_2':0, 'WI_3':0, 'TX_1':0, 'TX_2':0, 'TX_3':0}\n",
    "\n",
    "days_with_event = []\n",
    "for i in range(len(calender)):\n",
    "    days_with_event.append(event1_check(i)) or (event2_check(i))\n",
    "    \n",
    "l = [int(i) for i in days_with_event]\n",
    "event_dict = dict(zip(calender.d, l))\n",
    "\n",
    "week_no_d_dict = dict(zip(calender.wm_yr_wk, calender.d))\n",
    "sell_prices['d'] = sell_prices['wm_yr_wk'].map(week_no_d_dict)\n",
    "sell_prices['item_d_col'] = sell_prices['item_id'] + sell_prices['d']\n",
    "sale_price_dict = dict(zip(sell_prices['item_d_col'], sell_prices['sell_price']))\n",
    "\n",
    "sell_prices = sell_prices.drop('d', 1)\n",
    "sell_prices = sell_prices.drop('item_d_col', 1)"
   ]
  },
  {
   "cell_type": "markdown",
   "metadata": {},
   "source": [
    "## Different Training Strategies"
   ]
  },
  {
   "cell_type": "markdown",
   "metadata": {
    "heading_collapsed": true
   },
   "source": [
    "### Words on Train Test Split"
   ]
  },
  {
   "cell_type": "markdown",
   "metadata": {
    "hidden": true,
    "jupyter": {
     "source_hidden": true
    }
   },
   "source": [
    "We want to predict 28 days under labels F1-F28. These 28 days are like this for evaluation and validation dataset.\n",
    "<br>For evaluation dataset predict d_1942 - d_1969\n",
    "<br>For validation dataset predict d_1914 - d_1941"
   ]
  },
  {
   "cell_type": "markdown",
   "metadata": {},
   "source": [
    "### Training strategy 0.1"
   ]
  },
  {
   "cell_type": "code",
   "execution_count": null,
   "metadata": {},
   "outputs": [],
   "source": [
    "# First score is Private and second score is Public score"
   ]
  },
  {
   "attachments": {
    "Screenshot%20-%2014-11-2020%20,%2012_14_45.png": {
     "image/png": "[encoded data removed]"
    }
   },
   "cell_type": "markdown",
   "metadata": {},
   "source": [
    "![Screenshot%20-%2014-11-2020%20,%2012_14_45.png](attachment:Screenshot%20-%2014-11-2020%20,%2012_14_45.png)"
   ]
  },
  {
   "cell_type": "markdown",
   "metadata": {
    "jupyter": {
     "source_hidden": true
    }
   },
   "source": [
    "In this strategy we train on one year data only, so for eval data we train on 1941-365 to 1941 and for val data we train on 1913-365 to 1913 test on 1941 to 1969 for evaluation data and we test on 1913 to 1941 for validation data. \n",
    "\n",
    "However we use four models to predict 28 days. First model predicts week1, second predicts week1 and week2, third predicts week1, week2, week3 and fourth model predicts week1, week2, week3, week4. Then we append 0 s to make all these predicted lists same length and then we take element wise mean to make the final prediction."
   ]
  },
  {
   "cell_type": "markdown",
   "metadata": {
    "jupyter": {
     "source_hidden": true
    }
   },
   "source": [
    "Though a good concept, it did not do well during submission."
   ]
  },
  {
   "cell_type": "code",
   "execution_count": null,
   "metadata": {
    "jupyter": {
     "source_hidden": true
    }
   },
   "outputs": [],
   "source": [
    "ev_train_start, ev_train_end, val_train_start, val_train_end = 3049*(1941-365), 3049*1941, \\\n",
    "                                                                3049*(1913-365), 3049*1913\n",
    "strategy = 0.1\n",
    "def fit_fun_2(df, store_name):\n",
    "    cclear()\n",
    "    print('Using strategy ', strategy)\n",
    "    X, y, le = get_X_and_y(df, store_name) # this fun selects rows for given store name, adds more columns, \n",
    "                                           # does encoding, returns X and y and encoder\n",
    "\n",
    "    if df.id.iloc[0].find('evaluation') != -1:  # if evaluation data\n",
    "        # for plotting prediction\n",
    "        # X_train, y_train = X.iloc[3049*(1913-365):3049*1913], y[3049*(1913-365):3049*1913]\n",
    "        # X_test, y_test = X.iloc[3049*1913:], y[3049*1913:]\n",
    "        \n",
    "        X_train, y_train = X.iloc[ev_train_start:ev_train_end], y[ev_train_start:ev_train_end] \n",
    "        X_test, y_test = X.iloc[ev_train_end:], y[ev_train_end:] \n",
    "    \n",
    "    if df.id.iloc[0].find('validation') != -1:  # if validation data\n",
    "        X_train, y_train = X.iloc[val_train_start:val_train_end], y[val_train_start:val_train_end]\n",
    "        X_test, y_test = X.iloc[val_train_end:], y[val_train_end:]\n",
    "    \n",
    "    model = [0]*4\n",
    "    for i in range(4):\n",
    "        model[i] = LGBMRegressor(num_leaves=588, learning_rate=0.67, reg_lambda=0.78, n_estimators= 363, min_data_in_leaf= 906)\n",
    "\n",
    "    print(\"One of 4 models fitting....\")\n",
    "    model[0].fit(X_train, y_train)\n",
    "    train_out_week1 = model[0].predict(X_test.iloc[(0*3049):(7*3049)])\n",
    "    \n",
    "    print(\"Two of 4 models fitting....\")\n",
    "    model[1].fit(X_train, y_train)\n",
    "    train_out_week12 = model[1].predict(X_test.iloc[(0*3049):(14*3049)])\n",
    "    \n",
    "    print(\"Three of 4 models fitting....\")\n",
    "    model[2].fit(X_train, y_train)\n",
    "    train_out_week123 = model[2].predict(X_test.iloc[(0*3049):(21*3049)])\n",
    "    \n",
    "    print(\"Four of 4 models fitting....\")\n",
    "    model[3].fit(X_train, y_train)\n",
    "    train_out_week1234 = model[3].predict(X_test.iloc[(0*3049):(28*3049)])\n",
    "    \n",
    "    train_out = [np.mean(n) for n in zip_longest(train_out_week1, train_out_week12, train_out_week123, train_out_week1234\\\n",
    "                                          , fillvalue=0)]\n",
    "    \n",
    "    return le, X_test, y_test, train_out"
   ]
  },
  {
   "cell_type": "code",
   "execution_count": null,
   "metadata": {
    "jupyter": {
     "source_hidden": true
    }
   },
   "outputs": [],
   "source": [
    "############################## Code for testing MSE of single store for the fit function  ###############################"
   ]
  },
  {
   "cell_type": "code",
   "execution_count": null,
   "metadata": {
    "jupyter": {
     "source_hidden": true
    },
    "scrolled": true
   },
   "outputs": [],
   "source": [
    "# %%time\n",
    "\n",
    "# ev_train_start, ev_train_end, val_train_start, val_train_end = 3049*(1913-365), 3049*1913, \\\n",
    "#                                                                 _, _\n",
    "# strategy = 0.1\n",
    "\n",
    "# df = sales_train_ev.copy()\n",
    "# empty_list = [0]*30490\n",
    "# for i in range(1942, 1970):\n",
    "#     df['d_'+str(i)] = empty_list\n",
    "# df = feature_engineer(df)\n",
    "\n",
    "# le, X_test, y_test, train_out = fit_fun_2(df, 'CA_1')\n",
    "# out_df = reverse_long_form(le, X_test, train_out)\n",
    "# out_df.head(5)\n",
    "\n",
    "# ########################################################################################################################\n",
    "# # 4 min"
   ]
  },
  {
   "cell_type": "code",
   "execution_count": null,
   "metadata": {
    "jupyter": {
     "outputs_hidden": true,
     "source_hidden": true
    }
   },
   "outputs": [],
   "source": [
    "plt.plot(list(y_test))\n",
    "plt.plot(list(train_out))\n",
    "plt.legend(['true label', 'predicted labels'])\n",
    "plt.title('Prediction of unit sales for 1914 to 1941 in long form')\n",
    "plt.xlabel('Index of sales_train_ev in long form after adding 1942 to 1969 columns')\n",
    "plt.ylabel(\"Units sold\")\n",
    "plt.show()"
   ]
  },
  {
   "cell_type": "markdown",
   "metadata": {
    "heading_collapsed": true
   },
   "source": [
    "### Training strategy 0.2"
   ]
  },
  {
   "cell_type": "code",
   "execution_count": null,
   "metadata": {
    "hidden": true
   },
   "outputs": [],
   "source": [
    "# First score is Private and second score is Public score"
   ]
  },
  {
   "attachments": {
    "Screenshot%20-%2014-11-2020%20,%2012_16_45.png": {
     "image/png": "[encoded data removed]"
    }
   },
   "cell_type": "markdown",
   "metadata": {
    "hidden": true
   },
   "source": [
    "![Screenshot%20-%2014-11-2020%20,%2012_16_45.png](attachment:Screenshot%20-%2014-11-2020%20,%2012_16_45.png)"
   ]
  },
  {
   "cell_type": "markdown",
   "metadata": {
    "hidden": true
   },
   "source": [
    "We do not test code for this one as only differece from 0.1 model is that this one fits entire val data\n",
    "and previous one took only one year of val data."
   ]
  },
  {
   "cell_type": "code",
   "execution_count": null,
   "metadata": {
    "hidden": true,
    "jupyter": {
     "source_hidden": true
    }
   },
   "outputs": [],
   "source": [
    "ev_train_start, ev_train_end, val_train_start, val_train_end = 3049*(1941-365), 3049*1941, 3049*(0), 3049*1913\n",
    "strategy = 0.1\n",
    "def fit_fun_2(df, store_name):\n",
    "    cclear()\n",
    "    print('Using strategy ', strategy)\n",
    "    X, y, le = myfeature.get_X_and_y_withou_adding_more_features(df, store_name)\n",
    "\n",
    "    if df.id.iloc[0].find('evaluation') != -1:  # if evaluation data\n",
    "        # for plotting prediction\n",
    "        # X_train, y_train = X.iloc[3049*(1913-365):3049*1913], y[3049*(1913-365):3049*1913]\n",
    "        # X_test, y_test = X.iloc[3049*1913:], y[3049*1913:]\n",
    "        \n",
    "        X_train, y_train = X.iloc[ev_train_start:ev_train_end], y[ev_train_start:ev_train_end] \n",
    "        X_test, y_test = X.iloc[ev_train_end:], y[ev_train_end:] \n",
    "    \n",
    "    if df.id.iloc[0].find('validation') != -1:  # if validation data\n",
    "        X_train, y_train = X.iloc[val_train_start:val_train_end], y[val_train_start:val_train_end]\n",
    "        X_test, y_test = X.iloc[val_train_end:], y[val_train_end:]\n",
    "    \n",
    "    model = [0]*4\n",
    "    for i in range(4):\n",
    "        model[i] = LGBMRegressor(num_leaves=1100, learning_rate=0.67, reg_lambda=0.78, n_estimators= 363, min_data_in_leaf= 1418)\n",
    "\n",
    "    model[0].fit(X_train, y_train)\n",
    "    train_out_week1 = model[0].predict(X_test.iloc[(0*3049):(7*3049)])\n",
    "    \n",
    "    model[1].fit(X_train, y_train)\n",
    "    train_out_week12 = model[1].predict(X_test.iloc[(0*3049):(14*3049)])\n",
    "    \n",
    "    model[2].fit(X_train, y_train)\n",
    "    train_out_week123 = model[2].predict(X_test.iloc[(0*3049):(21*3049)])\n",
    "    \n",
    "    model[3].fit(X_train, y_train)\n",
    "    train_out_week1234 = model[3].predict(X_test.iloc[(0*3049):(28*3049)])\n",
    "    \n",
    "    train_out = [np.mean(n) for n in zip_longest(train_out_week1, train_out_week12, train_out_week123, train_out_week1234\\\n",
    "                                          , fillvalue=0)]\n",
    "    \n",
    "    return le, X_test, y_test, train_out"
   ]
  },
  {
   "cell_type": "code",
   "execution_count": null,
   "metadata": {
    "hidden": true,
    "jupyter": {
     "source_hidden": true
    }
   },
   "outputs": [],
   "source": [
    "############################## Code for testing MSE of single store for the fit function  ###############################"
   ]
  },
  {
   "cell_type": "code",
   "execution_count": null,
   "metadata": {
    "hidden": true,
    "jupyter": {
     "source_hidden": true
    }
   },
   "outputs": [],
   "source": [
    "# %%time\n",
    "\n",
    "# ev_train_start, ev_train_end, val_train_start, val_train_end = 3049*(1913-365), 3049*1913, \\\n",
    "#                                                                 _, _\n",
    "# strategy = 0.1\n",
    "\n",
    "# df = sales_train_ev.copy()\n",
    "# empty_list = [0]*30490\n",
    "# for i in range(1942, 1970):\n",
    "#     df['d_'+str(i)] = empty_list\n",
    "# df = feature_engineer(df)\n",
    "\n",
    "# le, X_test, y_test, train_out = fit_fun_2(df, 'CA_1')\n",
    "# out_df = reverse_long_form(le, X_test, train_out)\n",
    "# out_df.head(5)\n",
    "\n",
    "##################################################################################################################\n",
    "# 4 min\n"
   ]
  },
  {
   "cell_type": "markdown",
   "metadata": {
    "heading_collapsed": true
   },
   "source": [
    "### Training strategy 1 - Ignore"
   ]
  },
  {
   "cell_type": "markdown",
   "metadata": {
    "hidden": true,
    "jupyter": {
     "source_hidden": true
    }
   },
   "source": [
    "Kept for trying in future.\n",
    "This one should be ignored."
   ]
  },
  {
   "cell_type": "markdown",
   "metadata": {
    "hidden": true,
    "jupyter": {
     "source_hidden": true
    }
   },
   "source": [
    "Training strategy used in fit_fun_2():\n",
    "<br>Train on data till 1829, predict on X_test of 1829 to 1857. Now for this prediction we will use 4 models, each model will predict one week of the 28 days of test data. This predicted data of X_test will be exchanged with true label next time, so we will be training on our prediction next next time.\n",
    "\n",
    "This is repeated for next test sets as described below.\n",
    "\n",
    "Train on data till 1857, predict on X_test of 1858 to 1885. Now for this prediction we will use 4 models, each model will predict one week of the 28 days of test data.This predicted data of X_test will be exchanged with true label next time, so we will be training on our prediction next next time.\n",
    "\n",
    "Train on data till 1885, predict on X_test of 1886 to 1913. Now for this prediction we will use 4 models, each model will predict one week of the 28 days of test data.This predicted data of X_test will be exchanged with true label next time, so we will be training on our prediction next next time.\n",
    "\n",
    "Train on data till 1913, predict on X_test of 1914 to 1941. Now for this prediction we will use 4 models, each model will predict one week of the 28 days of test data. This prediction is ultimate prediction for this store.\n",
    "\n",
    "change: we kept only last two stages in code, only 1886 to 1913 and 1913 to 1941, but it could not be run."
   ]
  },
  {
   "cell_type": "code",
   "execution_count": null,
   "metadata": {
    "hidden": true,
    "jupyter": {
     "source_hidden": true
    }
   },
   "outputs": [],
   "source": [
    "# This function takes input which year to which year should be test data and returns extended y_train or train_out \n",
    "# as necessary.\n",
    "\n",
    "def year_wise_train_test(X, y, y_train, start, end):\n",
    "    X_train, X_test = X.iloc[0:(3049*start)], X.iloc[(3049*start):(3049*end)] \n",
    "    y_test = y[(3049*start):(3049*end)]\n",
    "\n",
    "    if y_train==1:\n",
    "        y_train = y[0:(3049*start)]\n",
    "        \n",
    "    train_out = []\n",
    "    for i in range(4):\n",
    "        print('Predicting week ', i)\n",
    "        model = LGBMRegressor(objective = 'tweedie', num_leaves=588, learning_rate=0.67, reg_lambda=0.78, \\\n",
    "                              n_estimators= 363, min_data_in_leaf= 906)\n",
    "        model.fit(X_train, y_train)\n",
    "        train_out.extend(list( model.predict(X_test.iloc[(i*7*3049):((i+1)*7*3049)] )))\n",
    "    \n",
    "    y_train = list(y_train)\n",
    "    \n",
    "    if (start == 1913) and (end==1941):\n",
    "        return y_train, X_test, y_test, train_out\n",
    "    else:    \n",
    "        y_train.extend(list(train_out))\n",
    "        return y_train\n",
    "strategy = 1\n",
    "\n",
    "def fit_fun_2(df, store_name):\n",
    "    cclear()\n",
    "    print('Using strategy ', strategy)\n",
    "    X, y, le = myfeature.get_X_and_y(df, store_name)      # this fun selects rows for given store name, adds more columns, \n",
    "                                                # does encoding, returns X and y and encoder\n",
    "    \n",
    "    print('Testing on 1885 to 1913...')\n",
    "    y_train = year_wise_train_test(X, y, 1, 1885, 1913)\n",
    "    \n",
    "    print('Testing on 1913 to 1941...')\n",
    "    y_train, X_test, y_test, train_out = year_wise_train_test(X, y, y_train, 1913, 1941)\n",
    "    \n",
    "    if df.id.iloc[0].find('evaluation') != -1:  # if evaluation data\n",
    "        print('Testing on 1941 to 1969...')\n",
    "        y_train, X_test, y_test, train_out = year_wise_train_test(X, y, y_train, 1941, 1969)\n",
    "    \n",
    "    cclear()\n",
    "    print(store_name, ' Done.')\n",
    "    \n",
    "    return le, X_test, y_test, train_out"
   ]
  },
  {
   "cell_type": "code",
   "execution_count": null,
   "metadata": {
    "hidden": true,
    "jupyter": {
     "source_hidden": true
    }
   },
   "outputs": [],
   "source": [
    "############################## Code for testing MSE of single store for the fit function  ###############################"
   ]
  },
  {
   "cell_type": "code",
   "execution_count": null,
   "metadata": {
    "hidden": true,
    "jupyter": {
     "outputs_hidden": true,
     "source_hidden": true
    }
   },
   "outputs": [],
   "source": [
    "# %%time\n",
    "# df = sales_train_ev.copy()  # estimated 37 seconds to run\n",
    "# df = feature_engineer(df)\n",
    "\n",
    "# le, X_test, y_test, train_out = fit_fun_2(df, 'CA_1')\n",
    "# mse(train_out, y_test)\n",
    "########################################################################################################################"
   ]
  },
  {
   "cell_type": "markdown",
   "metadata": {
    "heading_collapsed": true
   },
   "source": [
    "### Training strategy 2 - Ignore"
   ]
  },
  {
   "cell_type": "markdown",
   "metadata": {
    "hidden": true,
    "jupyter": {
     "source_hidden": true
    }
   },
   "source": [
    "This method is fairly complex, it did well while training but submission scores were extremely bad.\n",
    "As this method predicts on prediction I am moving forward to other methods leaving this one."
   ]
  },
  {
   "cell_type": "markdown",
   "metadata": {
    "hidden": true,
    "jupyter": {
     "source_hidden": true
    }
   },
   "source": [
    "Training strategy used in fit_fun_2():\n",
    "<br>Train on data till 1829, predict on X_test of 1829 to 1857. This predicted data of X_test will be exchanged with true label next time, so we will be training on our prediction next next time.\n",
    "\n",
    "Train on data till 1857, predict on X_test of 1858 to 1885. This predicted data of X_test will be exchanged with true label next time, so we will be training on our prediction next next time.\n",
    "\n",
    "Train on data till 1885, predict on X_test of 1886 to 1913. This predicted data of X_test will be exchanged with true label next time, so we will be training on our prediction next next time.\n",
    "\n",
    "Train on data till 1913, predict on X_test of 1914 to 1941. This prediction is ultimate prediction for this store."
   ]
  },
  {
   "cell_type": "code",
   "execution_count": null,
   "metadata": {
    "hidden": true,
    "jupyter": {
     "source_hidden": true
    }
   },
   "outputs": [],
   "source": [
    "# This function takes input which year to which year should be test data and returns extended y_train or train_out \n",
    "# as necessary.\n",
    "\n",
    "def year_wise_train_test(X, y, y_train, model, start, end):\n",
    "    X_train, X_test = X.iloc[0:(3049*start)], X.iloc[(3049*start):(3049*end)] \n",
    "    y_test = y[(3049*start):(3049*end)]\n",
    "\n",
    "    if y_train==1:\n",
    "        y_train = y[0:(3049*start)]\n",
    "        \n",
    "    model.fit(X_train, y_train)\n",
    "    train_out = model.predict(X_test)\n",
    "    \n",
    "    y_train = list(y_train)\n",
    "    \n",
    "    if ((start == 1913) and (end==1941)) or ((start == 1941) and (end==1969)):\n",
    "        return y_train, X_test, y_test, train_out\n",
    "    else:    \n",
    "        y_train.extend(list(train_out))\n",
    "        return y_train\n",
    "strategy = 2\n",
    "def fit_fun_2(df, store_name):\n",
    "    cclear()\n",
    "    print('Using strategy ', strategy)\n",
    "    X, y, le = get_X_and_y(df, store_name)      # this fun selects rows for given store name, adds more columns, \n",
    "                                                # does encoding, returns X and y and encoder\n",
    "    \n",
    "    model = LGBMRegressor(objective = 'tweedie', num_leaves=588, learning_rate=0.67, reg_lambda=0.78, \\\n",
    "                              n_estimators= 363, min_data_in_leaf= 906)\n",
    "    \n",
    "    print('Testing on 1829 to 1857...')\n",
    "    y_train = year_wise_train_test(X, y, 1, model, 1829, 1857)\n",
    "    \n",
    "    print('Testing on 1857 to 1885...')\n",
    "    y_train = year_wise_train_test(X, y, y_train, model, 1857, 1885)\n",
    "    \n",
    "    print('Testing on 1885 to 1913...')\n",
    "    y_train = year_wise_train_test(X, y, y_train, model, 1885, 1913)\n",
    "    \n",
    "    print('Testing on 1913 to 1941...')\n",
    "    y_train, X_test, y_test, train_out = year_wise_train_test(X, y, y_train, model, 1913, 1941)\n",
    "    \n",
    "    if df.id.iloc[0].find('evaluation') != -1:  # if evaluation data\n",
    "        print('Testing on 1941 to 1969...')\n",
    "        y_train, X_test, y_test, train_out = year_wise_train_test(X, y, y_train, model, 1941, 1969)\n",
    "    \n",
    "    cclear()\n",
    "    print(store_name, ' Done.')\n",
    "    \n",
    "    return le, X_test, y_test, train_out"
   ]
  },
  {
   "cell_type": "code",
   "execution_count": null,
   "metadata": {
    "hidden": true,
    "jupyter": {
     "source_hidden": true
    }
   },
   "outputs": [],
   "source": [
    "############################## Code for testing MSE of single store for the fit function  ###############################"
   ]
  },
  {
   "cell_type": "code",
   "execution_count": null,
   "metadata": {
    "hidden": true,
    "jupyter": {
     "source_hidden": true
    }
   },
   "outputs": [],
   "source": [
    "%%time\n",
    "df = sales_train_ev.copy()  # estimated 37 seconds to run\n",
    "df = myfeature.feature_engineer(df)\n",
    "\n",
    "le, X_test, y_test, train_out = fit_fun_2(df, 'CA_1')  # estimated time to run 3 minute 15 seconds\n",
    "mse(train_out, y_test) # 8.55 for CA_1\n",
    "############################################################################################################################"
   ]
  },
  {
   "cell_type": "markdown",
   "metadata": {
    "heading_collapsed": true
   },
   "source": [
    "### Training strategies 3.1, 3.2, 3.3, 3.4, 3.5, 3.6"
   ]
  },
  {
   "cell_type": "code",
   "execution_count": null,
   "metadata": {
    "hidden": true,
    "jupyter": {
     "source_hidden": true
    }
   },
   "outputs": [],
   "source": [
    "def fit_fun_2(df, store_name):\n",
    "    cclear()\n",
    "    print('Using strategy ', strategy)\n",
    "    X, y, le = myfeature.get_X_and_y_withou_adding_more_features(df, store_name)\n",
    "    \n",
    "    if df.id.iloc[0].find('evaluation') != -1:  # if evaluation data\n",
    "\n",
    "        # X_train, y_train = X.iloc[0:3049*1941], y[:3049*1941]\n",
    "        # X_test, y_test = X.iloc[3049*1941:], y[3049*1941:]\n",
    "\n",
    "        # fitiing only on one year data\n",
    "        X_train, y_train = X.iloc[ev_train_start:ev_train_end], y[ev_train_start:ev_train_end] \n",
    "        X_test, y_test = X.iloc[ev_train_end:], y[ev_train_end:]                     \n",
    "\n",
    "    if df.id.iloc[0].find('validation') != -1:  # if validation data\n",
    "        \n",
    "        X_train, y_train = X.iloc[val_train_start:val_train_end], y[val_train_start:val_train_end]\n",
    "        X_test, y_test = X.iloc[val_train_end:], y[val_train_end:]\n",
    "    \n",
    "    model.fit(X_train, y_train)\n",
    "    train_out = model.predict(X_test)\n",
    "    \n",
    "    cclear()\n",
    "    print(store_name, ' Done.')\n",
    "    \n",
    "    return le, X_test, y_test, train_out"
   ]
  },
  {
   "cell_type": "markdown",
   "metadata": {
    "hidden": true
   },
   "source": [
    "#### Training strategy - 3.1"
   ]
  },
  {
   "cell_type": "code",
   "execution_count": null,
   "metadata": {
    "hidden": true
   },
   "outputs": [],
   "source": [
    "# First score is Private and second score is Public score"
   ]
  },
  {
   "attachments": {
    "Screenshot%20-%2014-11-2020%20,%2013_13_13.png": {
     "image/png": "[encoded data removed]"
    }
   },
   "cell_type": "markdown",
   "metadata": {
    "hidden": true
   },
   "source": [
    "![Screenshot%20-%2014-11-2020%20,%2013_13_13.png](attachment:Screenshot%20-%2014-11-2020%20,%2013_13_13.png)"
   ]
  },
  {
   "cell_type": "markdown",
   "metadata": {
    "hidden": true,
    "jupyter": {
     "source_hidden": true
    }
   },
   "source": [
    "This strategy takes only columns added by feature_engineer() function, no more than that.\n",
    "<br>For evaluation data it fits on only one year of data (1576 to 1941) and predicts 1942 to 1969. \n",
    "<br>But for validation it fits on entire data till 1913 and predicts 1914 to 1941."
   ]
  },
  {
   "cell_type": "code",
   "execution_count": null,
   "metadata": {
    "hidden": true,
    "jupyter": {
     "source_hidden": true
    }
   },
   "outputs": [],
   "source": [
    "model = LGBMRegressor(num_leaves=588, learning_rate=0.67, reg_lambda=0.78, n_estimators= 363, min_data_in_leaf= 906)\n",
    "ev_train_start, ev_train_end, val_train_start, val_train_end = 3049*(1941-365), 3049*1941, 3049*(0), 3049*1913\n",
    "strategy = 5"
   ]
  },
  {
   "cell_type": "code",
   "execution_count": null,
   "metadata": {
    "hidden": true,
    "jupyter": {
     "source_hidden": true
    }
   },
   "outputs": [],
   "source": [
    "############################## Code for testing MSE of single store for the fit function  ###############################"
   ]
  },
  {
   "cell_type": "code",
   "execution_count": null,
   "metadata": {
    "hidden": true,
    "jupyter": {
     "source_hidden": true
    }
   },
   "outputs": [],
   "source": [
    "# # %%time\n",
    "# df = sales_train_ev.copy()\n",
    "# empty_list = [0]*30490\n",
    "# for i in range(1942, 1970):\n",
    "#     df['d_'+str(i)] = empty_list\n",
    "# df = feature_engineer(df)\n",
    "\n",
    "# ev_train_start, ev_train_end, val_train_start, val_train_end = 3049*(1913-365), 3049*1913, _, _\n",
    "# le, X_test, y_test, train_out = fit_fun_2(df, 'CA_1')\n",
    "# out_df = reverse_long_form(le, X_test, train_out)\n",
    "\n",
    "# # ##########################################################################################################################\n",
    "# # # Estimated time to run 2 min"
   ]
  },
  {
   "cell_type": "code",
   "execution_count": null,
   "metadata": {
    "hidden": true,
    "jupyter": {
     "outputs_hidden": true,
     "source_hidden": true
    }
   },
   "outputs": [],
   "source": [
    "myfeature.plot_prediction(out_df, 'FOODS_1_001_CA_1_evaluation', 1)"
   ]
  },
  {
   "cell_type": "markdown",
   "metadata": {
    "hidden": true
   },
   "source": [
    "#### Training Strategy - 3.2"
   ]
  },
  {
   "cell_type": "markdown",
   "metadata": {
    "hidden": true
   },
   "source": [
    "This strategy takes only columns added by feature_engineer() function, no more than that.\n",
    "<br>For evaluation data it fits on only one year of data (1576 to 1941) and predicts 1942 to 1969. \n",
    "<br>For validation again it fits on one year data 1913-365 to 1913."
   ]
  },
  {
   "cell_type": "code",
   "execution_count": null,
   "metadata": {
    "hidden": true
   },
   "outputs": [],
   "source": [
    "# First score is Private and second score is Public score"
   ]
  },
  {
   "attachments": {
    "Screenshot%20-%2014-11-2020%20,%2013_14_00.png": {
     "image/png": "[encoded data removed]"
    }
   },
   "cell_type": "markdown",
   "metadata": {
    "hidden": true
   },
   "source": [
    "![Screenshot%20-%2014-11-2020%20,%2013_14_00.png](attachment:Screenshot%20-%2014-11-2020%20,%2013_14_00.png)"
   ]
  },
  {
   "cell_type": "code",
   "execution_count": null,
   "metadata": {
    "hidden": true,
    "jupyter": {
     "source_hidden": true
    }
   },
   "outputs": [],
   "source": [
    "model = LGBMRegressor(num_leaves=588, learning_rate=0.67, reg_lambda=0.78, n_estimators= 363, min_data_in_leaf= 906)\n",
    "ev_train_start, ev_train_end, val_train_start, val_train_end = 3049*(1941-365), 3049*1941, 3049*(1913-365), 3049*1913\n",
    "strategy =5.2"
   ]
  },
  {
   "cell_type": "markdown",
   "metadata": {
    "hidden": true
   },
   "source": [
    "#### Training Strategy - 3.3"
   ]
  },
  {
   "cell_type": "markdown",
   "metadata": {
    "hidden": true
   },
   "source": [
    "This strategy takes only columns added by feature_engineer() function, no more than that.\n",
    "<br>For evaluation data it fits on three years of data (1941-365-365-365 to 1941) and predicts 1942 to 1969. \n",
    "<br>For validation again it fits on three years data 1913-365-365-365 to 1913."
   ]
  },
  {
   "cell_type": "code",
   "execution_count": null,
   "metadata": {
    "hidden": true
   },
   "outputs": [],
   "source": [
    "# First score is Private and second score is Public score"
   ]
  },
  {
   "attachments": {
    "Screenshot%20-%2014-11-2020%20,%2012_29_35.png": {
     "image/png": "[encoded data removed]"
    }
   },
   "cell_type": "markdown",
   "metadata": {
    "hidden": true
   },
   "source": [
    "![Screenshot%20-%2014-11-2020%20,%2012_29_35.png](attachment:Screenshot%20-%2014-11-2020%20,%2012_29_35.png)"
   ]
  },
  {
   "cell_type": "code",
   "execution_count": null,
   "metadata": {
    "hidden": true,
    "jupyter": {
     "source_hidden": true
    }
   },
   "outputs": [],
   "source": [
    "model = LGBMRegressor(num_leaves=588, learning_rate=0.67, reg_lambda=0.78, n_estimators= 363, min_data_in_leaf= 906)\n",
    "ev_train_start, ev_train_end, val_train_start, val_train_end = 3049*(1941-365-365-365), 3049*1941, \\\n",
    "                                                                3049*(1913-365-365-365), 3049*1913\n",
    "strategy = 5.3"
   ]
  },
  {
   "cell_type": "code",
   "execution_count": null,
   "metadata": {
    "hidden": true,
    "jupyter": {
     "outputs_hidden": true,
     "source_hidden": true
    }
   },
   "outputs": [],
   "source": [
    "# %%time\n",
    "df = sales_train_ev.copy()\n",
    "empty_list = [0]*30490\n",
    "for i in range(1942, 1970):\n",
    "    df['d_'+str(i)] = empty_list\n",
    "df = myfeature.feature_engineer(df)\n",
    "\n",
    "ev_train_start, ev_train_end, val_train_start, val_train_end = 3049*(1913-365-365-365), 3049*1913, _, _\n",
    "le, X_test, y_test, train_out = myfeature.fit_fun_2(df, 'CA_1')\n",
    "out_df = myfeature.reverse_long_form(le, X_test, train_out)\n",
    "\n",
    "# ##########################################################################################################################\n",
    "# # Estimated time to run 2 min\n",
    "\n",
    "myfeature.plot_prediction(out_df, 'FOODS_1_001_CA_1_evaluation', 1)"
   ]
  },
  {
   "cell_type": "markdown",
   "metadata": {
    "hidden": true
   },
   "source": [
    "#### Training Strategy -  3.4"
   ]
  },
  {
   "cell_type": "markdown",
   "metadata": {
    "hidden": true
   },
   "source": [
    "This strategy takes only columns added by feature_engineer() function, no more than that.\n",
    "<br>For evaluation data it fits on entire data (0 to 1941) and predicts 1942 to 1969. \n",
    "<br>For validation again it fits on entire data 0 to 1913."
   ]
  },
  {
   "cell_type": "code",
   "execution_count": null,
   "metadata": {
    "hidden": true
   },
   "outputs": [],
   "source": [
    "# First score is Private and second score is Public score"
   ]
  },
  {
   "attachments": {
    "Screenshot%20-%2014-11-2020%20,%2012_30_21.png": {
     "image/png": "[encoded data removed]"
    }
   },
   "cell_type": "markdown",
   "metadata": {
    "hidden": true
   },
   "source": [
    "![Screenshot%20-%2014-11-2020%20,%2012_30_21.png](attachment:Screenshot%20-%2014-11-2020%20,%2012_30_21.png)"
   ]
  },
  {
   "cell_type": "code",
   "execution_count": null,
   "metadata": {
    "hidden": true,
    "jupyter": {
     "source_hidden": true
    }
   },
   "outputs": [],
   "source": [
    "model = LGBMRegressor(num_leaves=588, learning_rate=0.67, reg_lambda=0.78, n_estimators= 363, min_data_in_leaf= 906)\n",
    "ev_train_start, ev_train_end, val_train_start, val_train_end = 3049*(0), 3049*1941, \\\n",
    "                                                                3049*(0), 3049*1913\n",
    "strategy = 5.4"
   ]
  },
  {
   "cell_type": "code",
   "execution_count": null,
   "metadata": {
    "hidden": true,
    "jupyter": {
     "outputs_hidden": true,
     "source_hidden": true
    }
   },
   "outputs": [],
   "source": [
    "ev_train_start, ev_train_end, val_train_start, val_train_end = 3049*(0), 3049*1913, _, _\n",
    "le, X_test, y_test, train_out = myfeature.fit_fun_2(df, 'CA_1')\n",
    "out_df = myfeature.reverse_long_form(le, X_test, train_out)\n",
    "\n",
    "# ##########################################################################################################################\n",
    "# # Estimated time to run 2 min\n",
    "\n",
    "myfeature.plot_prediction(out_df, 'FOODS_1_001_CA_1_evaluation', 1)"
   ]
  },
  {
   "cell_type": "markdown",
   "metadata": {
    "hidden": true
   },
   "source": [
    "#### Training Strategy - 3.5"
   ]
  },
  {
   "cell_type": "markdown",
   "metadata": {
    "hidden": true
   },
   "source": [
    "This strategy takes only columns added by feature_engineer() function, no more than that.\n",
    "<br>For evaluation data it fits on two years data (1941-365-365 to 1941) and predicts 1942 to 1969. \n",
    "<br>For validation again it fits on entire data 0 to 1913."
   ]
  },
  {
   "cell_type": "code",
   "execution_count": null,
   "metadata": {
    "hidden": true
   },
   "outputs": [],
   "source": [
    "# First score is Private and second score is Public score"
   ]
  },
  {
   "attachments": {
    "Screenshot%20-%2014-11-2020%20,%2012_58_00.png": {
     "image/png": "[encoded data removed]"
    }
   },
   "cell_type": "markdown",
   "metadata": {
    "hidden": true
   },
   "source": [
    "![Screenshot%20-%2014-11-2020%20,%2012_58_00.png](attachment:Screenshot%20-%2014-11-2020%20,%2012_58_00.png)"
   ]
  },
  {
   "cell_type": "code",
   "execution_count": null,
   "metadata": {
    "hidden": true,
    "jupyter": {
     "source_hidden": true
    }
   },
   "outputs": [],
   "source": [
    "model = LGBMRegressor(num_leaves=588, learning_rate=0.67, reg_lambda=0.78, n_estimators= 363, min_data_in_leaf= 906)\n",
    "ev_train_start, ev_train_end, val_train_start, val_train_end = 3049*(1941-365-365), 3049*1941, \\\n",
    "                                                                3049*(0), 3049*1913\n",
    "strategy = 5.5"
   ]
  },
  {
   "cell_type": "code",
   "execution_count": null,
   "metadata": {
    "hidden": true,
    "jupyter": {
     "outputs_hidden": true,
     "source_hidden": true
    }
   },
   "outputs": [],
   "source": [
    "ev_train_start, ev_train_end, val_train_start, val_train_end = 3049*(1913-365-365), 3049*1913, _, _\n",
    "le, X_test, y_test, train_out = fit_fun_2(df, 'CA_1')\n",
    "out_df = myfeature.reverse_long_form(le, X_test, train_out)\n",
    "\n",
    "# ##########################################################################################################################\n",
    "# # Estimated time to run 2 min\n",
    "\n",
    "myfeature.plot_prediction(out_df, 'FOODS_1_001_CA_1_evaluation', 1)"
   ]
  },
  {
   "cell_type": "markdown",
   "metadata": {
    "hidden": true
   },
   "source": [
    "#### Training Strategy - 3.6"
   ]
  },
  {
   "cell_type": "markdown",
   "metadata": {
    "hidden": true
   },
   "source": [
    "This strategy takes only columns added by feature_engineer() function, no more than that.\n",
    "<br>For evaluation data it fits on three years data (1941-365-365-365 to 1941) and predicts 1942 to 1969. \n",
    "<br>For validation again it fits on entire data 0 to 1913."
   ]
  },
  {
   "cell_type": "code",
   "execution_count": null,
   "metadata": {
    "hidden": true
   },
   "outputs": [],
   "source": [
    "# First score is Private and second score is Public score"
   ]
  },
  {
   "attachments": {
    "Screenshot%20-%2014-11-2020%20,%2012_59_21.png": {
     "image/png": "[encoded data removed]"
    }
   },
   "cell_type": "markdown",
   "metadata": {
    "hidden": true
   },
   "source": [
    "![Screenshot%20-%2014-11-2020%20,%2012_59_21.png](attachment:Screenshot%20-%2014-11-2020%20,%2012_59_21.png)"
   ]
  },
  {
   "cell_type": "code",
   "execution_count": null,
   "metadata": {
    "hidden": true,
    "jupyter": {
     "source_hidden": true
    }
   },
   "outputs": [],
   "source": [
    "model = LGBMRegressor(num_leaves=1100, learning_rate=0.67, reg_lambda=0.78, n_estimators= 363, min_data_in_leaf= 1418)\n",
    "ev_train_start, ev_train_end, val_train_start, val_train_end = 3049*(1941-365-365-365), 3049*1941, \\\n",
    "                                                                3049*(0), 3049*1913\n",
    "strategy = 5.6"
   ]
  },
  {
   "cell_type": "code",
   "execution_count": null,
   "metadata": {
    "hidden": true,
    "jupyter": {
     "outputs_hidden": true,
     "source_hidden": true
    }
   },
   "outputs": [],
   "source": [
    "model = LGBMRegressor(num_leaves=1100, learning_rate=0.67, reg_lambda=0.78, n_estimators= 363, min_data_in_leaf= 1418)\n",
    "ev_train_start, ev_train_end, val_train_start, val_train_end = 3049*(1913-365-365-365), 3049*1913, _, _\n",
    "le, X_test, y_test, train_out = fit_fun_2(df, 'CA_1')\n",
    "out_df = myfeature.reverse_long_form(le, X_test, train_out)\n",
    "\n",
    "# ##########################################################################################################################\n",
    "# # Estimated time to run 2 min\n",
    "\n",
    "myfeature.plot_prediction(out_df, 'FOODS_1_001_CA_1_evaluation', 1)"
   ]
  },
  {
   "cell_type": "markdown",
   "metadata": {
    "heading_collapsed": true
   },
   "source": [
    "### Training strategy 4"
   ]
  },
  {
   "cell_type": "markdown",
   "metadata": {
    "hidden": true
   },
   "source": [
    "#### Training Strategy 4.1"
   ]
  },
  {
   "cell_type": "code",
   "execution_count": null,
   "metadata": {
    "hidden": true
   },
   "outputs": [],
   "source": [
    "# First score is Private and second score is Public score"
   ]
  },
  {
   "attachments": {
    "Screenshot%20-%2014-11-2020%20,%2013_00_57.png": {
     "image/png": "[encoded data removed]"
    }
   },
   "cell_type": "markdown",
   "metadata": {
    "hidden": true
   },
   "source": [
    "![Screenshot%20-%2014-11-2020%20,%2013_00_57.png](attachment:Screenshot%20-%2014-11-2020%20,%2013_00_57.png)"
   ]
  },
  {
   "cell_type": "markdown",
   "metadata": {
    "hidden": true,
    "jupyter": {
     "source_hidden": true
    }
   },
   "source": [
    "In this strategy we add all the columns we can add. Then we fit on one year of data only, both for eval and val data.\n",
    "<br>For eval we train on 1941-365 to 1941, we test on 1941 to 1969.\n",
    "<br>For val we train on 1913-365 to 1913 and we test on 1913 to 1969."
   ]
  },
  {
   "cell_type": "code",
   "execution_count": null,
   "metadata": {
    "hidden": true,
    "jupyter": {
     "source_hidden": true
    }
   },
   "outputs": [],
   "source": [
    "model = LGBMRegressor(num_leaves=588, learning_rate=0.67, reg_lambda=0.78, n_estimators= 363, min_data_in_leaf= 906)\n",
    "ev_train_start, ev_train_end, val_train_start, val_train_end = 3049*(1941-365), 3049*1941, 3049*(1913-365), 3049*1913\n",
    "strategy = 6\n",
    "def fit_fun_2(df, store_name):\n",
    "    cclear()\n",
    "    print('Using strategy ', strategy)\n",
    "    X, y, le = myfeature.get_X_and_y(df, store_name)      # this fun selects rows for given store name, adds more columns, \n",
    "                                                # does encoding, returns X and y and encoder\n",
    "    \n",
    "    if df.id.iloc[0].find('evaluation') != -1:  # if evaluation data\n",
    "\n",
    "        # following code can be used to predict on 1913 to 1969 to plot true and predict of 1913 to 1941\n",
    "        # X_train, y_train = X.iloc[3049*(1941-365-365-365):3049*1913], y[3049*(1941-365-365-365):3049*1913]\n",
    "        # X_test, y_test = X.iloc[3049*1913:], y[3049*1913:]                     \n",
    "        \n",
    "        # Original code for fitting, fitiing only on 3 years data\n",
    "        X_train, y_train = X.iloc[ev_train_start:ev_train_end], y[ev_train_start:ev_train_end] \n",
    "        X_test, y_test = X.iloc[ev_train_end:], y[ev_train_end:]                     \n",
    "    \n",
    "    if df.id.iloc[0].find('validation') != -1:  # if validation data\n",
    "        X_train, y_train = X.iloc[val_train_start:val_train_end], y[val_train_start:val_train_end]\n",
    "        X_test, y_test = X.iloc[val_train_end:], y[val_train_end:]\n",
    "    \n",
    "    print('Fitting...')\n",
    "    model.fit(X_train, y_train)\n",
    "    train_out = model.predict(X_test)\n",
    "    \n",
    "    cclear()\n",
    "    print(store_name, ' Done.')\n",
    "    \n",
    "    return le, X_test, y_test, train_out"
   ]
  },
  {
   "cell_type": "code",
   "execution_count": null,
   "metadata": {
    "hidden": true,
    "jupyter": {
     "source_hidden": true
    }
   },
   "outputs": [],
   "source": [
    "############################## Code for testing MSE of single store for the fit function  ###############################"
   ]
  },
  {
   "cell_type": "code",
   "execution_count": null,
   "metadata": {
    "hidden": true,
    "jupyter": {
     "outputs_hidden": true,
     "source_hidden": true
    }
   },
   "outputs": [],
   "source": [
    "# %%time\n",
    "# df = sales_train_ev.copy()\n",
    "# empty_list = [0]*30490\n",
    "# for i in range(1942, 1970):\n",
    "#     df['d_'+str(i)] = empty_list\n",
    "# df = feature_engineer(df)\n",
    "\n",
    "# model = LGBMRegressor(num_leaves=588, learning_rate=0.67, reg_lambda=0.78, n_estimators= 363, min_data_in_leaf= 906)\n",
    "# ev_train_start, ev_train_end, val_train_start, val_train_end = 3049*(1913-365), 3049*1913, 3049*(1913-365), 3049*1913\n",
    "# strategy = 6\n",
    "\n",
    "# le, X_test, y_test, train_out = fit_fun_2(df, 'CA_1')\n",
    "# out_df = reverse_long_form(le, X_test, train_out)\n",
    "# plot_prediction(out_df, 'FOODS_1_001_CA_1_evaluation', 1)\n",
    "\n",
    "##########################################################################################################################\n",
    "# Estimated time to run 2 min"
   ]
  },
  {
   "cell_type": "code",
   "execution_count": null,
   "metadata": {
    "hidden": true,
    "jupyter": {
     "source_hidden": true
    }
   },
   "outputs": [],
   "source": [
    "# plot_prediction(out_df, 'FOODS_1_001_CA_1_evaluation', 1)\n",
    "# plot_prediction(out_df, 'FOODS_1_001_CA_1_evaluation', 1.5)\n",
    "# plot_prediction(out_df, 'FOODS_1_001_CA_1_evaluation', 2)\n",
    "# plot_prediction(out_df, 'FOODS_1_001_CA_1_evaluation', 2.5)"
   ]
  },
  {
   "cell_type": "markdown",
   "metadata": {
    "hidden": true
   },
   "source": [
    "#### Training Strategy - 4.2"
   ]
  },
  {
   "cell_type": "code",
   "execution_count": null,
   "metadata": {
    "hidden": true
   },
   "outputs": [],
   "source": [
    "# First score is Private and second score is Public score"
   ]
  },
  {
   "attachments": {
    "Screenshot%20-%2014-11-2020%20,%2013_02_39.png": {
     "image/png": "[encoded data removed]"
    }
   },
   "cell_type": "markdown",
   "metadata": {
    "hidden": true
   },
   "source": [
    "![Screenshot%20-%2014-11-2020%20,%2013_02_39.png](attachment:Screenshot%20-%2014-11-2020%20,%2013_02_39.png)"
   ]
  },
  {
   "cell_type": "markdown",
   "metadata": {
    "hidden": true,
    "jupyter": {
     "source_hidden": true
    }
   },
   "source": [
    "Not plotting the test code as the same eval data is fit here, only change is that entire val data is fit."
   ]
  },
  {
   "cell_type": "code",
   "execution_count": null,
   "metadata": {
    "hidden": true,
    "jupyter": {
     "source_hidden": true
    }
   },
   "outputs": [],
   "source": [
    "model = LGBMRegressor(num_leaves=588, learning_rate=0.67, reg_lambda=0.78, n_estimators= 363, min_data_in_leaf= 906)\n",
    "ev_train_start, ev_train_end, val_train_start, val_train_end = 3049*(1941-365), 3049*1941, 3049*(0), 3049*1913\n",
    "strategy = 6.1\n",
    "def fit_fun_2(df, store_name):\n",
    "    cclear()\n",
    "    print('Using strategy ', strategy)\n",
    "    X, y, le = myfeature.get_X_and_y(df, store_name)      # this fun selects rows for given store name, adds more columns, \n",
    "                                                # does encoding, returns X and y and encoder\n",
    "    \n",
    "    if df.id.iloc[0].find('evaluation') != -1:  # if evaluation data\n",
    "\n",
    "        # following code can be used to predict on 1913 to 1969 to plot true and predict of 1913 to 1941\n",
    "        # X_train, y_train = X.iloc[3049*(1941-365-365-365):3049*1913], y[3049*(1941-365-365-365):3049*1913]\n",
    "        # X_test, y_test = X.iloc[3049*1913:], y[3049*1913:]                     \n",
    "        \n",
    "        # Original code for fitting, fitiing only on 3 years data\n",
    "        X_train, y_train = X.iloc[ev_train_start:ev_train_end], y[ev_train_start:ev_train_end] \n",
    "        X_test, y_test = X.iloc[ev_train_end:], y[ev_train_end:]                     \n",
    "    \n",
    "    if df.id.iloc[0].find('validation') != -1:  # if validation data\n",
    "        X_train, y_train = X.iloc[val_train_start:val_train_end], y[val_train_start:val_train_end]\n",
    "        X_test, y_test = X.iloc[val_train_end:], y[val_train_end:]\n",
    "    \n",
    "    print('Fitting...')\n",
    "    model.fit(X_train, y_train)\n",
    "    train_out = model.predict(X_test)\n",
    "    \n",
    "    cclear()\n",
    "    print(store_name, ' Done.')\n",
    "    \n",
    "    return le, X_test, y_test, train_out"
   ]
  },
  {
   "cell_type": "markdown",
   "metadata": {},
   "source": [
    "### Training Strategy 5"
   ]
  },
  {
   "cell_type": "markdown",
   "metadata": {},
   "source": [
    "#### Training Function for 5.1, 5.2"
   ]
  },
  {
   "cell_type": "code",
   "execution_count": null,
   "metadata": {
    "jupyter": {
     "source_hidden": true
    }
   },
   "outputs": [],
   "source": [
    "def fit_fun_2(df, store_name):\n",
    "    cclear()\n",
    "    print('Using strategy ', strategy)\n",
    "    X, y, le = myfeature.get_X_and_y_withou_adding_more_features(df, store_name)\n",
    "    \n",
    "    if df.id.iloc[0].find('evaluation') != -1:  # if evaluation data\n",
    "\n",
    "        # X_train, y_train = X.iloc[0:3049*1941], y[:3049*1941]\n",
    "        # X_test, y_test = X.iloc[3049*1941:], y[3049*1941:]\n",
    "\n",
    "        # fitiing only on one year data\n",
    "        X_train, y_train = X.iloc[ev_train_start:ev_train_end], y[ev_train_start:ev_train_end] \n",
    "        X_test, y_test = X.iloc[ev_train_end:], y[ev_train_end:]                     \n",
    "\n",
    "    if df.id.iloc[0].find('validation') != -1:  # if validation data\n",
    "        \n",
    "        X_train, y_train = X.iloc[val_train_start:val_train_end], y[val_train_start:val_train_end]\n",
    "        X_test, y_test = X.iloc[val_train_end:], y[val_train_end:]\n",
    "    \n",
    "    model.fit(X_train, y_train)\n",
    "    train_out = model.predict(X_test)\n",
    "    \n",
    "    cclear()\n",
    "    print(store_name, ' Done.')\n",
    "    \n",
    "    return le, X_test, y_test, train_out"
   ]
  },
  {
   "cell_type": "markdown",
   "metadata": {},
   "source": [
    "#### Training strategy 5.1"
   ]
  },
  {
   "cell_type": "markdown",
   "metadata": {},
   "source": [
    "Instead of LGBRegressor we try XGBRegressor. \n",
    "We fit one year data for eval and entire data for val.\n",
    "We dont add more features than added by feature_engineer() function."
   ]
  },
  {
   "attachments": {
    "Screenshot%20-%2014-11-2020%20,%2013_05_12.png": {
     "image/png": "[encoded data removed]"
    }
   },
   "cell_type": "markdown",
   "metadata": {},
   "source": [
    "![Screenshot%20-%2014-11-2020%20,%2013_05_12.png](attachment:Screenshot%20-%2014-11-2020%20,%2013_05_12.png)"
   ]
  },
  {
   "cell_type": "code",
   "execution_count": null,
   "metadata": {
    "jupyter": {
     "source_hidden": true
    }
   },
   "outputs": [],
   "source": [
    "ev_train_start, ev_train_end, val_train_start, val_train_end = 3049*(1941-365), 3049*1941, 3049*(0), 3049*1913\n",
    "strategy = 5.1\n",
    "model = xgb.XGBRegressor(colsample_bytree=0.4,\n",
    "                 gamma=0,                 \n",
    "                 learning_rate=0.07,\n",
    "                 max_depth=3,\n",
    "                 min_child_weight=1.5,\n",
    "                 n_estimators=100,                                                                    \n",
    "                 reg_alpha=0.75,\n",
    "                 reg_lambda=0.45,\n",
    "                 subsample=0.6,\n",
    "                 seed=42)"
   ]
  },
  {
   "cell_type": "markdown",
   "metadata": {},
   "source": [
    "#### Training strategy 5.2"
   ]
  },
  {
   "cell_type": "markdown",
   "metadata": {},
   "source": [
    "Instead of LGBRegressor we try XGBRegressor. \n",
    "We fit entire data for both eval and val. \n",
    "We dont add more features than added by feature_engineer() function."
   ]
  },
  {
   "attachments": {
    "Screenshot%20-%2014-11-2020%20,%2013_05_44.png": {
     "image/png": "[encoded data removed]"
    }
   },
   "cell_type": "markdown",
   "metadata": {},
   "source": [
    "![Screenshot%20-%2014-11-2020%20,%2013_05_44.png](attachment:Screenshot%20-%2014-11-2020%20,%2013_05_44.png)"
   ]
  },
  {
   "cell_type": "code",
   "execution_count": null,
   "metadata": {
    "jupyter": {
     "source_hidden": true
    }
   },
   "outputs": [],
   "source": [
    "ev_train_start, ev_train_end, val_train_start, val_train_end = 3049*(0), 3049*1941, 3049*(0), 3049*1913\n",
    "strategy = 5.2\n",
    "model = xgb.XGBRegressor(colsample_bytree=0.4,\n",
    "                 gamma=0,                 \n",
    "                 learning_rate=0.07,\n",
    "                 max_depth=3,\n",
    "                 min_child_weight=1.5,\n",
    "                 n_estimators=100,                                                                    \n",
    "                 reg_alpha=0.75,\n",
    "                 reg_lambda=0.45,\n",
    "                 subsample=0.6,\n",
    "                 seed=42)"
   ]
  },
  {
   "cell_type": "markdown",
   "metadata": {},
   "source": [
    "#### Training Strategy - 5.3"
   ]
  },
  {
   "cell_type": "markdown",
   "metadata": {},
   "source": [
    "Instead of LGBRegressor we try XGBRegressor. \n",
    "We fit entire data for both eval and val. \n",
    "We all the features we can."
   ]
  },
  {
   "attachments": {
    "Screenshot%20-%2014-11-2020%20,%2013_06_11.png": {
     "image/png": "[encoded data removed]"
    }
   },
   "cell_type": "markdown",
   "metadata": {},
   "source": [
    "![Screenshot%20-%2014-11-2020%20,%2013_06_11.png](attachment:Screenshot%20-%2014-11-2020%20,%2013_06_11.png)"
   ]
  },
  {
   "cell_type": "markdown",
   "metadata": {
    "jupyter": {
     "source_hidden": true
    }
   },
   "source": [
    "Score - 4.93"
   ]
  },
  {
   "cell_type": "code",
   "execution_count": null,
   "metadata": {
    "jupyter": {
     "source_hidden": true
    }
   },
   "outputs": [],
   "source": [
    "ev_train_start, ev_train_end, val_train_start, val_train_end = 3049*(0), 3049*1941, 3049*(0), 3049*1913\n",
    "strategy = 5.3\n",
    "model = xgb.XGBRegressor(colsample_bytree=0.4,\n",
    "                 gamma=0,                 \n",
    "                 learning_rate=0.07,\n",
    "                 max_depth=3,\n",
    "                 min_child_weight=1.5,\n",
    "                 n_estimators=100,                                                                    \n",
    "                 reg_alpha=0.75,\n",
    "                 reg_lambda=0.45,\n",
    "                 subsample=0.6,\n",
    "                 seed=42)\n",
    "\n",
    "def fit_fun_2(df, store_name):\n",
    "    cclear()\n",
    "    print('Using strategy ', strategy)\n",
    "    X, y, le = myfeature.get_X_and_y(df, store_name)      # this fun selects rows for given store name, adds more columns, \n",
    "                                                # does encoding, returns X and y and encoder\n",
    "     \n",
    "    if df.id.iloc[0].find('evaluation') != -1:  # if evaluation data\n",
    "\n",
    "        # X_train, y_train = X.iloc[0:3049*1941], y[:3049*1941]\n",
    "        # X_test, y_test = X.iloc[3049*1941:], y[3049*1941:]\n",
    "\n",
    "        # fitiing only on one year data\n",
    "        X_train, y_train = X.iloc[ev_train_start:ev_train_end], y[ev_train_start:ev_train_end] \n",
    "        X_test, y_test = X.iloc[ev_train_end:], y[ev_train_end:]                     \n",
    "\n",
    "    if df.id.iloc[0].find('validation') != -1:  # if validation data\n",
    "        \n",
    "        X_train, y_train = X.iloc[val_train_start:val_train_end], y[val_train_start:val_train_end]\n",
    "        X_test, y_test = X.iloc[val_train_end:], y[val_train_end:]\n",
    "    \n",
    "    model.fit(X_train, y_train)\n",
    "    train_out = model.predict(X_test)\n",
    "    \n",
    "    cclear()\n",
    "    print(store_name, ' Done.')\n",
    "    \n",
    "    return le, X_test, y_test, train_out"
   ]
  },
  {
   "cell_type": "markdown",
   "metadata": {},
   "source": [
    "### Training Strategy 7.5"
   ]
  },
  {
   "attachments": {
    "7.5%20Trial%202.png": {
     "image/png": "[encoded data removed]"
    }
   },
   "cell_type": "markdown",
   "metadata": {},
   "source": [
    "![7.5%20Trial%202.png](attachment:7.5%20Trial%202.png)"
   ]
  },
  {
   "cell_type": "code",
   "execution_count": null,
   "metadata": {},
   "outputs": [],
   "source": [
    "'''\n",
    "This function takes input one dept worth of data, it can be from evaluation or validation csv, the function takes care\n",
    "of that. It fits the model and sends out the labelencoders and predictions. Another function uses the the encoders and \n",
    "predictions to roll out final files.\n",
    "'''\n",
    "\n",
    "def startegy7dot5T2(new_df, dept):\n",
    "    print('Using strategy ', strategy)\n",
    "\n",
    "    evaluation, validation = new_df.id.iloc[0].find('evaluation'), new_df.id.iloc[0].find('validation')\n",
    "    \n",
    "    new_df = new_df[new_df.dept_id == dept]\n",
    "    print('Total rows: ', len(new_df))\n",
    "    \n",
    "    rows_per_day = len(new_df[new_df.d == 'd_1'])\n",
    "    print('Rows per day: ', rows_per_day)\n",
    "    \n",
    "    new_df['day_of_month'] = new_df['day_of_month'].fillna(0)\n",
    "    new_df = new_df.astype({'day_of_month': 'int32'})             # Making day_of_month column as int\n",
    "    new_df['date'] = new_df['date'].astype(str)\n",
    "\n",
    "    y = new_df.unit_sale                                          # getting the label\n",
    "    new_df = new_df.drop('unit_sale', axis=1)\n",
    "\n",
    "    print('Encoding categorical features...')\n",
    "    le, new_df = myfeature.encode_cat_cols(new_df)                # Encoding Categorical Columns\n",
    "\n",
    "    X = new_df\n",
    "    \n",
    "    ev_train_start, ev_train_end, val_train_start, val_train_end = rows_per_day*(0), rows_per_day*1941,\\\n",
    "                                                                   rows_per_day*(0), rows_per_day*1913\n",
    "    \n",
    "    model = LGBMRegressor(boosting_type = 'gbdt',                 # 7.5 Trial 2\n",
    "                       objective = 'tweedie',\n",
    "                       tweedie_variance_power = 1.1,\n",
    "                       metric = 'rmse',\n",
    "                       n_estimators = 1207,\n",
    "                       subsample_freq = 1,\n",
    "                       learning_rate = 0.04,\n",
    "                       num_leaves = 2086,\n",
    "                       reg_lambda = 0.959,\n",
    "                       min_data_in_leaf = 3942,\n",
    "                       subsample = 0.37,\n",
    "                       feature_fraction = 0.95,\n",
    "                       max_bin = 112,\n",
    "                       boost_from_average = False)\n",
    " \n",
    "    if evaluation != -1:                                        # if evaluation data\n",
    "        print('Getting X_train, y_train...')\n",
    "                                                                \n",
    "        X_train, y_train = X.iloc[ev_train_start:ev_train_end], y[ev_train_start:ev_train_end] \n",
    "        X_test, y_test = X.iloc[ev_train_end:], y[ev_train_end:] \n",
    "        \n",
    "    if validation != -1:                                        # if validation data\n",
    "        print('Getting X_train, y_train...')\n",
    "        X_train, y_train = X.iloc[val_train_start:val_train_end], y[val_train_start:val_train_end]\n",
    "        X_test, y_test = X.iloc[val_train_end:], y[val_train_end:]\n",
    "    \n",
    "    print('X_train len', len(X_train), 'y_train len', len(y_train), 'X_test len', len(X_test))\n",
    "    \n",
    "    print('Fitting model...')\n",
    "    model.fit(X_train, y_train)\n",
    "    print('Fitting done.')\n",
    "    \n",
    "    print('Making predictions...')\n",
    "    train_out = model.predict(X_test)\n",
    "\n",
    "    print('Done.')\n",
    "    return le, X_test, train_out"
   ]
  },
  {
   "cell_type": "code",
   "execution_count": null,
   "metadata": {},
   "outputs": [],
   "source": [
    "'''\n",
    "This function takes the outputs of individual departments and binds them todgether, retransforms the data back into \n",
    "daywise horizontal form, renames the columns as required by kaggle for submission and returns the dataframe that we save as\n",
    "csv.\n",
    "'''\n",
    "\n",
    "def get_output_of_eval_or_val(df):\n",
    "    main_out_df = pd.DataFrame()\n",
    "    \n",
    "    list_dept = list(set(df.dept_id))\n",
    "    for i in list_dept:\n",
    "        print('Sequence of depts processing: ', list_dept)\n",
    "        print('Working on Dept: ', i)\n",
    "        le, X_test, train_out = startegy7dot5T2(df, i)\n",
    "        print('Reversing the long form...')\n",
    "        out_df = myfeature.reverse_long_form(le, X_test, train_out)\n",
    "        main_out_df = pd.concat([main_out_df, out_df], ignore_index=False)\n",
    "        cclear()\n",
    "\n",
    "    l = []                                                         # In this part we rename the columns to F_1, F_2 ....\n",
    "    for i in range(1,29):\n",
    "        l.append('F'+str(i))\n",
    "    l = ['id']+l\n",
    "\n",
    "    main_out_df.columns = l\n",
    "    \n",
    "    return main_out_df"
   ]
  },
  {
   "cell_type": "code",
   "execution_count": null,
   "metadata": {},
   "outputs": [],
   "source": [
    "strategy = 7.5                                            # Setting this variable helps in distinguishing during running"
   ]
  },
  {
   "cell_type": "code",
   "execution_count": null,
   "metadata": {},
   "outputs": [],
   "source": [
    "'''\n",
    "The next two cells get the output for evaluation.csv data.\n",
    "'''"
   ]
  },
  {
   "cell_type": "code",
   "execution_count": null,
   "metadata": {},
   "outputs": [],
   "source": [
    "%%time\n",
    "'''\n",
    "For evaluation csv, we add columns from 1942 to 1970 so that we can predict. We will need these columns to transform\n",
    "the data into long form.\n",
    "Then we use the feature_engineer function to add the features and make the transformation.\n",
    "'''\n",
    "\n",
    "df = sales_train_ev.copy()\n",
    "empty_list = [0]*30490\n",
    "for i in range(1942, 1970):\n",
    "    df['d_'+str(i)] = empty_list\n",
    "df = myfeature.feature_engineer(df)"
   ]
  },
  {
   "cell_type": "code",
   "execution_count": null,
   "metadata": {},
   "outputs": [],
   "source": [
    "%%time\n",
    "main_out_df_ev = get_output_of_eval_or_val(df)\n",
    "main_out_df_ev.to_csv('main_out_ev.csv')"
   ]
  },
  {
   "cell_type": "code",
   "execution_count": null,
   "metadata": {},
   "outputs": [],
   "source": [
    "'''\n",
    "The next two cells get the output for validation.csv data.\n",
    "'''"
   ]
  },
  {
   "cell_type": "code",
   "execution_count": null,
   "metadata": {},
   "outputs": [],
   "source": [
    "%%time\n",
    "'''\n",
    "For validation csv, we add columns from 1914 to 1942 so that we can predict. We will need these columns to transform\n",
    "the data into long form.\n",
    "Then we use the feature_engineer function to add the features and make the transformation.\n",
    "'''\n",
    "\n",
    "df = sales_train_val.copy()\n",
    "empty_list = [0]*30490\n",
    "for i in range(1914, 1942):\n",
    "    df['d_'+str(i)] = empty_list\n",
    "df = myfeature.feature_engineer(df)"
   ]
  },
  {
   "cell_type": "code",
   "execution_count": null,
   "metadata": {},
   "outputs": [],
   "source": [
    "%%time\n",
    "main_out_df_val = get_output_of_eval_or_val(df)\n",
    "main_out_df_val.to_csv('main_out_val.csv')"
   ]
  },
  {
   "cell_type": "code",
   "execution_count": null,
   "metadata": {},
   "outputs": [],
   "source": [
    "'''\n",
    "This part makes sure we have columns in right order, the first column should be item ids.\n",
    "'''\n",
    "myfeature.reorder_data(sales_train_val, 'main_out_val')\n",
    "myfeature.reorder_data(sales_train_ev, 'main_out_ev')"
   ]
  },
  {
   "cell_type": "code",
   "execution_count": null,
   "metadata": {},
   "outputs": [],
   "source": [
    "'''\n",
    "Making sure there is no unnamed column as that can create problem in submission.\n",
    "'''\n",
    "main_out_ev = pd.read_csv('main_out_ev.csv')\n",
    "main_out_ev = main_out_ev.drop(main_out_ev.columns[0], axis=1)\n",
    "\n",
    "main_out_val = pd.read_csv('main_out_val.csv')\n",
    "main_out_val = main_out_val.drop(main_out_val.columns[0], axis=1)\n",
    "\n",
    "sub_df = pd.concat([main_out_ev, main_out_val], ignore_index=True)\n",
    "sub_df = sub_df.round(2)"
   ]
  },
  {
   "cell_type": "code",
   "execution_count": null,
   "metadata": {},
   "outputs": [],
   "source": [
    "sub_df.to_csv('submissible_ML_.csv', index=False)"
   ]
  },
  {
   "cell_type": "code",
   "execution_count": null,
   "metadata": {},
   "outputs": [],
   "source": [
    "pd.read_csv('submissible_ML_.csv')"
   ]
  },
  {
   "cell_type": "markdown",
   "metadata": {
    "heading_collapsed": true
   },
   "source": [
    "## Steps to train any strategy"
   ]
  },
  {
   "cell_type": "code",
   "execution_count": null,
   "metadata": {
    "hidden": true
   },
   "outputs": [],
   "source": [
    "# sequence of stores = CA_1, CA_2, CA_3, CA_4, WI_1, WI_2, WI_3, TX_1, TX_2, TX_3"
   ]
  },
  {
   "cell_type": "markdown",
   "metadata": {
    "hidden": true
   },
   "source": [
    "Training for Evaluation Data"
   ]
  },
  {
   "cell_type": "code",
   "execution_count": null,
   "metadata": {
    "hidden": true,
    "scrolled": true
   },
   "outputs": [],
   "source": [
    "%%time\n",
    "df = sales_train_ev.copy()\n",
    "empty_list = [0]*30490\n",
    "for i in range(1942, 1970):\n",
    "    df['d_'+str(i)] = empty_list\n",
    "df = myfeature.feature_engineer(df)\n",
    "\n",
    "main_out_df = myfeature.training_function(df)\n",
    "main_out_df.to_csv('main_out_ev.csv')\n",
    "myfeature.reorder_data(sales_train_ev, 'main_out_ev')"
   ]
  },
  {
   "cell_type": "markdown",
   "metadata": {
    "hidden": true
   },
   "source": [
    "Training for Validation Data"
   ]
  },
  {
   "cell_type": "code",
   "execution_count": null,
   "metadata": {
    "hidden": true
   },
   "outputs": [],
   "source": [
    "%%time\n",
    "df = sales_train_val.copy()\n",
    "empty_list = [0]*30490\n",
    "for i in range(1914, 1942):\n",
    "    df['d_'+str(i)] = empty_list\n",
    "df = myfeature.feature_engineer(df)\n",
    "main_out_df = myfeature.training_function(df)\n",
    "main_out_df.to_csv('main_out_val.csv')\n",
    "myfeature.reorder_data(sales_train_val, 'main_out_val')"
   ]
  },
  {
   "cell_type": "markdown",
   "metadata": {
    "hidden": true
   },
   "source": [
    "Concatenate both CSVs to create the submission csv."
   ]
  },
  {
   "cell_type": "code",
   "execution_count": null,
   "metadata": {
    "hidden": true
   },
   "outputs": [],
   "source": [
    "main_out_ev = pd.read_csv('main_out_ev.csv')\n",
    "main_out_ev = main_out_ev.drop(main_out_ev.columns[0], axis=1)\n",
    "\n",
    "main_out_val = pd.read_csv('main_out_val.csv')\n",
    "main_out_val = main_out_val.drop(main_out_val.columns[0], axis=1)\n",
    "\n",
    "sub_df = pd.concat([main_out_ev, main_out_val], ignore_index=True)\n",
    "sub_df = sub_df.round(2)                            # We round the float values till 2nd decimal places  \n",
    "\n",
    "# we only keep absolute values\n",
    "ll = sub_df['id']\n",
    "sub_df = sub_df.drop('id', axis=1)\n",
    "for i in list(sub_df.columns):\n",
    "    sub_df[i] = sub_df[i].abs()\n",
    "\n",
    "# sub_df = sub_df.round(0).astype(int)    \n",
    "\n",
    "# sub_df.select_dtypes(exclude=['object' ]) * 1.5\n",
    "sub_df['id'] = ll\n",
    "\n",
    "cols = list(sub_df)\n",
    "cols = [cols[-1]] + cols[:-1]\n",
    "sub_df = sub_df[cols]\n",
    "sub_df\n",
    "    \n",
    "sub_df.to_csv('submissible_st_5.3.csv', index = False)"
   ]
  },
  {
   "cell_type": "markdown",
   "metadata": {
    "hidden": true
   },
   "source": [
    "### Submission CSV"
   ]
  },
  {
   "cell_type": "code",
   "execution_count": null,
   "metadata": {
    "hidden": true
   },
   "outputs": [],
   "source": [
    "# sub_df = pd.read_csv('submissible_st_5.3.csv')\n",
    "# sub_df"
   ]
  }
 ],
 "metadata": {
  "colab": {
   "collapsed_sections": [],
   "name": "CS1_Training.ipynb",
   "provenance": [],
   "toc_visible": true
  },
  "kernelspec": {
   "display_name": "Python 3",
   "language": "python",
   "name": "python3"
  },
  "language_info": {
   "codemirror_mode": {
    "name": "ipython",
    "version": 3
   },
   "file_extension": ".py",
   "mimetype": "text/x-python",
   "name": "python",
   "nbconvert_exporter": "python",
   "pygments_lexer": "ipython3",
   "version": "3.8.5"
  },
  "toc": {
   "base_numbering": 1,
   "nav_menu": {},
   "number_sections": true,
   "sideBar": true,
   "skip_h1_title": false,
   "title_cell": "Table of Contents",
   "title_sidebar": "Contents",
   "toc_cell": false,
   "toc_position": {
    "height": "calc(100% - 180px)",
    "left": "10px",
    "top": "150px",
    "width": "270.295px"
   },
   "toc_section_display": true,
   "toc_window_display": true
  }
 },
 "nbformat": 4,
 "nbformat_minor": 4
}
