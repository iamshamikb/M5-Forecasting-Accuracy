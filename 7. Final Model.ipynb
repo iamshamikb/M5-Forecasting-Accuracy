{
 "cells": [
  {
   "cell_type": "code",
   "execution_count": null,
   "metadata": {},
   "outputs": [],
   "source": [
    "'''\n",
    "This notebook contains the best strategy we found - ML Strategy 7.5.\n",
    "The scores are better than other strategies in private and public both.\n",
    "The hyperparameters were found on FOODS_1 dept and same were used on all dept, all years.\n",
    "This IPYNB uses myfeatures.py file for functions required for feature engineering.\n",
    "'''"
   ]
  },
  {
   "cell_type": "code",
   "execution_count": null,
   "metadata": {},
   "outputs": [],
   "source": [
    "'''\n",
    "Performance reached for 7.5 :\n",
    "'''"
   ]
  },
  {
   "attachments": {
    "7.5%20Trial%202.png": {
     "image/png": "[encoded data removed]"
    }
   },
   "cell_type": "markdown",
   "metadata": {},
   "source": [
    "![7.5%20Trial%202.png](attachment:7.5%20Trial%202.png)"
   ]
  },
  {
   "cell_type": "markdown",
   "metadata": {},
   "source": [
    "### Installations"
   ]
  },
  {
   "cell_type": "code",
   "execution_count": null,
   "metadata": {
    "id": "aI0Ucqk1TIui"
   },
   "outputs": [],
   "source": [
    "'''\n",
    "These installations will be required to run the code.\n",
    "'''\n",
    "# !unzip m5-forecasting-accuracy.zip\n",
    "\n",
    "# !apt-get update\n",
    "# !apt-get install wget\n",
    "\n",
    "# ! pip install pandas\n",
    "# ! pip install calender\n",
    "# ! pip install numpy\n",
    "# ! pip install datetime\n",
    "# ! pip install matplotlib\n",
    "# ! pip install collections\n",
    "# ! pip install random\n",
    "# ! pip install tqdm\n",
    "# ! pip install sklearn\n",
    "# ! pip install lightgbm"
   ]
  },
  {
   "cell_type": "markdown",
   "metadata": {},
   "source": [
    "### Imports"
   ]
  },
  {
   "cell_type": "code",
   "execution_count": null,
   "metadata": {},
   "outputs": [],
   "source": [
    "from IPython.display import clear_output \n",
    "import pandas as pd\n",
    "import calendar\n",
    "from datetime import datetime\n",
    "import numpy as np\n",
    "import matplotlib.pyplot as plt\n",
    "from collections import OrderedDict\n",
    "import random\n",
    "from tqdm import tqdm\n",
    "from sklearn.model_selection import train_test_split\n",
    "from sklearn.preprocessing import LabelEncoder\n",
    "from IPython.display import clear_output as cclear\n",
    "from sklearn.metrics import mean_squared_error as mse\n",
    "from lightgbm import LGBMRegressor\n",
    "from sklearn.model_selection import RandomizedSearchCV, GridSearchCV\n",
    "from sklearn.metrics import make_scorer\n",
    "import lightgbm as lgb\n",
    "from math import sqrt\n",
    "from itertools import zip_longest\n",
    "from scipy.stats import randint as sp_randint\n",
    "from scipy.stats import uniform as sp_randFloat\n",
    "import joblib\n",
    "import xgboost as xgb"
   ]
  },
  {
   "cell_type": "code",
   "execution_count": null,
   "metadata": {},
   "outputs": [],
   "source": [
    "'''\n",
    "Import myfeature.py\n",
    "'''\n",
    "import myfeature"
   ]
  },
  {
   "cell_type": "markdown",
   "metadata": {},
   "source": [
    "### Fetching the Data"
   ]
  },
  {
   "cell_type": "code",
   "execution_count": null,
   "metadata": {},
   "outputs": [],
   "source": [
    "'''\n",
    "Get the m5-forecasting-accuracy.zip from data section here at Kaggle. A Kaggle account is required-\n",
    "https://www.kaggle.com/c/m5-forecasting-accuracy/data.\n",
    "\n",
    "It is suggested to use cliget extension on Firefox Browser to get the files. \n",
    "1. Just add the extension and click on 'Download All' button on Kaggle page's Data section.\n",
    "2. Now as the download begins you may pause it immediately as downloading is not required.\n",
    "3. Now click on the extension icon and select 'm5-forecasting-accuracy.zip' and you will be shown a link.\n",
    "4. Paste that link here in any cell with an exclamation mark prefixed to it and execute the cell to download the data.\n",
    "5. Unzip using '!unzip m5-forecasting-accuracy.zip' command.\n",
    "6. Done.\n",
    "'''"
   ]
  },
  {
   "cell_type": "markdown",
   "metadata": {},
   "source": [
    "### Loading CSVs"
   ]
  },
  {
   "cell_type": "code",
   "execution_count": null,
   "metadata": {
    "id": "CD1ZprJU8lLL"
   },
   "outputs": [],
   "source": [
    "'''\n",
    "We need all CSVs except sample_submission.csv to perform the feature engineering.\n",
    "'''\n",
    "\n",
    "def get_csv(X):\n",
    "    return pd.read_csv(X)\n",
    "\n",
    "calender, sales_train_ev, sales_train_val, sell_prices =  get_csv('calendar.csv'), \\\n",
    "                                                          get_csv('sales_train_evaluation.csv'), \\\n",
    "                                                          get_csv('sales_train_validation.csv'), \\\n",
    "                                                          get_csv('sell_prices.csv')"
   ]
  },
  {
   "cell_type": "markdown",
   "metadata": {},
   "source": [
    "### Creating some features"
   ]
  },
  {
   "cell_type": "code",
   "execution_count": null,
   "metadata": {},
   "outputs": [],
   "source": [
    "non_numeric_col_list = ['id','item_id','dept_id','cat_id','store_id','state_id','d', 'date']\n",
    "store_dict = {'CA_1':0, 'CA_2':0, 'CA_3':0, 'CA_4':0, 'WI_1':0, 'WI_2':0, 'WI_3':0, 'TX_1':0, 'TX_2':0, 'TX_3':0}"
   ]
  },
  {
   "cell_type": "code",
   "execution_count": null,
   "metadata": {},
   "outputs": [],
   "source": [
    "'''\n",
    "We are creating a dict for days with at least one event.\n",
    "'''\n",
    "\n",
    "days_with_event = []\n",
    "for i in range(len(calender)):\n",
    "    days_with_event.append(myfeature.event1_check(i)) or (myfeature.event2_check(i))\n",
    "    \n",
    "l = [int(i) for i in days_with_event]\n",
    "event_dict = dict(zip(calender.d, l))"
   ]
  },
  {
   "cell_type": "code",
   "execution_count": null,
   "metadata": {},
   "outputs": [],
   "source": [
    "\n",
    "week_no_d_dict = dict(zip(calender.wm_yr_wk, calender.d))\n",
    "sell_prices['d'] = sell_prices['wm_yr_wk'].map(week_no_d_dict)\n",
    "sell_prices['item_d_col'] = sell_prices['item_id'] + sell_prices['d']\n",
    "sale_price_dict = dict(zip(sell_prices['item_d_col'], sell_prices['sell_price']))\n",
    "\n",
    "sell_prices = sell_prices.drop('d', 1)\n",
    "sell_prices = sell_prices.drop('item_d_col', 1)"
   ]
  },
  {
   "cell_type": "markdown",
   "metadata": {},
   "source": [
    "### Hyperparameter Tuning Strategy - 4"
   ]
  },
  {
   "cell_type": "code",
   "execution_count": null,
   "metadata": {},
   "outputs": [],
   "source": [
    "# Tuning for one dept and all years"
   ]
  },
  {
   "cell_type": "code",
   "execution_count": null,
   "metadata": {},
   "outputs": [],
   "source": [
    "%%time\n",
    "\n",
    "'''\n",
    "For evaluation csv, we add columns from 1942 to 1970 so that we can predict. We will need these columns to transform\n",
    "the data into long form.\n",
    "Then we use the feature_engineer function to add the features and make the transformation.\n",
    "'''\n",
    "\n",
    "df = sales_train_ev.copy()\n",
    "empty_list = [0]*30490\n",
    "for i in range(1942, 1970):\n",
    "    df['d_'+str(i)] = empty_list\n",
    "df = myfeature.feature_engineer(df)"
   ]
  },
  {
   "cell_type": "code",
   "execution_count": null,
   "metadata": {},
   "outputs": [],
   "source": [
    "%%time\n",
    "\n",
    "'''\n",
    "The Generic code for Hyperparameter Tuning requires 'dept_name_to_tune_on' variable to have the dept name to be specified.\n",
    "Among departments FOODS_1 has less no of rows so tuning will take lesser time, however any dept can be used. \n",
    "'''\n",
    "\n",
    "new_df = df\n",
    "new_df = new_df[new_df.dept_id == dept_name_to_tune_on]\n",
    "print('Total rows: ', len(new_df))\n",
    "\n",
    "rows_per_day = len(new_df[new_df.d == 'd_1'])\n",
    "print('Rows per day: ', rows_per_day)\n",
    "\n",
    "new_df['day_of_month'] = new_df['day_of_month'].fillna(0)\n",
    "new_df = new_df.astype({'day_of_month': 'int32'})               # Making day_of_month column as int\n",
    "new_df['date'] = new_df['date'].astype(str)\n",
    "\n",
    "y = new_df.unit_sale                                            # getting the label\n",
    "new_df = new_df.drop('unit_sale', axis=1)\n",
    "\n",
    "print('Encoding categorical features...')\n",
    "le, new_df = myfeature.encode_cat_cols(new_df)                  # Encoding Categorical Columns\n",
    "\n",
    "X = new_df"
   ]
  },
  {
   "cell_type": "code",
   "execution_count": null,
   "metadata": {},
   "outputs": [],
   "source": [
    "'''\n",
    "We use rows_per_day to decide the location of that dept in X data. Every dept has variable no of rows to it's name.\n",
    "'''\n",
    "\n",
    "ev_train_start, ev_train_end, val_train_start, val_train_end = rows_per_day*(0), rows_per_day*1941,\\\n",
    "                                                               rows_per_day*(0), rows_per_day*1913\n",
    "\n",
    "print('Getting X_train, y_train...')\n",
    "                                                                \n",
    "X_train, y_train = X.iloc[ev_train_start:ev_train_end], y[ev_train_start:ev_train_end] \n",
    "X_test, y_test = X.iloc[ev_train_end:], y[ev_train_end:]"
   ]
  },
  {
   "cell_type": "code",
   "execution_count": null,
   "metadata": {},
   "outputs": [],
   "source": [
    "%%time\n",
    "'''\n",
    "This is the generic tuning code used for tuning on all strategies tried.\n",
    "'''\n",
    "param_list_to_try = {\n",
    "            'subsample' : sp_randFloat(, ),\n",
    "            'learning_rate' : sp_randFloat(, ),\n",
    "            'num_leaves' : sp_randint(, ),\n",
    "            'min_data_in_leaf' : sp_randint(, ),\n",
    "            'reg_lambda' : sp_randFloat(, ),\n",
    "            'feature_fraction' :sp_randFloat(, ),\n",
    "            'max_bin' : sp_randint(, ),\n",
    "            'n_estimators' : sp_randint(, )}\n",
    "\n",
    "no_of_hyperparameters = \n",
    "clf = LGBMRegressor(boosting_type = 'gbdt', \n",
    "                    objective = 'tweedie', \n",
    "                    tweedie_variance_power = ,\n",
    "                    metric = 'rmse',\n",
    "                    subsample_freq = ,\n",
    "                    boost_from_average = False)\n",
    "\n",
    "random_search = RandomizedSearchCV( estimator = clf, \n",
    "                                    param_distributions = param_list_to_try,\n",
    "                                    n_iter = no_of_hyperparameters,\n",
    "                                    scoring = make_scorer(mse, greater_is_better = False), \n",
    "                                    cv = , \n",
    "                                    refit = True, \n",
    "                                    random_state = 314, \n",
    "                                    verbose = True)\n",
    "\n",
    "random_search.fit(X_train, y_train)\n",
    "print('Best score reached: {} with params: {} '.format(random_search.best_score_, random_search.best_params_))"
   ]
  },
  {
   "cell_type": "code",
   "execution_count": null,
   "metadata": {},
   "outputs": [],
   "source": [
    "'''\n",
    "Best score reached: -6.837664909865839 with params: {'feature_fraction': 0.9542804698211322, \n",
    "'learning_rate': 0.04354167654567688, 'max_bin': 112, 'min_data_in_leaf': 3942, 'n_estimators': 1207, \n",
    "'num_leaves': 2086, 'reg_lambda': 0.9597502600785817, 'subsample': 0.37442983123111895} \n",
    "'''"
   ]
  },
  {
   "cell_type": "markdown",
   "metadata": {},
   "source": [
    "### Training Functions"
   ]
  },
  {
   "cell_type": "code",
   "execution_count": null,
   "metadata": {},
   "outputs": [],
   "source": [
    "'''\n",
    "This function takes input one dept worth of data, it can be from evaluation or validation csv, the function takes care\n",
    "of that. It fits the model and sends out the labelencoders and predictions. Another function uses the the encoders and \n",
    "predictions to roll out final files.\n",
    "'''\n",
    "\n",
    "def startegy7dot5T2(new_df, dept):\n",
    "    print('Using strategy ', strategy)\n",
    "\n",
    "    evaluation, validation = new_df.id.iloc[0].find('evaluation'), new_df.id.iloc[0].find('validation')\n",
    "    \n",
    "    new_df = new_df[new_df.dept_id == dept]\n",
    "    print('Total rows: ', len(new_df))\n",
    "    \n",
    "    rows_per_day = len(new_df[new_df.d == 'd_1'])\n",
    "    print('Rows per day: ', rows_per_day)\n",
    "    \n",
    "    new_df['day_of_month'] = new_df['day_of_month'].fillna(0)\n",
    "    new_df = new_df.astype({'day_of_month': 'int32'})             # Making day_of_month column as int\n",
    "    new_df['date'] = new_df['date'].astype(str)\n",
    "\n",
    "    y = new_df.unit_sale                                          # getting the label\n",
    "    new_df = new_df.drop('unit_sale', axis=1)\n",
    "\n",
    "    print('Encoding categorical features...')\n",
    "    le, new_df = myfeature.encode_cat_cols(new_df)                # Encoding Categorical Columns\n",
    "\n",
    "    X = new_df\n",
    "    \n",
    "    ev_train_start, ev_train_end, val_train_start, val_train_end = rows_per_day*(0), rows_per_day*1941,\\\n",
    "                                                                   rows_per_day*(0), rows_per_day*1913\n",
    "    \n",
    "    model = LGBMRegressor(boosting_type = 'gbdt',                 # 7.5 Trial 2\n",
    "                       objective = 'tweedie',\n",
    "                       tweedie_variance_power = 1.1,\n",
    "                       metric = 'rmse',\n",
    "                       n_estimators = 1207,\n",
    "                       subsample_freq = 1,\n",
    "                       learning_rate = 0.04,\n",
    "                       num_leaves = 2086,\n",
    "                       reg_lambda = 0.959,\n",
    "                       min_data_in_leaf = 3942,\n",
    "                       subsample = 0.37,\n",
    "                       feature_fraction = 0.95,\n",
    "                       max_bin = 112,\n",
    "                       boost_from_average = False)\n",
    " \n",
    "    if evaluation != -1:                                        # if evaluation data\n",
    "        print('Getting X_train, y_train...')\n",
    "                                                                \n",
    "        X_train, y_train = X.iloc[ev_train_start:ev_train_end], y[ev_train_start:ev_train_end] \n",
    "        X_test, y_test = X.iloc[ev_train_end:], y[ev_train_end:] \n",
    "        \n",
    "    if validation != -1:                                        # if validation data\n",
    "        print('Getting X_train, y_train...')\n",
    "        X_train, y_train = X.iloc[val_train_start:val_train_end], y[val_train_start:val_train_end]\n",
    "        X_test, y_test = X.iloc[val_train_end:], y[val_train_end:]\n",
    "    \n",
    "    print('X_train len', len(X_train), 'y_train len', len(y_train), 'X_test len', len(X_test))\n",
    "    \n",
    "    print('Fitting model...')\n",
    "    model.fit(X_train, y_train)\n",
    "    print('Fitting done.')\n",
    "    \n",
    "    print('Making predictions...')\n",
    "    train_out = model.predict(X_test)\n",
    "\n",
    "    print('Done.')\n",
    "    return le, X_test, train_out"
   ]
  },
  {
   "cell_type": "code",
   "execution_count": null,
   "metadata": {},
   "outputs": [],
   "source": [
    "'''\n",
    "This function takes the outputs of individual departments and binds them todgether, retransforms the data back into \n",
    "daywise horizontal form, renames the columns as required by kaggle for submission and returns the dataframe that we save as\n",
    "csv.\n",
    "'''\n",
    "\n",
    "def get_output_of_eval_or_val(df):\n",
    "    main_out_df = pd.DataFrame()\n",
    "    \n",
    "    list_dept = list(set(df.dept_id))\n",
    "    for i in list_dept:\n",
    "        print('Sequence of depts processing: ', list_dept)\n",
    "        print('Working on Dept: ', i)\n",
    "        le, X_test, train_out = startegy7dot5T2(df, i)\n",
    "        print('Reversing the long form...')\n",
    "        out_df = myfeature.reverse_long_form(le, X_test, train_out)\n",
    "        main_out_df = pd.concat([main_out_df, out_df], ignore_index=False)\n",
    "        cclear()\n",
    "\n",
    "    l = []                                                         # In this part we rename the columns to F_1, F_2 ....\n",
    "    for i in range(1,29):\n",
    "        l.append('F'+str(i))\n",
    "    l = ['id']+l\n",
    "\n",
    "    main_out_df.columns = l\n",
    "    \n",
    "    return main_out_df"
   ]
  },
  {
   "cell_type": "markdown",
   "metadata": {},
   "source": [
    "### Prediction for Evaluation CSV"
   ]
  },
  {
   "cell_type": "code",
   "execution_count": null,
   "metadata": {},
   "outputs": [],
   "source": [
    "strategy = 7.5                                            # Setting this variable helps in distinguishing during running"
   ]
  },
  {
   "cell_type": "code",
   "execution_count": null,
   "metadata": {},
   "outputs": [],
   "source": [
    "'''\n",
    "The next two cells get the output for evaluation.csv data.\n",
    "'''"
   ]
  },
  {
   "cell_type": "code",
   "execution_count": null,
   "metadata": {},
   "outputs": [],
   "source": [
    "%%time\n",
    "'''\n",
    "For evaluation csv, we add columns from 1942 to 1970 so that we can predict. We will need these columns to transform\n",
    "the data into long form.\n",
    "Then we use the feature_engineer function to add the features and make the transformation.\n",
    "'''\n",
    "\n",
    "df = sales_train_ev.copy()\n",
    "empty_list = [0]*30490\n",
    "for i in range(1942, 1970):\n",
    "    df['d_'+str(i)] = empty_list\n",
    "df = myfeature.feature_engineer(df)"
   ]
  },
  {
   "cell_type": "code",
   "execution_count": null,
   "metadata": {},
   "outputs": [],
   "source": [
    "%%time\n",
    "main_out_df_ev = get_output_of_eval_or_val(df)\n",
    "main_out_df_ev.to_csv('main_out_ev.csv')"
   ]
  },
  {
   "cell_type": "markdown",
   "metadata": {},
   "source": [
    "### Prediction for Evaluation CSV"
   ]
  },
  {
   "cell_type": "code",
   "execution_count": null,
   "metadata": {},
   "outputs": [],
   "source": [
    "'''\n",
    "The next two cells get the output for validation.csv data.\n",
    "'''"
   ]
  },
  {
   "cell_type": "code",
   "execution_count": null,
   "metadata": {},
   "outputs": [],
   "source": [
    "%%time\n",
    "'''\n",
    "For validation csv, we add columns from 1914 to 1942 so that we can predict. We will need these columns to transform\n",
    "the data into long form.\n",
    "Then we use the feature_engineer function to add the features and make the transformation.\n",
    "'''\n",
    "\n",
    "df = sales_train_val.copy()\n",
    "empty_list = [0]*30490\n",
    "for i in range(1914, 1942):\n",
    "    df['d_'+str(i)] = empty_list\n",
    "df = myfeature.feature_engineer(df)"
   ]
  },
  {
   "cell_type": "code",
   "execution_count": null,
   "metadata": {},
   "outputs": [],
   "source": [
    "%%time\n",
    "main_out_df_val = get_output_of_eval_or_val(df)\n",
    "main_out_df_val.to_csv('main_out_val.csv')"
   ]
  },
  {
   "cell_type": "markdown",
   "metadata": {},
   "source": [
    "### Reordering and Saving the final output"
   ]
  },
  {
   "cell_type": "code",
   "execution_count": null,
   "metadata": {},
   "outputs": [],
   "source": [
    "'''\n",
    "This part makes sure we have columns in right order, the first column should be item ids.\n",
    "'''\n",
    "myfeature.reorder_data(sales_train_val, 'main_out_val')\n",
    "myfeature.reorder_data(sales_train_ev, 'main_out_ev')"
   ]
  },
  {
   "cell_type": "code",
   "execution_count": null,
   "metadata": {},
   "outputs": [],
   "source": [
    "'''\n",
    "Making sure there is no unnamed column as that can create problem in submission.\n",
    "'''\n",
    "main_out_ev = pd.read_csv('main_out_ev.csv')\n",
    "main_out_ev = main_out_ev.drop(main_out_ev.columns[0], axis=1)\n",
    "\n",
    "main_out_val = pd.read_csv('main_out_val.csv')\n",
    "main_out_val = main_out_val.drop(main_out_val.columns[0], axis=1)\n",
    "\n",
    "sub_df = pd.concat([main_out_ev, main_out_val], ignore_index=True)\n",
    "sub_df = sub_df.round(2)"
   ]
  },
  {
   "cell_type": "code",
   "execution_count": null,
   "metadata": {},
   "outputs": [],
   "source": [
    "sub_df.to_csv('submissible_ML_.csv', index=False)"
   ]
  },
  {
   "cell_type": "code",
   "execution_count": null,
   "metadata": {},
   "outputs": [],
   "source": [
    "pd.read_csv('submissible_ML_.csv')"
   ]
  }
 ],
 "metadata": {
  "kernelspec": {
   "display_name": "Python 3",
   "language": "python",
   "name": "python3"
  },
  "language_info": {
   "codemirror_mode": {
    "name": "ipython",
    "version": 3
   },
   "file_extension": ".py",
   "mimetype": "text/x-python",
   "name": "python",
   "nbconvert_exporter": "python",
   "pygments_lexer": "ipython3",
   "version": "3.8.5"
  },
  "toc": {
   "base_numbering": 1,
   "nav_menu": {},
   "number_sections": true,
   "sideBar": true,
   "skip_h1_title": false,
   "title_cell": "Table of Contents",
   "title_sidebar": "Contents",
   "toc_cell": false,
   "toc_position": {},
   "toc_section_display": true,
   "toc_window_display": true
  }
 },
 "nbformat": 4,
 "nbformat_minor": 4
}
