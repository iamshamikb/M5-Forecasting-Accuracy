{
 "cells": [
  {
   "cell_type": "markdown",
   "metadata": {},
   "source": [
    "<h1> Deep Learning Model 3"
   ]
  },
  {
   "cell_type": "markdown",
   "metadata": {},
   "source": [
    "First score is Private and second score is Public score"
   ]
  },
  {
   "attachments": {
    "Screenshot%20-%2014-11-2020%20,%2012_08_22.png": {
     "image/png": "[encoded data removed]"
    }
   },
   "cell_type": "markdown",
   "metadata": {},
   "source": [
    "![Screenshot%20-%2014-11-2020%20,%2012_08_22.png](attachment:Screenshot%20-%2014-11-2020%20,%2012_08_22.png)"
   ]
  },
  {
   "cell_type": "markdown",
   "metadata": {},
   "source": [
    "#### Imports"
   ]
  },
  {
   "cell_type": "code",
   "execution_count": null,
   "metadata": {},
   "outputs": [],
   "source": [
    "import pandas as pd\n",
    "from matplotlib import pyplot as plt\n",
    "import pandas as pd\n",
    "from tensorflow.keras.models import Sequential\n",
    "from tensorflow.keras.layers import LSTM\n",
    "from tensorflow.keras.layers import Dense\n",
    "import numpy as np\n",
    "import tensorflow as tf\n",
    "from matplotlib import pyplot as plt\n",
    "from tensorflow.keras import activations\n",
    "from IPython.display import clear_output as cclear\n",
    "\n",
    "from tensorflow.keras import backend as K \n",
    "from tensorflow.keras.callbacks import ModelCheckpoint"
   ]
  },
  {
   "cell_type": "markdown",
   "metadata": {},
   "source": [
    "#### Functions"
   ]
  },
  {
   "cell_type": "code",
   "execution_count": null,
   "metadata": {},
   "outputs": [],
   "source": [
    "# Call back to terminate at certain train loss"
   ]
  },
  {
   "cell_type": "code",
   "execution_count": null,
   "metadata": {},
   "outputs": [],
   "source": [
    "class terminate_on_acc(tf.keras.callbacks.Callback):    \n",
    "    def on_epoch_end(self, epoch, logs={}):\n",
    "        loss = logs['loss']\n",
    "        if loss < target_loss:\n",
    "            self.model.stop_training = True\n",
    "terminate_on_acc = terminate_on_acc()\n",
    "\n",
    "n_steps_in, n_steps_out = 1885, 28              # input is 1885 days, output 28 days\n",
    "n_features = 1"
   ]
  },
  {
   "cell_type": "code",
   "execution_count": 2,
   "metadata": {},
   "outputs": [],
   "source": [
    "# Training function.\n",
    "\n",
    "# In this training strategy we dont go by store_by_store, we decided to split products into departments instead as \n",
    "# same products may behave same across stores, this can be helpful for LSTM models as they depend on patterns.\n",
    "\n",
    "# However, entire data was used to do the training both for eval and val csv. This can be changed to try a different\n",
    "# approach where we use only 1 or 2 yr data as LSTMs are not good at remembering long sequences.\n",
    "\n",
    "# Our data split is like this: \n",
    "# our model is created to take 1885 days input and 28 days output\n",
    "# for eval csv we use 28 to 1913 as xtrain and 1913 to 1941 as ytain, then we predict on 56 to 1941\n",
    "# for val csv we use 0 to 1885 as xtrain and 1885 to 1913 as ytain, then we predict on 28 to 1913\n",
    "\n",
    "# so both the times we are predicting 28 days and it is 1941 to 1969 for eval and 1913 to 1941 for val.\n",
    "\n",
    "# df - can be sales_train_ev or sales_train_validation\n",
    "# dept_id - can be any of the 7 dept products belong to as ['HOBBIES_1', 'HOBBIES_2', 'FOODS_1','FOODS_2','FOODS_3',\n",
    "#                                                          'HOUSEHOLD_1','HOUSEHOLD_2', ]\n",
    "# epoch_no - we keep changing it because different dept requires different model, different target_loss and different epoch no\n",
    "# model - we might use different models for different departments"
   ]
  },
  {
   "cell_type": "code",
   "execution_count": 1,
   "metadata": {},
   "outputs": [],
   "source": [
    "def train_NN(df, dept_id, epoch_no, model):    \n",
    "    \n",
    "    dept_df = df[df.dept_id == dept_id]\n",
    "    print('Working on Dept ', dept_id, 'Total rows to process ', len(dept_df))\n",
    "    \n",
    "    id_col = list(dept_df['id'])                                     # we preserve the id_col to recreate the output later\n",
    "    dept_df = dept_df.drop(['id','item_id','dept_id','cat_id','store_id','state_id'], 1)\n",
    "\n",
    "    \n",
    "    if df.id.iloc[0].find('evaluation') != -1:                       # if evaluation data\n",
    "        xtr_from, xtr_to, ytr_to = 28, 1913, 1941                    # train from 28 to 1913 predict 1913 to 1941\n",
    "        xte_from, xte_to = 56, 1941                                  # validate from 28 to 1941 predict 1941 to 1969\n",
    "        checkpoint = ModelCheckpoint(filepath='model_'+str(dept_id)+'_ev.h5',\\ \n",
    "                                     monitor='loss', verbose=1, save_best_only=True, mode='auto')\n",
    "    if df.id.iloc[0].find('validation') != -1:                       # if validation data\n",
    "        xtr_from, xtr_to, ytr_to = 0, 1913-28, 1913                  # train from 0 to 1913-28 predict 1913-28 to 1913\n",
    "        xte_from, xte_to = 28, 1913                                  # validate from 28 to 1913 predict 1913 to 1941\n",
    "        checkpoint = ModelCheckpoint(filepath='model_'+str(dept_id)+'_val.h5',\\ \n",
    "                                     monitor='loss', verbose=1, save_best_only=True, mode='auto')\n",
    "    \n",
    "    \n",
    "    X_train, y_train = dept_df.iloc[:, xtr_from:xtr_to], dept_df.iloc[:, xtr_to:ytr_to]\n",
    "    X_test = dept_df.iloc[:, xte_from:xte_to]    \n",
    "    \n",
    "    X_train, y_train = tf.convert_to_tensor(X_train), tf.convert_to_tensor(y_train)\n",
    "    X_test = tf.convert_to_tensor(X_test)\n",
    "    \n",
    "    X_train = tf.reshape(X_train, shape = (X_train.shape[0], X_train.shape[1], n_features))\n",
    "    y_train = tf.reshape(y_train, shape = (y_train.shape[0], y_train.shape[1], n_features))\n",
    "    X_test = tf.reshape(X_train, shape = (X_train.shape[0], X_train.shape[1], n_features))\n",
    "    \n",
    "    \n",
    "    \n",
    "    model.fit(X_train, y_train, epochs=epoch_no, verbose=1, callbacks = [terminate_on_acc, checkpoint])\n",
    "    \n",
    "    print('Predicting...')\n",
    "    y_hat = model.predict(X_test)\n",
    "    \n",
    "    out_df = pd.DataFrame(y_hat)\n",
    "    l = []                                              # In this part we rename the columns to F_1, F_2 ....\n",
    "    for i in range(1,29):\n",
    "        l.append('F'+str(i))\n",
    "    out_df.columns = l\n",
    "    out_df['id'] = id_col\n",
    "    \n",
    "    cols = list(out_df)                                           \n",
    "    cols = [cols[-1]] + cols[:-1]\n",
    "    out_df = out_df[cols]\n",
    "    \n",
    "    print('Writing output...')\n",
    "    print('Done.')\n",
    "    return out_df"
   ]
  },
  {
   "cell_type": "markdown",
   "metadata": {},
   "source": [
    "#### Predicting for Evaluation Data"
   ]
  },
  {
   "cell_type": "code",
   "execution_count": 7,
   "metadata": {},
   "outputs": [
    {
     "data": {
      "text/plain": [
       "['HOUSEHOLD_1',\n",
       " 'FOODS_3',\n",
       " 'FOODS_2',\n",
       " 'HOUSEHOLD_2',\n",
       " 'HOBBIES_2',\n",
       " 'FOODS_1',\n",
       " 'HOBBIES_1']"
      ]
     },
     "execution_count": 7,
     "metadata": {},
     "output_type": "execute_result"
    }
   ],
   "source": [
    "df = pd.read_csv('sales_train_evaluation.csv')\n",
    "dept_list = list(set(df.dept_id))\n",
    "dept_list"
   ]
  },
  {
   "cell_type": "code",
   "execution_count": 4,
   "metadata": {},
   "outputs": [],
   "source": [
    "target_loss = 4    \n",
    "\n",
    "model = Sequential()        \n",
    "model.add(LSTM(5, activation='relu', return_sequences=True, input_shape=(n_steps_in, n_features)))\n",
    "model.add(LSTM(2, activation='relu'))\n",
    "model.add(Dense(50))\n",
    "model.add(Dense(10))\n",
    "model.add(Dense(n_steps_out))\n",
    "model.compile(optimizer='adam', loss='mse')\n",
    "\n",
    "dept_name_to_train = 'HOBBIES_1'\n",
    "\n",
    "out_df = train_NN(df, dept_name_to_train, 10, model)\n",
    "out_df.to_csv(str(dept_name_to_train)+'_ev.csv', index=False)"
   ]
  },
  {
   "cell_type": "code",
   "execution_count": 4,
   "metadata": {
    "jupyter": {
     "outputs_hidden": true
    }
   },
   "outputs": [
    {
     "name": "stdout",
     "output_type": "stream",
     "text": [
      "Working on Dept  HOBBIES_2 Total rows to process  1490\n",
      "Epoch 1/10\n",
      "47/47 [==============================] - ETA: 0s - loss: 0.8342\n",
      "Epoch 00001: loss improved from inf to 0.83422, saving model to model_HOBBIES_2.h5\n",
      "47/47 [==============================] - 54s 1s/step - loss: 0.8342\n",
      "Predicting...\n",
      "Writing output...\n",
      "Done.\n"
     ]
    }
   ],
   "source": [
    "target_loss = 4    \n",
    "\n",
    "model = Sequential()        \n",
    "model.add(LSTM(5, activation='relu', return_sequences=True, input_shape=(n_steps_in, n_features)))\n",
    "model.add(LSTM(2, activation='relu'))\n",
    "model.add(Dense(50))\n",
    "model.add(Dense(10))\n",
    "model.add(Dense(n_steps_out))\n",
    "model.compile(optimizer='adam', loss='mse')\n",
    "\n",
    "dept_name_to_train = 'HOBBIES_2'\n",
    "\n",
    "out_df = train_NN(df, dept_name_to_train, 10, model)\n",
    "out_df.to_csv(str(dept_name_to_train)+'_ev.csv', index=False)"
   ]
  },
  {
   "cell_type": "code",
   "execution_count": 7,
   "metadata": {
    "jupyter": {
     "outputs_hidden": true
    }
   },
   "outputs": [
    {
     "name": "stdout",
     "output_type": "stream",
     "text": [
      "Working on Dept  HOUSEHOLD_1 Total rows to process  5320\n",
      "Epoch 1/25\n",
      "167/167 [==============================] - ETA: 0s - loss: 8.0297\n",
      "Epoch 00001: loss improved from inf to 8.02974, saving model to model_HOUSEHOLD_1.h5\n",
      "167/167 [==============================] - 193s 1s/step - loss: 8.0297\n",
      "Epoch 2/25\n",
      "167/167 [==============================] - ETA: 0s - loss: 7.2415\n",
      "Epoch 00002: loss improved from 8.02974 to 7.24148, saving model to model_HOUSEHOLD_1.h5\n",
      "167/167 [==============================] - 191s 1s/step - loss: 7.2415\n",
      "Predicting...\n",
      "Writing output...\n",
      "Done.\n"
     ]
    }
   ],
   "source": [
    "target_loss = 7.2421         \n",
    "\n",
    "model = Sequential()        \n",
    "model.add(LSTM(5, activation='relu', return_sequences=True, input_shape=(n_steps_in, n_features)))\n",
    "model.add(LSTM(2, activation='relu'))\n",
    "model.add(Dense(50))\n",
    "model.add(Dense(10))\n",
    "model.add(Dense(n_steps_out))\n",
    "model.compile(optimizer='adam', loss='mse')\n",
    "\n",
    "dept_name_to_train = 'HOUSEHOLD_1'\n",
    "\n",
    "out_df = train_NN(df, dept_name_to_train, 25, model)\n",
    "out_df.to_csv(str(dept_name_to_train)+'_ev.csv', index=False)"
   ]
  },
  {
   "cell_type": "code",
   "execution_count": 9,
   "metadata": {
    "jupyter": {
     "outputs_hidden": true
    }
   },
   "outputs": [
    {
     "name": "stdout",
     "output_type": "stream",
     "text": [
      "Working on Dept  HOUSEHOLD_2 Total rows to process  5150\n",
      "Epoch 1/10\n",
      "161/161 [==============================] - ETA: 0s - loss: 0.9070\n",
      "Epoch 00001: loss improved from inf to 0.90705, saving model to model_HOUSEHOLD_2.h5\n",
      "161/161 [==============================] - 186s 1s/step - loss: 0.9070\n",
      "Predicting...\n",
      "Writing output...\n",
      "Done.\n"
     ]
    }
   ],
   "source": [
    "model = Sequential()        \n",
    "model.add(LSTM(5, activation='relu', return_sequences=True, input_shape=(n_steps_in, n_features)))\n",
    "model.add(LSTM(2, activation='relu'))\n",
    "model.add(Dense(50))\n",
    "model.add(Dense(10))\n",
    "model.add(Dense(n_steps_out))\n",
    "model.compile(optimizer='adam', loss='mse')\n",
    "\n",
    "target_loss = 4      \n",
    "dept_name_to_train = 'HOUSEHOLD_2'\n",
    "\n",
    "out_df = train_NN(df, dept_name_to_train, 10, model)\n",
    "out_df.to_csv(str(dept_name_to_train)+'_ev.csv', index=False)"
   ]
  },
  {
   "cell_type": "code",
   "execution_count": 12,
   "metadata": {
    "jupyter": {
     "outputs_hidden": true
    }
   },
   "outputs": [
    {
     "name": "stdout",
     "output_type": "stream",
     "text": [
      "Working on Dept  FOODS_1 Total rows to process  2160\n",
      "Epoch 1/10\n",
      "68/68 [==============================] - ETA: 0s - loss: 14.0377\n",
      "Epoch 00001: loss improved from inf to 14.03774, saving model to model_FOODS_1.h5\n",
      "68/68 [==============================] - 79s 1s/step - loss: 14.0377\n",
      "Epoch 2/10\n",
      "68/68 [==============================] - ETA: 0s - loss: 10.3746\n",
      "Epoch 00002: loss improved from 14.03774 to 10.37458, saving model to model_FOODS_1.h5\n",
      "68/68 [==============================] - 78s 1s/step - loss: 10.3746\n",
      "Epoch 3/10\n",
      "68/68 [==============================] - ETA: 0s - loss: 8.5670\n",
      "Epoch 00003: loss improved from 10.37458 to 8.56698, saving model to model_FOODS_1.h5\n",
      "68/68 [==============================] - 78s 1s/step - loss: 8.5670\n",
      "Epoch 4/10\n",
      "68/68 [==============================] - ETA: 0s - loss: 8.0746\n",
      "Epoch 00004: loss improved from 8.56698 to 8.07459, saving model to model_FOODS_1.h5\n",
      "68/68 [==============================] - 78s 1s/step - loss: 8.0746\n",
      "Epoch 5/10\n",
      "68/68 [==============================] - ETA: 0s - loss: 7.8027\n",
      "Epoch 00005: loss improved from 8.07459 to 7.80270, saving model to model_FOODS_1.h5\n",
      "68/68 [==============================] - 78s 1s/step - loss: 7.8027\n",
      "Epoch 6/10\n",
      "68/68 [==============================] - ETA: 0s - loss: 7.5008\n",
      "Epoch 00006: loss improved from 7.80270 to 7.50082, saving model to model_FOODS_1.h5\n",
      "68/68 [==============================] - 78s 1s/step - loss: 7.5008\n",
      "Epoch 7/10\n",
      "68/68 [==============================] - ETA: 0s - loss: 7.3376\n",
      "Epoch 00007: loss improved from 7.50082 to 7.33757, saving model to model_FOODS_1.h5\n",
      "68/68 [==============================] - 79s 1s/step - loss: 7.3376\n",
      "Epoch 8/10\n",
      "68/68 [==============================] - ETA: 0s - loss: 7.1768\n",
      "Epoch 00008: loss improved from 7.33757 to 7.17681, saving model to model_FOODS_1.h5\n",
      "68/68 [==============================] - 79s 1s/step - loss: 7.1768\n",
      "Epoch 9/10\n",
      "68/68 [==============================] - ETA: 0s - loss: 7.0420\n",
      "Epoch 00009: loss improved from 7.17681 to 7.04200, saving model to model_FOODS_1.h5\n",
      "68/68 [==============================] - 79s 1s/step - loss: 7.0420\n",
      "Epoch 10/10\n",
      "68/68 [==============================] - ETA: 0s - loss: 7.0133\n",
      "Epoch 00010: loss improved from 7.04200 to 7.01326, saving model to model_FOODS_1.h5\n",
      "68/68 [==============================] - 78s 1s/step - loss: 7.0133\n",
      "Predicting...\n",
      "Writing output...\n",
      "Done.\n"
     ]
    }
   ],
   "source": [
    "model = Sequential()        \n",
    "model.add(LSTM(5, activation='relu', return_sequences=True, input_shape=(n_steps_in, n_features)))\n",
    "model.add(LSTM(2, activation='relu'))\n",
    "model.add(Dense(50))\n",
    "model.add(Dense(10))\n",
    "model.add(Dense(n_steps_out))\n",
    "model.compile(optimizer='adam', loss='mse')\n",
    "\n",
    "target_val_loss = 7\n",
    "\n",
    "dept_name_to_train = 'FOODS_1'\n",
    "\n",
    "out_df = train_NN(df, dept_name_to_train, 10, model)\n",
    "out_df.to_csv(str(dept_name_to_train)+'_ev.csv', index=False)"
   ]
  },
  {
   "cell_type": "code",
   "execution_count": 6,
   "metadata": {
    "jupyter": {
     "outputs_hidden": true
    }
   },
   "outputs": [
    {
     "name": "stdout",
     "output_type": "stream",
     "text": [
      "Working on Dept  FOODS_2 Total rows to process  3980\n",
      "Epoch 1/5\n",
      "125/125 [==============================] - ETA: 0s - loss: 8.2226\n",
      "Epoch 00001: loss improved from inf to 8.22258, saving model to model_FOODS_2.h5\n",
      "125/125 [==============================] - 144s 1s/step - loss: 8.2226\n",
      "Epoch 2/5\n",
      "125/125 [==============================] - ETA: 0s - loss: 5.7017\n",
      "Epoch 00002: loss improved from 8.22258 to 5.70167, saving model to model_FOODS_2.h5\n",
      "125/125 [==============================] - 145s 1s/step - loss: 5.7017\n",
      "Epoch 3/5\n",
      "125/125 [==============================] - ETA: 0s - loss: 4.8907\n",
      "Epoch 00003: loss improved from 5.70167 to 4.89071, saving model to model_FOODS_2.h5\n",
      "125/125 [==============================] - 145s 1s/step - loss: 4.8907\n",
      "Predicting...\n",
      "Writing output...\n",
      "Done.\n"
     ]
    }
   ],
   "source": [
    "target_loss = 5\n",
    "\n",
    "model = Sequential()        \n",
    "model.add(LSTM(5, activation='relu', return_sequences=True, input_shape=(n_steps_in, n_features)))\n",
    "model.add(LSTM(2, activation='relu'))\n",
    "model.add(Dense(50))\n",
    "model.add(Dense(10))\n",
    "model.add(Dense(n_steps_out))\n",
    "model.compile(optimizer='adam', loss='mse')\n",
    "\n",
    "dept_name_to_train = 'FOODS_2'\n",
    "\n",
    "out_df = train_NN(df, dept_name_to_train, 5, model)\n",
    "out_df.to_csv(str(dept_name_to_train)+'_ev.csv', index=False)"
   ]
  },
  {
   "cell_type": "code",
   "execution_count": 10,
   "metadata": {
    "jupyter": {
     "outputs_hidden": true
    }
   },
   "outputs": [
    {
     "name": "stdout",
     "output_type": "stream",
     "text": [
      "Working on Dept  FOODS_3 Total rows to process  8230\n",
      "Epoch 1/50\n",
      "258/258 [==============================] - ETA: 0s - loss: 26.6128\n",
      "Epoch 00001: loss improved from inf to 26.61278, saving model to model_FOODS_3_ev.h5\n",
      "258/258 [==============================] - 129s 498ms/step - loss: 26.6128\n",
      "Epoch 2/50\n",
      "258/258 [==============================] - ETA: 0s - loss: 19.0260\n",
      "Epoch 00002: loss improved from 26.61278 to 19.02600, saving model to model_FOODS_3_ev.h5\n",
      "258/258 [==============================] - 123s 478ms/step - loss: 19.0260\n",
      "Epoch 3/50\n",
      "258/258 [==============================] - ETA: 0s - loss: 15.6178\n",
      "Epoch 00003: loss improved from 19.02600 to 15.61780, saving model to model_FOODS_3_ev.h5\n",
      "258/258 [==============================] - 123s 478ms/step - loss: 15.6178\n",
      "Epoch 4/50\n",
      "258/258 [==============================] - ETA: 0s - loss: 13.0556\n",
      "Epoch 00004: loss improved from 15.61780 to 13.05558, saving model to model_FOODS_3_ev.h5\n",
      "258/258 [==============================] - 123s 478ms/step - loss: 13.0556\n",
      "Epoch 5/50\n",
      "258/258 [==============================] - ETA: 0s - loss: 11.6937\n",
      "Epoch 00005: loss improved from 13.05558 to 11.69372, saving model to model_FOODS_3_ev.h5\n",
      "258/258 [==============================] - 123s 478ms/step - loss: 11.6937\n",
      "Epoch 6/50\n",
      "258/258 [==============================] - ETA: 0s - loss: 10.5027\n",
      "Epoch 00006: loss improved from 11.69372 to 10.50270, saving model to model_FOODS_3_ev.h5\n",
      "258/258 [==============================] - 123s 478ms/step - loss: 10.5027\n",
      "Epoch 7/50\n",
      "258/258 [==============================] - ETA: 0s - loss: 10.4143\n",
      "Epoch 00007: loss improved from 10.50270 to 10.41429, saving model to model_FOODS_3_ev.h5\n",
      "258/258 [==============================] - 123s 476ms/step - loss: 10.4143\n",
      "Epoch 8/50\n",
      "258/258 [==============================] - ETA: 0s - loss: 9.8398\n",
      "Epoch 00008: loss improved from 10.41429 to 9.83978, saving model to model_FOODS_3_ev.h5\n",
      "258/258 [==============================] - 124s 480ms/step - loss: 9.8398\n",
      "Predicting...\n",
      "Writing output...\n",
      "Done.\n"
     ]
    }
   ],
   "source": [
    "target_loss = 10\n",
    "\n",
    "model = Sequential()        \n",
    "model.add(LSTM(5, activation='relu', input_shape=(n_steps_in, n_features)))\n",
    "# model.add(LSTM(5, activation='relu'))\n",
    "model.add(Dense(200))\n",
    "model.add(Dense(150))\n",
    "model.add(Dense(150))\n",
    "model.add(Dense(50))\n",
    "model.add(Dense(n_steps_out))\n",
    "model.compile(optimizer='adam', loss='mse')\n",
    "\n",
    "dept_name_to_train = 'FOODS_3'\n",
    "\n",
    "out_df = train_NN(df, dept_name_to_train, 50, model)\n",
    "out_df.to_csv(str(dept_name_to_train)+'_ev.csv', index=False)"
   ]
  },
  {
   "cell_type": "markdown",
   "metadata": {},
   "source": [
    "#### Training for Validation Data"
   ]
  },
  {
   "cell_type": "code",
   "execution_count": 2,
   "metadata": {},
   "outputs": [
    {
     "data": {
      "text/plain": [
       "['HOUSEHOLD_1',\n",
       " 'FOODS_3',\n",
       " 'FOODS_2',\n",
       " 'HOUSEHOLD_2',\n",
       " 'HOBBIES_2',\n",
       " 'FOODS_1',\n",
       " 'HOBBIES_1']"
      ]
     },
     "execution_count": 2,
     "metadata": {},
     "output_type": "execute_result"
    }
   ],
   "source": [
    "df = pd.read_csv('sales_train_validation.csv')\n",
    "dept_list = list(set(df.dept_id))\n",
    "dept_list"
   ]
  },
  {
   "cell_type": "code",
   "execution_count": 4,
   "metadata": {
    "jupyter": {
     "outputs_hidden": true
    }
   },
   "outputs": [
    {
     "name": "stdout",
     "output_type": "stream",
     "text": [
      "Working on Dept  HOBBIES_1 Total rows to process  4160\n",
      "Epoch 1/10\n",
      "130/130 [==============================] - ETA: 0s - loss: 943.8334\n",
      "Epoch 00001: loss improved from inf to 943.83337, saving model to model_HOBBIES_1_val.h5\n",
      "130/130 [==============================] - 129s 993ms/step - loss: 943.8334\n",
      "Epoch 2/10\n",
      "130/130 [==============================] - ETA: 0s - loss: 5.7984\n",
      "Epoch 00002: loss improved from 943.83337 to 5.79838, saving model to model_HOBBIES_1_val.h5\n",
      "130/130 [==============================] - 131s 1s/step - loss: 5.7984\n",
      "Epoch 3/10\n",
      "130/130 [==============================] - ETA: 0s - loss: 5.3707\n",
      "Epoch 00003: loss improved from 5.79838 to 5.37069, saving model to model_HOBBIES_1_val.h5\n",
      "130/130 [==============================] - 132s 1s/step - loss: 5.3707\n",
      "Epoch 4/10\n",
      "130/130 [==============================] - ETA: 0s - loss: 5.2914\n",
      "Epoch 00004: loss improved from 5.37069 to 5.29143, saving model to model_HOBBIES_1_val.h5\n",
      "130/130 [==============================] - 133s 1s/step - loss: 5.2914\n",
      "Epoch 5/10\n",
      "130/130 [==============================] - ETA: 0s - loss: 5.1923\n",
      "Epoch 00005: loss improved from 5.29143 to 5.19235, saving model to model_HOBBIES_1_val.h5\n",
      "130/130 [==============================] - 133s 1s/step - loss: 5.1923\n",
      "Epoch 6/10\n",
      "130/130 [==============================] - ETA: 0s - loss: 5.1129\n",
      "Epoch 00006: loss improved from 5.19235 to 5.11294, saving model to model_HOBBIES_1_val.h5\n",
      "130/130 [==============================] - 132s 1s/step - loss: 5.1129\n",
      "Epoch 7/10\n",
      "130/130 [==============================] - ETA: 0s - loss: 5.0479\n",
      "Epoch 00007: loss improved from 5.11294 to 5.04791, saving model to model_HOBBIES_1_val.h5\n",
      "130/130 [==============================] - 134s 1s/step - loss: 5.0479\n",
      "Epoch 8/10\n",
      "130/130 [==============================] - ETA: 0s - loss: 4.9936\n",
      "Epoch 00008: loss improved from 5.04791 to 4.99363, saving model to model_HOBBIES_1_val.h5\n",
      "130/130 [==============================] - 134s 1s/step - loss: 4.9936\n",
      "Epoch 9/10\n",
      "130/130 [==============================] - ETA: 0s - loss: 4.9478\n",
      "Epoch 00009: loss improved from 4.99363 to 4.94776, saving model to model_HOBBIES_1_val.h5\n",
      "130/130 [==============================] - 134s 1s/step - loss: 4.9478\n",
      "Epoch 10/10\n",
      "130/130 [==============================] - ETA: 0s - loss: 4.9078\n",
      "Epoch 00010: loss improved from 4.94776 to 4.90781, saving model to model_HOBBIES_1_val.h5\n",
      "130/130 [==============================] - 135s 1s/step - loss: 4.9078\n",
      "Predicting...\n",
      "Writing output...\n",
      "Done.\n"
     ]
    }
   ],
   "source": [
    "target_loss = 4    \n",
    "\n",
    "model = Sequential()        \n",
    "model.add(LSTM(15, activation='relu', return_sequences=True, input_shape=(n_steps_in, n_features)))\n",
    "model.add(LSTM(2, activation='relu'))\n",
    "model.add(Dense(50))\n",
    "model.add(Dense(10))\n",
    "model.add(Dense(n_steps_out))\n",
    "model.compile(optimizer='adam', loss='mse')\n",
    "\n",
    "dept_name_to_train = 'HOBBIES_1'\n",
    "\n",
    "out_df = train_NN(df, dept_name_to_train, 10, model)\n",
    "out_df.to_csv(str(dept_name_to_train)+'_val.csv', index=False)"
   ]
  },
  {
   "cell_type": "code",
   "execution_count": 5,
   "metadata": {
    "jupyter": {
     "outputs_hidden": true
    }
   },
   "outputs": [
    {
     "name": "stdout",
     "output_type": "stream",
     "text": [
      "Working on Dept  HOBBIES_2 Total rows to process  1490\n",
      "Epoch 1/10\n",
      "47/47 [==============================] - ETA: 0s - loss: 0.6868\n",
      "Epoch 00001: loss improved from inf to 0.68676, saving model to model_HOBBIES_2_val.h5\n",
      "47/47 [==============================] - 52s 1s/step - loss: 0.6868\n",
      "Predicting...\n",
      "Writing output...\n",
      "Done.\n"
     ]
    }
   ],
   "source": [
    "target_loss = 4    \n",
    "\n",
    "model = Sequential()        \n",
    "model.add(LSTM(4, activation='relu', return_sequences=True, input_shape=(n_steps_in, n_features)))\n",
    "model.add(LSTM(2, activation='relu'))\n",
    "# model.add(Dense(50))\n",
    "# model.add(Dense(10))\n",
    "model.add(Dense(n_steps_out))\n",
    "model.compile(optimizer='adam', loss='mse')\n",
    "\n",
    "dept_name_to_train = 'HOBBIES_2'\n",
    "\n",
    "out_df = train_NN(df, dept_name_to_train, 10, model)\n",
    "out_df.to_csv(str(dept_name_to_train)+'_val.csv', index=False)"
   ]
  },
  {
   "cell_type": "code",
   "execution_count": 3,
   "metadata": {
    "jupyter": {
     "outputs_hidden": true
    }
   },
   "outputs": [
    {
     "name": "stdout",
     "output_type": "stream",
     "text": [
      "Working on Dept  HOUSEHOLD_1 Total rows to process  5320\n",
      "Epoch 1/25\n",
      "167/167 [==============================] - ETA: 0s - loss: 10.1908\n",
      "Epoch 00001: loss improved from inf to 10.19076, saving model to model_HOUSEHOLD_1_val.h5\n",
      "167/167 [==============================] - 188s 1s/step - loss: 10.1908\n",
      "Epoch 2/25\n",
      "167/167 [==============================] - ETA: 0s - loss: 7.6923\n",
      "Epoch 00002: loss improved from 10.19076 to 7.69227, saving model to model_HOUSEHOLD_1_val.h5\n",
      "167/167 [==============================] - 210s 1s/step - loss: 7.6923\n",
      "Predicting...\n",
      "Writing output...\n",
      "Done.\n"
     ]
    }
   ],
   "source": [
    "target_loss = 7.85         \n",
    "\n",
    "model = Sequential()        \n",
    "model.add(LSTM(5, activation='relu', return_sequences=True, input_shape=(n_steps_in, n_features)))\n",
    "model.add(LSTM(2, activation='relu'))\n",
    "model.add(Dense(50))\n",
    "model.add(Dense(10))\n",
    "model.add(Dense(n_steps_out))\n",
    "model.compile(optimizer='adam', loss='mse')\n",
    "\n",
    "dept_name_to_train = 'HOUSEHOLD_1'\n",
    "\n",
    "out_df = train_NN(df, dept_name_to_train, 25, model)\n",
    "out_df.to_csv(str(dept_name_to_train)+'_val.csv', index=False)"
   ]
  },
  {
   "cell_type": "code",
   "execution_count": 4,
   "metadata": {
    "jupyter": {
     "outputs_hidden": true
    }
   },
   "outputs": [
    {
     "name": "stdout",
     "output_type": "stream",
     "text": [
      "Working on Dept  HOUSEHOLD_2 Total rows to process  5150\n",
      "Epoch 1/10\n",
      "161/161 [==============================] - ETA: 0s - loss: 0.9760\n",
      "Epoch 00001: loss improved from inf to 0.97595, saving model to model_HOUSEHOLD_2_val.h5\n",
      "161/161 [==============================] - 176s 1s/step - loss: 0.9760\n",
      "Predicting...\n",
      "Writing output...\n",
      "Done.\n"
     ]
    }
   ],
   "source": [
    "target_loss = 4  \n",
    "\n",
    "model = Sequential()        \n",
    "model.add(LSTM(5, activation='relu', return_sequences=True, input_shape=(n_steps_in, n_features)))\n",
    "model.add(LSTM(2, activation='relu'))\n",
    "model.add(Dense(50))\n",
    "model.add(Dense(10))\n",
    "model.add(Dense(n_steps_out))\n",
    "model.compile(optimizer='adam', loss='mse')\n",
    "    \n",
    "dept_name_to_train = 'HOUSEHOLD_2'\n",
    "\n",
    "out_df = train_NN(df, dept_name_to_train, 10, model)\n",
    "out_df.to_csv(str(dept_name_to_train)+'_val.csv', index=False)"
   ]
  },
  {
   "cell_type": "code",
   "execution_count": 4,
   "metadata": {
    "jupyter": {
     "outputs_hidden": true
    }
   },
   "outputs": [
    {
     "name": "stdout",
     "output_type": "stream",
     "text": [
      "Working on Dept  FOODS_1 Total rows to process  2160\n",
      "Epoch 1/10\n",
      "68/68 [==============================] - ETA: 0s - loss: 10.0527\n",
      "Epoch 00001: loss improved from inf to 10.05268, saving model to model_FOODS_1_val.h5\n",
      "68/68 [==============================] - 78s 1s/step - loss: 10.0527\n",
      "Epoch 2/10\n",
      "68/68 [==============================] - ETA: 0s - loss: 9.0912\n",
      "Epoch 00002: loss improved from 10.05268 to 9.09118, saving model to model_FOODS_1_val.h5\n",
      "68/68 [==============================] - 77s 1s/step - loss: 9.0912\n",
      "Epoch 3/10\n",
      "68/68 [==============================] - ETA: 0s - loss: 8.6219\n",
      "Epoch 00003: loss improved from 9.09118 to 8.62195, saving model to model_FOODS_1_val.h5\n",
      "68/68 [==============================] - 78s 1s/step - loss: 8.6219\n",
      "Epoch 4/10\n",
      "68/68 [==============================] - ETA: 0s - loss: 24.8518\n",
      "Epoch 00004: loss did not improve from 8.62195\n",
      "68/68 [==============================] - 78s 1s/step - loss: 24.8518\n",
      "Epoch 5/10\n",
      "68/68 [==============================] - ETA: 0s - loss: 8.0123\n",
      "Epoch 00005: loss improved from 8.62195 to 8.01234, saving model to model_FOODS_1_val.h5\n",
      "68/68 [==============================] - 78s 1s/step - loss: 8.0123\n",
      "Epoch 6/10\n",
      "68/68 [==============================] - ETA: 0s - loss: 7.9121\n",
      "Epoch 00006: loss improved from 8.01234 to 7.91213, saving model to model_FOODS_1_val.h5\n",
      "68/68 [==============================] - 77s 1s/step - loss: 7.9121\n",
      "Epoch 7/10\n",
      "68/68 [==============================] - ETA: 0s - loss: 7.8181\n",
      "Epoch 00007: loss improved from 7.91213 to 7.81812, saving model to model_FOODS_1_val.h5\n",
      "68/68 [==============================] - 78s 1s/step - loss: 7.8181\n",
      "Epoch 8/10\n",
      "68/68 [==============================] - ETA: 0s - loss: 7.7126\n",
      "Epoch 00008: loss improved from 7.81812 to 7.71258, saving model to model_FOODS_1_val.h5\n",
      "68/68 [==============================] - 78s 1s/step - loss: 7.7126\n",
      "Epoch 9/10\n",
      "68/68 [==============================] - ETA: 0s - loss: 8.5615\n",
      "Epoch 00009: loss did not improve from 7.71258\n",
      "68/68 [==============================] - 78s 1s/step - loss: 8.5615\n",
      "Epoch 10/10\n",
      "68/68 [==============================] - ETA: 0s - loss: 7.6730\n",
      "Epoch 00010: loss improved from 7.71258 to 7.67303, saving model to model_FOODS_1_val.h5\n",
      "68/68 [==============================] - 77s 1s/step - loss: 7.6730\n",
      "Predicting...\n",
      "Writing output...\n",
      "Done.\n"
     ]
    }
   ],
   "source": [
    "target_loss = 7\n",
    "\n",
    "model = Sequential()        \n",
    "model.add(LSTM(5, activation='relu', return_sequences=True, input_shape=(n_steps_in, n_features)))\n",
    "model.add(LSTM(2, activation='relu'))\n",
    "model.add(Dense(50))\n",
    "model.add(Dense(10))\n",
    "model.add(Dense(n_steps_out))\n",
    "model.compile(optimizer='adam', loss='mse')\n",
    "\n",
    "dept_name_to_train = 'FOODS_1'\n",
    "\n",
    "out_df = train_NN(df, dept_name_to_train, 10, model)\n",
    "out_df.to_csv(str(dept_name_to_train)+'_val.csv', index=False)"
   ]
  },
  {
   "cell_type": "code",
   "execution_count": 3,
   "metadata": {
    "jupyter": {
     "outputs_hidden": true
    }
   },
   "outputs": [
    {
     "name": "stdout",
     "output_type": "stream",
     "text": [
      "Working on Dept  FOODS_2 Total rows to process  3980\n",
      "Epoch 1/5\n",
      "125/125 [==============================] - ETA: 0s - loss: 10.1698\n",
      "Epoch 00001: loss improved from inf to 10.16980, saving model to model_FOODS_2_val.h5\n",
      "125/125 [==============================] - 145s 1s/step - loss: 10.1698\n",
      "Epoch 2/5\n",
      "125/125 [==============================] - ETA: 0s - loss: 8.6213\n",
      "Epoch 00002: loss improved from 10.16980 to 8.62132, saving model to model_FOODS_2_val.h5\n",
      "125/125 [==============================] - 142s 1s/step - loss: 8.6213\n",
      "Epoch 3/5\n",
      "125/125 [==============================] - ETA: 0s - loss: 8.1953\n",
      "Epoch 00003: loss improved from 8.62132 to 8.19530, saving model to model_FOODS_2_val.h5\n",
      "125/125 [==============================] - 142s 1s/step - loss: 8.1953\n",
      "Epoch 4/5\n",
      "125/125 [==============================] - ETA: 0s - loss: 7.9333\n",
      "Epoch 00004: loss improved from 8.19530 to 7.93329, saving model to model_FOODS_2_val.h5\n",
      "125/125 [==============================] - 142s 1s/step - loss: 7.9333\n",
      "Epoch 5/5\n",
      "125/125 [==============================] - ETA: 0s - loss: 8.0342\n",
      "Epoch 00005: loss did not improve from 7.93329\n",
      "125/125 [==============================] - 140s 1s/step - loss: 8.0342\n",
      "Predicting...\n",
      "Writing output...\n",
      "Done.\n"
     ]
    }
   ],
   "source": [
    "target_loss = 5\n",
    "\n",
    "model = Sequential()        \n",
    "model.add(LSTM(5, activation='relu', return_sequences=True, input_shape=(n_steps_in, n_features)))\n",
    "model.add(LSTM(2, activation='relu'))\n",
    "model.add(Dense(50))\n",
    "model.add(Dense(10))\n",
    "model.add(Dense(n_steps_out))\n",
    "model.compile(optimizer='adam', loss='mse')\n",
    "\n",
    "dept_name_to_train = 'FOODS_2'\n",
    "\n",
    "out_df = train_NN(df, dept_name_to_train, 5, model)\n",
    "out_df.to_csv(str(dept_name_to_train)+'_val.csv', index=False)"
   ]
  },
  {
   "cell_type": "code",
   "execution_count": 6,
   "metadata": {},
   "outputs": [
    {
     "name": "stdout",
     "output_type": "stream",
     "text": [
      "Working on Dept  FOODS_3 Total rows to process  8230\n",
      "Epoch 1/50\n",
      "258/258 [==============================] - ETA: 0s - loss: 50.1227\n",
      "Epoch 00001: loss improved from inf to 50.12270, saving model to model_FOODS_3_val.h5\n",
      "258/258 [==============================] - 126s 488ms/step - loss: 50.1227\n",
      "Epoch 2/50\n",
      "258/258 [==============================] - ETA: 0s - loss: 10.5447\n",
      "Epoch 00002: loss improved from 50.12270 to 10.54469, saving model to model_FOODS_3_val.h5\n",
      "258/258 [==============================] - 123s 478ms/step - loss: 10.5447\n",
      "Predicting...\n",
      "Writing output...\n",
      "Done.\n"
     ]
    }
   ],
   "source": [
    "target_loss = 14\n",
    "\n",
    "model = Sequential()        \n",
    "model.add(LSTM(5, activation='relu', input_shape=(n_steps_in, n_features)))\n",
    "# model.add(LSTM(5, activation='relu'))\n",
    "model.add(Dense(200))\n",
    "model.add(Dense(150))\n",
    "model.add(Dense(150))\n",
    "model.add(Dense(50))\n",
    "model.add(Dense(n_steps_out))\n",
    "model.compile(optimizer='adam', loss='mse')\n",
    "\n",
    "dept_name_to_train = 'FOODS_3'\n",
    "\n",
    "out_df = train_NN(df, dept_name_to_train, 50, model)\n",
    "out_df.to_csv(str(dept_name_to_train)+'_val.csv', index=False)"
   ]
  },
  {
   "cell_type": "markdown",
   "metadata": {},
   "source": [
    "#### Merging outputs for all departments"
   ]
  },
  {
   "cell_type": "code",
   "execution_count": 25,
   "metadata": {},
   "outputs": [],
   "source": [
    "def fun(name):\n",
    "    return pd.read_csv(name+'.csv')\n",
    "\n",
    "food1ev, food2ev, food3ev = fun('FOODS_1_ev'), fun('FOODS_2_ev'), fun('FOODS_3_ev')\n",
    "hobbies1ev, hobbies2ev = fun('HOBBIES_1_ev'), fun('HOBBIES_2_ev')\n",
    "house1ev, house2ev = fun('HOUSEHOLD_1_ev'), fun('HOUSEHOLD_2_ev')\n",
    "\n",
    "food1val, food2val, food3val = fun('FOODS_1_val'), fun('FOODS_2_val'), fun('FOODS_3_val')\n",
    "hobbies1val, hobbies2val = fun('HOBBIES_1_val'), fun('HOBBIES_2_val')\n",
    "house1val, house2val = fun('HOUSEHOLD_1_val'), fun('HOUSEHOLD_2_val')"
   ]
  },
  {
   "cell_type": "code",
   "execution_count": 26,
   "metadata": {},
   "outputs": [],
   "source": [
    "main_out_df_ev = pd.concat([food1ev, food2ev, food3ev, hobbies1ev, hobbies2ev, house1ev, house2ev], \n",
    "                           ignore_index=False)\n",
    "main_out_df_val = pd.concat([food1val, food2val, food3val, hobbies1val, hobbies2val, house1val, house2val],\n",
    "                            ignore_index=False)"
   ]
  },
  {
   "cell_type": "code",
   "execution_count": 27,
   "metadata": {},
   "outputs": [],
   "source": [
    "def reorder(df, main_out):\n",
    "    df['sp_index'] = (df.index)\n",
    "    index_dict = dict(zip(df.id, df.sp_index))\n",
    "    df = df.drop('sp_index', axis=1)\n",
    "    main_out['sp_index'] = main_out[\"id\"].map(index_dict)\n",
    "    main_out = main_out.sort_values(by='sp_index', axis=0)\n",
    "    main_out = main_out.drop('sp_index', axis=1)\n",
    "    return main_out"
   ]
  },
  {
   "cell_type": "code",
   "execution_count": 28,
   "metadata": {},
   "outputs": [],
   "source": [
    "out_1 = reorder(pd.read_csv('sales_train_evaluation.csv'), main_out_df_ev)\n",
    "out_2 = reorder(pd.read_csv('sales_train_validation.csv'), main_out_df_val)"
   ]
  },
  {
   "cell_type": "code",
   "execution_count": 29,
   "metadata": {},
   "outputs": [],
   "source": [
    "df = pd.concat([out_1, out_2], ignore_index=False)\n",
    "df.to_csv('submissible_nn.csv')"
   ]
  },
  {
   "cell_type": "code",
   "execution_count": 33,
   "metadata": {},
   "outputs": [],
   "source": [
    "df = df.round(2)\n",
    "df.to_csv('submissible_nn.csv')"
   ]
  }
 ],
 "metadata": {
  "kernelspec": {
   "display_name": "Python 3",
   "language": "python",
   "name": "python3"
  },
  "language_info": {
   "codemirror_mode": {
    "name": "ipython",
    "version": 3
   },
   "file_extension": ".py",
   "mimetype": "text/x-python",
   "name": "python",
   "nbconvert_exporter": "python",
   "pygments_lexer": "ipython3",
   "version": "3.8.5"
  },
  "toc": {
   "base_numbering": 1,
   "nav_menu": {},
   "number_sections": true,
   "sideBar": true,
   "skip_h1_title": false,
   "title_cell": "Table of Contents",
   "title_sidebar": "Contents",
   "toc_cell": false,
   "toc_position": {},
   "toc_section_display": true,
   "toc_window_display": false
  }
 },
 "nbformat": 4,
 "nbformat_minor": 4
}
